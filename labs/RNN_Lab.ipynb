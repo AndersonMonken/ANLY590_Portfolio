{
 "cells": [
  {
   "cell_type": "code",
   "execution_count": 36,
   "metadata": {
    "id": "XOkBF0K6P6MC"
   },
   "outputs": [
    {
     "name": "stderr",
     "output_type": "stream",
     "text": [
      "In /opt/anaconda3/lib/python3.7/site-packages/matplotlib/mpl-data/stylelib/_classic_test.mplstyle: \n",
      "The text.latex.preview rcparam was deprecated in Matplotlib 3.3 and will be removed two minor releases later.\n",
      "In /opt/anaconda3/lib/python3.7/site-packages/matplotlib/mpl-data/stylelib/_classic_test.mplstyle: \n",
      "The mathtext.fallback_to_cm rcparam was deprecated in Matplotlib 3.3 and will be removed two minor releases later.\n",
      "In /opt/anaconda3/lib/python3.7/site-packages/matplotlib/mpl-data/stylelib/_classic_test.mplstyle: Support for setting the 'mathtext.fallback_to_cm' rcParam is deprecated since 3.3 and will be removed two minor releases later; use 'mathtext.fallback : 'cm' instead.\n",
      "In /opt/anaconda3/lib/python3.7/site-packages/matplotlib/mpl-data/stylelib/_classic_test.mplstyle: \n",
      "The validate_bool_maybe_none function was deprecated in Matplotlib 3.3 and will be removed two minor releases later.\n",
      "In /opt/anaconda3/lib/python3.7/site-packages/matplotlib/mpl-data/stylelib/_classic_test.mplstyle: \n",
      "The savefig.jpeg_quality rcparam was deprecated in Matplotlib 3.3 and will be removed two minor releases later.\n",
      "In /opt/anaconda3/lib/python3.7/site-packages/matplotlib/mpl-data/stylelib/_classic_test.mplstyle: \n",
      "The keymap.all_axes rcparam was deprecated in Matplotlib 3.3 and will be removed two minor releases later.\n",
      "In /opt/anaconda3/lib/python3.7/site-packages/matplotlib/mpl-data/stylelib/_classic_test.mplstyle: \n",
      "The animation.avconv_path rcparam was deprecated in Matplotlib 3.3 and will be removed two minor releases later.\n",
      "In /opt/anaconda3/lib/python3.7/site-packages/matplotlib/mpl-data/stylelib/_classic_test.mplstyle: \n",
      "The animation.avconv_args rcparam was deprecated in Matplotlib 3.3 and will be removed two minor releases later.\n"
     ]
    }
   ],
   "source": [
    "import tensorflow as tf\n",
    "import tensorflow.keras as tfk\n",
    "import tensorflow.keras.layers as tfkl\n",
    "from tensorflow.keras.models import Sequential\n",
    "import matplotlib.pyplot as plt\n",
    "\n",
    "#from google.colab import drive\n",
    "import numpy as np\n",
    "import pandas as pd"
   ]
  },
  {
   "cell_type": "markdown",
   "metadata": {
    "id": "KdCU982WwzFo"
   },
   "source": [
    "In this example, we're going to train a [CharRNN](http://karpathy.github.io/2015/05/21/rnn-effectiveness/) on a body of Shakespearian text. Ultimtely, this is an unsuperived learning task. But similar to our previous explorations in unsupervised DL, we will use an unlabeled dataset and create many samples of labeled data that we can use with our familiar supervised loss functions. The result will be a model that has learned the statistical properties of the input text, and can then be considered a \"generative\" model of language because we can use it to generate synthetic passages of Shakespeare.  "
   ]
  },
  {
   "cell_type": "code",
   "execution_count": 2,
   "metadata": {
    "id": "dX7qrncTRKN0"
   },
   "outputs": [],
   "source": [
    "#drive.mount('/content/gdrive/')"
   ]
  },
  {
   "cell_type": "code",
   "execution_count": 3,
   "metadata": {
    "id": "6iek9QSARq1L"
   },
   "outputs": [],
   "source": [
    "file_path = \"shakespeare.txt\"\n",
    "\n",
    "with open(file_path,\"r\") as f:\n",
    "  text = f.read()"
   ]
  },
  {
   "cell_type": "markdown",
   "metadata": {
    "id": "ie2LtLF4Vv6A"
   },
   "source": [
    "We've loaded our Shakespeare text, let's take a look at a random snippet."
   ]
  },
  {
   "cell_type": "code",
   "execution_count": 4,
   "metadata": {
    "colab": {
     "base_uri": "https://localhost:8080/"
    },
    "id": "LVFmTUsGWePe",
    "outputId": "b03893e8-f3c8-4d8e-e8b0-9e61699f440f"
   },
   "outputs": [
    {
     "name": "stdout",
     "output_type": "stream",
     "text": [
      " lies i' the second chamber?\n",
      "  LADY MACBETH. Donalbain.\n",
      "  MACBETH. This is a sorry sight.           [Looks on his hands.\n",
      "  LADY MACBETH. A foolish thought, to say a sorry sight.\n",
      "  MACBETH. There's one did laugh in 's sleep, and one cried,\n",
      "      \"Murther!\"\n",
      "    That they did wake each other. I stood and heard them,\n",
      "    But they did say their prayers and address'd them\n",
      "    Again to sleep.\n",
      "  LADY MACB\n"
     ]
    }
   ],
   "source": [
    "print(text[31600:32000])"
   ]
  },
  {
   "cell_type": "markdown",
   "metadata": {
    "id": "qLXQHFUsW0xu"
   },
   "source": [
    "We need to convert our text into numeric arrays, the next several blocks accomplish this.\n",
    "\n",
    "First, we'll create a mapping between characters and their numeric index. We'll also create the reverse mapping, which is useful."
   ]
  },
  {
   "cell_type": "code",
   "execution_count": 5,
   "metadata": {
    "colab": {
     "base_uri": "https://localhost:8080/"
    },
    "id": "UkvcQEUASXQG",
    "outputId": "bd84d04c-0e0a-48a1-e5dc-999c683a80c1"
   },
   "outputs": [
    {
     "name": "stdout",
     "output_type": "stream",
     "text": [
      "total chars: 75\n"
     ]
    }
   ],
   "source": [
    "chars = sorted(list(set(text)))\n",
    "print('total chars:', len(chars))\n",
    "char_indices = dict((c, i) for i, c in enumerate(chars))\n",
    "indices_char = dict((i, c) for i, c in enumerate(chars))"
   ]
  },
  {
   "cell_type": "markdown",
   "metadata": {
    "id": "XexyPZdAXC0p"
   },
   "source": [
    "Next, we'll create a training set of sub-sequences. Remember, we're trying to train a model to be able to predict the next chracter if it is given several characters of a subsequence. So we will create training pairs where each X is a fixed-length subsequences and each Y is the corresponding next letter in the text."
   ]
  },
  {
   "cell_type": "code",
   "execution_count": 6,
   "metadata": {
    "colab": {
     "base_uri": "https://localhost:8080/"
    },
    "id": "ej4RdC76S7RB",
    "outputId": "83f06f97-9ec9-4b84-ac86-5ea7fe4deee8"
   },
   "outputs": [
    {
     "name": "stdout",
     "output_type": "stream",
     "text": [
      "nb sequences: 38700\n"
     ]
    }
   ],
   "source": [
    "maxlen = 40\n",
    "step = 3\n",
    "sub_sequences = []\n",
    "next_chars = []\n",
    "for i in range(0, len(text) - maxlen, step):\n",
    "    sub_sequences.append(text[i: i + maxlen])\n",
    "    next_chars.append(text[i + maxlen])\n",
    "print('nb sequences:', len(sub_sequences))"
   ]
  },
  {
   "cell_type": "code",
   "execution_count": 7,
   "metadata": {
    "colab": {
     "base_uri": "https://localhost:8080/"
    },
    "id": "QVHru3qPWX8Z",
    "outputId": "00758db3-ed36-4be3-df25-0fa7c46d5fcd"
   },
   "outputs": [
    {
     "name": "stdout",
     "output_type": "stream",
     "text": [
      "(Sequence):\n",
      "ne of Cawdor lives. Why do you dress me\n",
      "\n",
      "\n",
      "(Target Character): \n",
      " \n"
     ]
    }
   ],
   "source": [
    "k=3564\n",
    "print(\"(Sequence):\\n\" + sub_sequences[k])\n",
    "print(\"\\n(Target Character): \\n\" + next_chars[k])"
   ]
  },
  {
   "cell_type": "markdown",
   "metadata": {
    "id": "vD2QxlOAW8zQ"
   },
   "source": [
    "Next we'll create one-hot vectors for our sub-sequences. The tensor we create here will be shaped as (num_sequences x sequence_length x alphabet_size)."
   ]
  },
  {
   "cell_type": "code",
   "execution_count": 8,
   "metadata": {
    "id": "SfQRBmiNWehk"
   },
   "outputs": [],
   "source": [
    "X = np.zeros((len(sub_sequences), maxlen, len(chars)), dtype=np.uint8 )\n",
    "Y = np.zeros((len(sub_sequences), len(chars)), dtype=np.uint8)\n",
    "for i, seq in enumerate(sub_sequences):\n",
    "    for t, char in enumerate(seq):\n",
    "        X[i, t, char_indices[char]] = 1\n",
    "        Y[i, char_indices[next_chars[i]]] = 1"
   ]
  },
  {
   "cell_type": "code",
   "execution_count": 9,
   "metadata": {
    "colab": {
     "base_uri": "https://localhost:8080/"
    },
    "id": "U4qxjsGDXLtb",
    "outputId": "79472792-5f85-4e21-b6bb-41481cb532a6"
   },
   "outputs": [
    {
     "data": {
      "text/plain": [
       "array([0, 0, 0, 0, 0, 0, 0, 0, 0, 0, 0, 0, 0, 0, 0, 0, 0, 0, 0, 0, 0, 0,\n",
       "       0, 0, 0, 0, 0, 0, 0, 0, 0, 0, 0, 0, 0, 0, 0, 0, 0, 0, 0, 0, 0, 0,\n",
       "       0, 0, 0, 0, 0, 0, 0, 0, 0, 0, 0, 0, 0, 0, 0, 0, 0, 0, 0, 0, 0, 0,\n",
       "       0, 0, 0, 0, 0, 0, 0, 0, 1], dtype=uint8)"
      ]
     },
     "execution_count": 9,
     "metadata": {},
     "output_type": "execute_result"
    }
   ],
   "source": [
    "X[0,0,:]"
   ]
  },
  {
   "cell_type": "code",
   "execution_count": 10,
   "metadata": {
    "colab": {
     "base_uri": "https://localhost:8080/",
     "height": 86
    },
    "id": "423pgyKqXnE_",
    "outputId": "38e5fd04-3637-4463-ab2d-55ffb340830a"
   },
   "outputs": [
    {
     "data": {
      "text/plain": [
       "array([0, 0, 0, 0, 0, 0, 0, 0, 0, 0, 0, 0, 0, 0, 0, 0, 0, 0, 0, 0, 0, 0,\n",
       "       0, 0, 0, 0, 0, 0, 0, 0, 0, 0, 0, 0, 0, 0, 0, 0, 0, 0, 0, 0, 0, 0,\n",
       "       0, 0, 0, 0, 0, 0, 0, 0, 0, 0, 0, 0, 0, 0, 0, 0, 1, 0, 0, 0, 0, 0,\n",
       "       0, 0, 0, 0, 0, 0, 0, 0, 0], dtype=uint8)"
      ]
     },
     "execution_count": 10,
     "metadata": {},
     "output_type": "execute_result"
    }
   ],
   "source": [
    "Y[0]"
   ]
  },
  {
   "cell_type": "markdown",
   "metadata": {
    "id": "2dJrr1caYVnI"
   },
   "source": [
    "Our RNN model will be quite simple."
   ]
  },
  {
   "cell_type": "code",
   "execution_count": 11,
   "metadata": {},
   "outputs": [],
   "source": [
    "df_tf = tf.data.Dataset.from_tensor_slices((tf.cast(X, tf.uint8), tf.cast(Y, tf.uint8))).cache().batch(1028).repeat().prefetch(10)"
   ]
  },
  {
   "cell_type": "code",
   "execution_count": 12,
   "metadata": {
    "id": "95NSRVMpYGAT"
   },
   "outputs": [],
   "source": [
    "char_rnn = Sequential()\n",
    "char_rnn.add(tfkl.LSTM(128, input_shape=(maxlen, len(chars))))\n",
    "char_rnn.add(tfkl.Dense(len(chars),activation=\"softmax\"))"
   ]
  },
  {
   "cell_type": "code",
   "execution_count": 13,
   "metadata": {
    "id": "t4xdUMP_Y6iu"
   },
   "outputs": [],
   "source": [
    "char_rnn.compile(loss='categorical_crossentropy', optimizer=tfk.optimizers.RMSprop(lr=0.01))"
   ]
  },
  {
   "cell_type": "code",
   "execution_count": 14,
   "metadata": {
    "id": "KGDTEd0GZFNk"
   },
   "outputs": [
    {
     "name": "stdout",
     "output_type": "stream",
     "text": [
      "Epoch 1/20\n",
      "1000/1000 [==============================] - 9s 9ms/step - loss: 1.5457\n",
      "Epoch 2/20\n",
      "1000/1000 [==============================] - 8s 8ms/step - loss: 0.7721\n",
      "Epoch 3/20\n",
      "1000/1000 [==============================] - 8s 8ms/step - loss: 0.5617\n",
      "Epoch 4/20\n",
      "1000/1000 [==============================] - 8s 8ms/step - loss: 0.4438\n",
      "Epoch 5/20\n",
      "1000/1000 [==============================] - 9s 9ms/step - loss: 0.3683\n",
      "Epoch 6/20\n",
      "1000/1000 [==============================] - 9s 9ms/step - loss: 0.3206\n",
      "Epoch 7/20\n",
      "1000/1000 [==============================] - 9s 9ms/step - loss: 0.2834\n",
      "Epoch 8/20\n",
      "1000/1000 [==============================] - 9s 9ms/step - loss: 0.2560\n",
      "Epoch 9/20\n",
      "1000/1000 [==============================] - 9s 9ms/step - loss: 0.2334\n",
      "Epoch 10/20\n",
      "1000/1000 [==============================] - 9s 9ms/step - loss: 0.2184\n",
      "Epoch 11/20\n",
      "1000/1000 [==============================] - 9s 9ms/step - loss: 0.2042\n",
      "Epoch 12/20\n",
      "1000/1000 [==============================] - 9s 9ms/step - loss: 0.1937\n",
      "Epoch 13/20\n",
      "1000/1000 [==============================] - 9s 9ms/step - loss: 0.1827\n",
      "Epoch 14/20\n",
      "1000/1000 [==============================] - 9s 9ms/step - loss: 0.1746\n",
      "Epoch 15/20\n",
      "1000/1000 [==============================] - 9s 9ms/step - loss: 0.1672\n",
      "Epoch 16/20\n",
      "1000/1000 [==============================] - 9s 9ms/step - loss: 0.1602\n",
      "Epoch 17/20\n",
      "1000/1000 [==============================] - 9s 9ms/step - loss: 0.1555\n",
      "Epoch 18/20\n",
      "1000/1000 [==============================] - 9s 9ms/step - loss: 0.1485\n",
      "Epoch 19/20\n",
      "1000/1000 [==============================] - 9s 9ms/step - loss: 0.1450\n",
      "Epoch 20/20\n",
      "1000/1000 [==============================] - 9s 9ms/step - loss: 0.1418\n"
     ]
    }
   ],
   "source": [
    "results = char_rnn.fit(df_tf, epochs=20,steps_per_epoch = 1000, batch_size=1024)"
   ]
  },
  {
   "cell_type": "markdown",
   "metadata": {
    "id": "6hhAWPgRX96V"
   },
   "source": [
    "Once we have a trained model, we can simulate new text by making predictions about the next character and then drawing characters in proportion to the predicted probabilities. And then simple repeat that process over and over, each time drawing the next character."
   ]
  },
  {
   "cell_type": "code",
   "execution_count": 15,
   "metadata": {
    "id": "IMpJwYSsZSoc"
   },
   "outputs": [],
   "source": [
    "def draw_char(probs):\n",
    "    probs = np.asarray(probs).astype('float64')\n",
    "    if sum(probs) != 1.0:\n",
    "      probs = probs / np.sum(probs)\n",
    "    draw = np.random.choice(range(len(probs)) , p=probs)\n",
    "    return draw\n",
    "\n",
    "def sample_text(model, sample_length=100):\n",
    "    start = np.random.randint(0, len(text) - maxlen - 1)\n",
    "    sequence = text[start: start + maxlen]\n",
    "  \n",
    "    x_preds = np.zeros((sample_length, maxlen, len(chars)))\n",
    "    for i in range(sample_length):\n",
    "        for t, char in enumerate(sequence[-maxlen:]):\n",
    "            x_preds[i, t, char_indices[char]] = 1.\n",
    "\n",
    "        preds = model.predict(np.expand_dims(x_preds[i,:,:], axis=0), verbose=0)[0]\n",
    "        next_index = draw_char(preds)\n",
    "        next_char = indices_char[next_index]\n",
    "\n",
    "        sequence += next_char\n",
    "    return sequence"
   ]
  },
  {
   "cell_type": "code",
   "execution_count": 16,
   "metadata": {
    "id": "jHD5iDlHayL7"
   },
   "outputs": [],
   "source": [
    "sim = sample_text(char_rnn,sample_length=500) "
   ]
  },
  {
   "cell_type": "code",
   "execution_count": 17,
   "metadata": {
    "colab": {
     "base_uri": "https://localhost:8080/"
    },
    "id": "bOP0ljRtOEmp",
    "outputId": "6cf5352e-bf0f-49f0-d254-f49732856443"
   },
   "outputs": [
    {
     "name": "stdout",
     "output_type": "stream",
     "text": [
      "R. Where is your husband?\n",
      "  LADY MACDUFF. Every, a many of my way her, marmer,\n",
      "    For ithout may her? Gooch is pear, IGhe not, Macbeth'd seliech,\n",
      "    I saw upon thee they were with the think out\n",
      "    Thou art the knice and tore, my This midest fight.\n",
      "  ROSS. You bendem, to the can, and trains.\n",
      "  BANQUO. Here I hapl ob the hanle do the heact,\n",
      "    And pithen durner cortomen; here seest,\n",
      "    And so loval butbergul's rut farding.\n",
      "    Which is to the intus and fill.\n",
      "    Horest than should wellous here the dutcer'd bees,\n",
      "    And so lies liv\n"
     ]
    }
   ],
   "source": [
    "print(sim)"
   ]
  },
  {
   "cell_type": "markdown",
   "metadata": {
    "id": "Aj4kXg4BTbOc"
   },
   "source": [
    "Notice that we can do pretty well to learn the typical statistical patterns of this text and then simulate new text that appears to be very similar to legitimate Shakespeare. \n",
    "\n",
    "But just a caution - we can also do pretty well with a much simpler method (Markov model): http://nbviewer.jupyter.org/gist/yoavg/d76121dfde2618422139\n",
    "\n",
    "So the lesson is to try something simple before jumping right in to deep learning."
   ]
  },
  {
   "cell_type": "markdown",
   "metadata": {
    "id": "n5IE5xprp3RS"
   },
   "source": [
    "## Exercise"
   ]
  },
  {
   "cell_type": "markdown",
   "metadata": {
    "id": "HoN_s6nQsDdn"
   },
   "source": [
    "In this example, we're going to use an RNN for sequence classification. The task we'll set up is to generate a training set of randomized strings, and train our model to detect whether a string contains any vowels."
   ]
  },
  {
   "cell_type": "markdown",
   "metadata": {
    "id": "Isy5RPDdsTYT"
   },
   "source": [
    "First, we'll create a training dataset of short randomized character sequences and the corresponding label of whether or not they contain at least one vowel."
   ]
  },
  {
   "cell_type": "code",
   "execution_count": 18,
   "metadata": {
    "id": "hE6C-Xl6p5W7"
   },
   "outputs": [],
   "source": [
    "import string"
   ]
  },
  {
   "cell_type": "code",
   "execution_count": 19,
   "metadata": {
    "id": "CI7QA2Ewp-ZJ"
   },
   "outputs": [],
   "source": [
    "def contains_vowels(sequence):\n",
    "  vowels = [\"a\", \"e\", \"i\", \"o\", \"u\"]\n",
    "  return any([vowel in list(sequence) for vowel in vowels])"
   ]
  },
  {
   "cell_type": "code",
   "execution_count": 20,
   "metadata": {
    "colab": {
     "base_uri": "https://localhost:8080/"
    },
    "id": "oZ9cEhMrqtoG",
    "outputId": "17d2110a-4251-4ace-fe84-50bb30362d2e"
   },
   "outputs": [
    {
     "data": {
      "text/plain": [
       "True"
      ]
     },
     "execution_count": 20,
     "metadata": {},
     "output_type": "execute_result"
    }
   ],
   "source": [
    "contains_vowels(\"gradient\")"
   ]
  },
  {
   "cell_type": "code",
   "execution_count": 39,
   "metadata": {
    "id": "EwBEUPYwp9Z0"
   },
   "outputs": [],
   "source": [
    "sequences = []\n",
    "labels = []\n",
    "for i in range(10000):\n",
    " char_list = np.random.choice( list(string.ascii_lowercase), size = 5, replace=True)\n",
    " seq = \"\".join(char_list)\n",
    " sequences.append(seq)\n",
    " labels.append(int(contains_vowels(seq)))"
   ]
  },
  {
   "cell_type": "code",
   "execution_count": 40,
   "metadata": {
    "id": "IkJXdy5krgHn"
   },
   "outputs": [],
   "source": [
    "df = pd.DataFrame({\"sequence\": sequences, \"label\":labels})"
   ]
  },
  {
   "cell_type": "code",
   "execution_count": 41,
   "metadata": {
    "colab": {
     "base_uri": "https://localhost:8080/",
     "height": 206
    },
    "id": "ubAQf53Dr8zy",
    "outputId": "9ac91bda-3c6a-4e22-833a-44eb918e16d6"
   },
   "outputs": [
    {
     "data": {
      "text/html": [
       "<div>\n",
       "<style scoped>\n",
       "    .dataframe tbody tr th:only-of-type {\n",
       "        vertical-align: middle;\n",
       "    }\n",
       "\n",
       "    .dataframe tbody tr th {\n",
       "        vertical-align: top;\n",
       "    }\n",
       "\n",
       "    .dataframe thead th {\n",
       "        text-align: right;\n",
       "    }\n",
       "</style>\n",
       "<table border=\"1\" class=\"dataframe\">\n",
       "  <thead>\n",
       "    <tr style=\"text-align: right;\">\n",
       "      <th></th>\n",
       "      <th>sequence</th>\n",
       "      <th>label</th>\n",
       "    </tr>\n",
       "  </thead>\n",
       "  <tbody>\n",
       "    <tr>\n",
       "      <th>0</th>\n",
       "      <td>mgvyo</td>\n",
       "      <td>1</td>\n",
       "    </tr>\n",
       "    <tr>\n",
       "      <th>1</th>\n",
       "      <td>kfuuc</td>\n",
       "      <td>1</td>\n",
       "    </tr>\n",
       "    <tr>\n",
       "      <th>2</th>\n",
       "      <td>pdegy</td>\n",
       "      <td>1</td>\n",
       "    </tr>\n",
       "    <tr>\n",
       "      <th>3</th>\n",
       "      <td>zwijn</td>\n",
       "      <td>1</td>\n",
       "    </tr>\n",
       "    <tr>\n",
       "      <th>4</th>\n",
       "      <td>ojobv</td>\n",
       "      <td>1</td>\n",
       "    </tr>\n",
       "  </tbody>\n",
       "</table>\n",
       "</div>"
      ],
      "text/plain": [
       "  sequence  label\n",
       "0    mgvyo      1\n",
       "1    kfuuc      1\n",
       "2    pdegy      1\n",
       "3    zwijn      1\n",
       "4    ojobv      1"
      ]
     },
     "execution_count": 41,
     "metadata": {},
     "output_type": "execute_result"
    }
   ],
   "source": [
    "df.head()"
   ]
  },
  {
   "cell_type": "markdown",
   "metadata": {
    "id": "2xkX8Xa8sfID"
   },
   "source": [
    "Next, set up and train an RNN (of any type) to solve this task. What preprocessing will you need to do first on the raw data in order to prepare it for the network?"
   ]
  },
  {
   "cell_type": "code",
   "execution_count": 42,
   "metadata": {},
   "outputs": [],
   "source": [
    "vocab = list(string.ascii_lowercase)\n",
    "vocab_size = len(vocab)\n",
    "df['sequence_indices'] = df['sequence'].apply(lambda string: [vocab.index(s) for s in string])"
   ]
  },
  {
   "cell_type": "code",
   "execution_count": 25,
   "metadata": {
    "id": "6M4Sj4XHr9hj"
   },
   "outputs": [],
   "source": [
    "# Data Preprocessing\n",
    "# your code here\n",
    "preprocess = lambda df: (tf.one_hot(df['sequence_indices'], depth = vocab_size), df.cast(df['label'],tf.uint8))"
   ]
  },
  {
   "cell_type": "code",
   "execution_count": 43,
   "metadata": {},
   "outputs": [],
   "source": [
    "df_tf = (tf.data.Dataset.from_tensor_slices((tf.one_hot(np.array(df['sequence_indices'].to_list()), depth = vocab_size), \n",
    "                                            tf.cast(np.array(df['label']), tf.uint8)))\n",
    "         .cache()\n",
    "         .batch(1028)\n",
    "         .repeat()\n",
    "         .prefetch(10))"
   ]
  },
  {
   "cell_type": "code",
   "execution_count": 44,
   "metadata": {},
   "outputs": [
    {
     "data": {
      "text/plain": [
       "<PrefetchDataset shapes: ((None, 5, 26), (None,)), types: (tf.float32, tf.uint8)>"
      ]
     },
     "execution_count": 44,
     "metadata": {},
     "output_type": "execute_result"
    }
   ],
   "source": [
    "df_tf"
   ]
  },
  {
   "cell_type": "code",
   "execution_count": 45,
   "metadata": {
    "id": "Og8gtSgHslED"
   },
   "outputs": [],
   "source": [
    "# first attempt is LSTM as small as possible, only 1 RNN LSTM node\n",
    "char_rnn = Sequential()\n",
    "char_rnn.add(tfkl.LSTM(1, input_shape=(5, vocab_size)))\n",
    "char_rnn.add(tfkl.Dense(1,activation=\"sigmoid\"))\n",
    "char_rnn.compile(loss='binary_crossentropy', optimizer=tfk.optimizers.RMSprop(lr=0.01))"
   ]
  },
  {
   "cell_type": "code",
   "execution_count": 46,
   "metadata": {},
   "outputs": [
    {
     "name": "stdout",
     "output_type": "stream",
     "text": [
      "Model: \"sequential_4\"\n",
      "_________________________________________________________________\n",
      "Layer (type)                 Output Shape              Param #   \n",
      "=================================================================\n",
      "lstm_3 (LSTM)                (None, 1)                 112       \n",
      "_________________________________________________________________\n",
      "dense_4 (Dense)              (None, 1)                 2         \n",
      "=================================================================\n",
      "Total params: 114\n",
      "Trainable params: 114\n",
      "Non-trainable params: 0\n",
      "_________________________________________________________________\n"
     ]
    }
   ],
   "source": [
    "char_rnn.summary()"
   ]
  },
  {
   "cell_type": "code",
   "execution_count": 47,
   "metadata": {
    "id": "lSLXwJvJszDu"
   },
   "outputs": [
    {
     "name": "stdout",
     "output_type": "stream",
     "text": [
      "Epoch 1/5\n",
      "500/500 [==============================] - 1s 2ms/step - loss: 0.1373\n",
      "Epoch 2/5\n",
      "500/500 [==============================] - 1s 2ms/step - loss: 0.0010\n",
      "Epoch 3/5\n",
      "500/500 [==============================] - 1s 2ms/step - loss: 1.3726e-05\n",
      "Epoch 4/5\n",
      "500/500 [==============================] - 1s 2ms/step - loss: 2.8218e-07\n",
      "Epoch 5/5\n",
      "500/500 [==============================] - 1s 2ms/step - loss: 3.8774e-08\n"
     ]
    }
   ],
   "source": [
    "results = char_rnn.fit(df_tf, epochs=5,steps_per_epoch = 500, batch_size=1024)"
   ]
  },
  {
   "cell_type": "code",
   "execution_count": 48,
   "metadata": {},
   "outputs": [
    {
     "data": {
      "image/png": "[encoded data removed]",
      "text/plain": [
       "<Figure size 432x288 with 1 Axes>"
      ]
     },
     "metadata": {
      "needs_background": "light"
     },
     "output_type": "display_data"
    }
   ],
   "source": [
    "plt.plot(results.history[\"loss\"])\n",
    "plt.legend(labels=[\"train\"])\n",
    "plt.title(\"Loss as a function of model epochs\")\n",
    "\n",
    "plt.show()"
   ]
  },
  {
   "cell_type": "code",
   "execution_count": 49,
   "metadata": {},
   "outputs": [
    {
     "name": "stdout",
     "output_type": "stream",
     "text": [
      "Epoch 1/5\n",
      "500/500 [==============================] - 2s 3ms/step - loss: 0.1065\n",
      "Epoch 2/5\n",
      "500/500 [==============================] - 2s 3ms/step - loss: 1.4188e-05\n",
      "Epoch 3/5\n",
      "500/500 [==============================] - 2s 3ms/step - loss: 3.0149e-08\n",
      "Epoch 4/5\n",
      "500/500 [==============================] - 2s 3ms/step - loss: 1.5152e-08\n",
      "Epoch 5/5\n",
      "500/500 [==============================] - 2s 3ms/step - loss: 1.2024e-08\n"
     ]
    }
   ],
   "source": [
    "# Now try a simple RNN, I needed to use 2 nodes in order for the model to fit well\n",
    "char_rnn = Sequential()\n",
    "char_rnn.add(tfkl.SimpleRNN(2, input_shape=(5, vocab_size)))\n",
    "char_rnn.add(tfkl.Dense(1,activation=\"sigmoid\"))\n",
    "char_rnn.compile(loss='binary_crossentropy', optimizer=tfk.optimizers.RMSprop(lr=0.01))\n",
    "results = char_rnn.fit(df_tf, epochs=5,steps_per_epoch = 500, batch_size=1024)"
   ]
  },
  {
   "cell_type": "code",
   "execution_count": 50,
   "metadata": {},
   "outputs": [
    {
     "data": {
      "image/png": "[encoded data removed]",
      "text/plain": [
       "<Figure size 432x288 with 1 Axes>"
      ]
     },
     "metadata": {
      "needs_background": "light"
     },
     "output_type": "display_data"
    }
   ],
   "source": [
    "plt.plot(results.history[\"loss\"])\n",
    "plt.legend(labels=[\"train\"])\n",
    "plt.title(\"Loss as a function of model epochs\")\n",
    "\n",
    "plt.show()"
   ]
  },
  {
   "cell_type": "code",
   "execution_count": 51,
   "metadata": {},
   "outputs": [
    {
     "name": "stdout",
     "output_type": "stream",
     "text": [
      "Epoch 1/5\n",
      "1000/1000 [==============================] - 3s 3ms/step - loss: 0.5534\n",
      "Epoch 2/5\n",
      "1000/1000 [==============================] - 3s 3ms/step - loss: 0.5522\n",
      "Epoch 3/5\n",
      "1000/1000 [==============================] - 3s 3ms/step - loss: 0.5522\n",
      "Epoch 4/5\n",
      "1000/1000 [==============================] - 3s 3ms/step - loss: 0.5522\n",
      "Epoch 5/5\n",
      "1000/1000 [==============================] - 3s 3ms/step - loss: 0.5522\n"
     ]
    }
   ],
   "source": [
    "# Finally we test to see if a deep neural network can do the job.... it can't\n",
    "char_rnn = Sequential()\n",
    "char_rnn.add(tfkl.InputLayer((5, vocab_size)))\n",
    "char_rnn.add(tfkl.Dense(10,activation=\"relu\"))\n",
    "char_rnn.add(tfkl.Dense(100,activation=\"relu\"))\n",
    "char_rnn.add(tfkl.Dense(100,activation=\"relu\"))\n",
    "char_rnn.add(tfkl.Dense(50,activation=\"relu\"))\n",
    "char_rnn.add(tfkl.Dense(1,activation=\"sigmoid\"))\n",
    "char_rnn.compile(loss='binary_crossentropy', optimizer=tfk.optimizers.RMSprop(lr=0.01))\n",
    "results = char_rnn.fit(df_tf, epochs=5,steps_per_epoch = 1000, batch_size=1024)"
   ]
  },
  {
   "cell_type": "code",
   "execution_count": 172,
   "metadata": {},
   "outputs": [
    {
     "name": "stdout",
     "output_type": "stream",
     "text": [
      "Model: \"sequential_32\"\n",
      "_________________________________________________________________\n",
      "Layer (type)                 Output Shape              Param #   \n",
      "=================================================================\n",
      "dense_89 (Dense)             (None, 5, 10)             270       \n",
      "_________________________________________________________________\n",
      "dense_90 (Dense)             (None, 5, 100)            1100      \n",
      "_________________________________________________________________\n",
      "dense_91 (Dense)             (None, 5, 100)            10100     \n",
      "_________________________________________________________________\n",
      "dense_92 (Dense)             (None, 5, 50)             5050      \n",
      "_________________________________________________________________\n",
      "dense_93 (Dense)             (None, 5, 1)              51        \n",
      "=================================================================\n",
      "Total params: 16,571\n",
      "Trainable params: 16,571\n",
      "Non-trainable params: 0\n",
      "_________________________________________________________________\n"
     ]
    }
   ],
   "source": [
    "char_rnn.summary()"
   ]
  }
 ],
 "metadata": {
  "accelerator": "GPU",
  "colab": {
   "collapsed_sections": [],
   "name": "RNN Lab.ipynb",
   "provenance": []
  },
  "kernelspec": {
   "display_name": "tf",
   "language": "python",
   "name": "tf"
  },
  "language_info": {
   "codemirror_mode": {
    "name": "ipython",
    "version": 3
   },
   "file_extension": ".py",
   "mimetype": "text/x-python",
   "name": "python",
   "nbconvert_exporter": "python",
   "pygments_lexer": "ipython3",
   "version": "3.7.4"
  }
 },
 "nbformat": 4,
 "nbformat_minor": 4
}
