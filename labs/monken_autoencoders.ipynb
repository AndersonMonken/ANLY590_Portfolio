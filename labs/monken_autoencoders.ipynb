{
 "cells": [
  {
   "cell_type": "code",
   "execution_count": 1,
   "metadata": {
    "id": "1YwA2EdX0VdH"
   },
   "outputs": [],
   "source": [
    "import numpy as np\n",
    "import matplotlib.pyplot as plt\n",
    "import tensorflow as tf\n",
    "import tensorflow.keras as tfk\n",
    "import tensorflow_datasets as tfds\n",
    "\n",
    "tfkl = tfk.layers"
   ]
  },
  {
   "cell_type": "markdown",
   "metadata": {
    "id": "28GQwMhxEsYw"
   },
   "source": [
    "### MNIST data\n",
    "Here is some code to load the MNIST digit recognition dataet and associated metadata"
   ]
  },
  {
   "cell_type": "code",
   "execution_count": 2,
   "metadata": {
    "colab": {
     "base_uri": "https://localhost:8080/",
     "height": 656,
     "referenced_widgets": [
      "44fe5473bc604425a89d949b8b1fadca",
      "35b6da694ed74333b7ac16ef8928b9a6",
      "4566c85f8f8443acaa80591012be3a58",
      "d0a35b7f92744288a841cb1acc92031f",
      "ff8062801cd349138e84847e841ad017",
      "8b1429a6c67c4971a025459b59d4902a",
      "65ba0aac2b034021b9c4bfdc9c51670d",
      "3dbbdfa73cf84aac9fef3d22ee0de2a3"
     ]
    },
    "id": "23CAr5Fl03MF",
    "outputId": "bfc16ee9-e803-412c-efc8-d51f355094e6"
   },
   "outputs": [
    {
     "name": "stdout",
     "output_type": "stream",
     "text": [
      "tfds.core.DatasetInfo(\n",
      "    name='mnist',\n",
      "    version=3.0.1,\n",
      "    description='The MNIST database of handwritten digits.',\n",
      "    homepage='http://yann.lecun.com/exdb/mnist/',\n",
      "    features=FeaturesDict({\n",
      "        'image': Image(shape=(28, 28, 1), dtype=tf.uint8),\n",
      "        'label': ClassLabel(shape=(), dtype=tf.int64, num_classes=10),\n",
      "    }),\n",
      "    total_num_examples=70000,\n",
      "    splits={\n",
      "        'test': 10000,\n",
      "        'train': 60000,\n",
      "    },\n",
      "    supervised_keys=('image', 'label'),\n",
      "    citation=\"\"\"@article{lecun2010mnist,\n",
      "      title={MNIST handwritten digit database},\n",
      "      author={LeCun, Yann and Cortes, Corinna and Burges, CJ},\n",
      "      journal={ATT Labs [Online]. Available: http://yann.lecun.com/exdb/mnist},\n",
      "      volume={2},\n",
      "      year={2010}\n",
      "    }\"\"\",\n",
      "    redistribution_info=,\n",
      ")\n",
      "\n"
     ]
    }
   ],
   "source": [
    "data, info = tfds.load('mnist', with_info=True)\n",
    "print(info)"
   ]
  },
  {
   "cell_type": "markdown",
   "metadata": {
    "id": "5bevJSLhE_Lc"
   },
   "source": [
    "### Preprocessing\n",
    "\n",
    "Let's start by writting a preprocessing function.\n",
    "\n",
    "TensorFlow Datasets packages the MNIST data such that each element is a `dict` with two keys:\n",
    "- `image`: an array containing the image with shape (28, 28, 1), values of type `uint8`, and values between 0 and 255\n",
    "- `label`: An integer between 0 - 9 indicating the digit in the image\n",
    "\n",
    "Write a `preprocess` function that takes in one such element and prepares it for training an autoencoder. Things to make sure your function does:\n",
    "1. Cast the image to a `float32`\n",
    "2. Scale the values of the images so they are between 0 - 1\n",
    "3. Return a tuple with the transformed image and the label\n",
    "\n",
    "Then write another function called `ae_targets` that transforms this $(x, y)$ pair into the tuple that represents the input and target that are appropriate for an autoencoder.\n",
    "\n",
    "Finally, transform the originally dataset with the following steps:\n",
    "1. Grab the training dataset\n",
    "2. apply (i.e. \"map\") the preprocessing function\n",
    "3. apply the function to generate appropriate autoencoder targets\n",
    "3. cache the results (so you only to these tranformations the first time through the dataset)\n",
    "4. split the dataset into batches of size `32`\n",
    "5. set up the resulting dataset to repeat\n",
    "6. set up the resulting dataset to prefetch `5` elements\n",
    "\n",
    "(there is a chain of functions on the `Dataset` to do each of these!)"
   ]
  },
  {
   "cell_type": "code",
   "execution_count": 3,
   "metadata": {
    "id": "8aJJTNCR2VC1"
   },
   "outputs": [],
   "source": [
    "preprocess = lambda d: (tf.cast(d['image'], tf.float32) / 255., d['label'])\n",
    "ae_targets = lambda x, y: (x, x)"
   ]
  },
  {
   "cell_type": "code",
   "execution_count": 4,
   "metadata": {},
   "outputs": [],
   "source": [
    "ds_train = (data['train']\n",
    "            .map(preprocess)\n",
    "            .map(ae_targets)\n",
    "            .cache()\n",
    "            .batch(32)\n",
    "            .repeat()\n",
    "            .prefetch(5))\n",
    "ds_test = (data['test']\n",
    "           .map(preprocess)\n",
    "           .map(ae_targets)\n",
    "           .cache()\n",
    "           .batch(32)\n",
    "           .repeat()\n",
    "           .prefetch(5))"
   ]
  },
  {
   "cell_type": "markdown",
   "metadata": {
    "id": "IpQgVaNCHzMO"
   },
   "source": [
    "### TensorFlow function API + a simple autoencoder\n",
    "\n",
    "We will want to use the encoder and decoder from our autoencoder separately down the road. Here is some code to build a simple autoencoder with a single hidden layer using the TensorFlow 'functional API' to see show we can combine two submodels (in this case the encoder and the decoder) into on larger model."
   ]
  },
  {
   "cell_type": "code",
   "execution_count": 5,
   "metadata": {
    "colab": {
     "base_uri": "https://localhost:8080/",
     "height": 52
    },
    "id": "xoCZ3o72JYZY",
    "outputId": "969170d6-b73e-4370-bd35-3e28d9e0a455"
   },
   "outputs": [
    {
     "name": "stdout",
     "output_type": "stream",
     "text": [
      "(28, 28, 1)\n",
      "784\n"
     ]
    }
   ],
   "source": [
    "img_shape = info.features['image'].shape\n",
    "print(img_shape)\n",
    "print(np.prod(img_shape))"
   ]
  },
  {
   "cell_type": "code",
   "execution_count": 6,
   "metadata": {
    "colab": {
     "base_uri": "https://localhost:8080/",
     "height": 1000
    },
    "id": "QSo1qWNXJTzH",
    "outputId": "05638367-3728-4e43-de7c-613c001c5fa1"
   },
   "outputs": [
    {
     "name": "stdout",
     "output_type": "stream",
     "text": [
      "Model: \"sequential\"\n",
      "_________________________________________________________________\n",
      "Layer (type)                 Output Shape              Param #   \n",
      "=================================================================\n",
      "flatten (Flatten)            (None, 784)               0         \n",
      "_________________________________________________________________\n",
      "dense (Dense)                (None, 32)                25120     \n",
      "=================================================================\n",
      "Total params: 25,120\n",
      "Trainable params: 25,120\n",
      "Non-trainable params: 0\n",
      "_________________________________________________________________\n"
     ]
    }
   ],
   "source": [
    "encoder = tfk.Sequential([\n",
    "  tfkl.InputLayer(img_shape),\n",
    "  tfkl.Flatten(),\n",
    "  tfkl.Dense(32, activation=tf.nn.relu)\n",
    "])\n",
    "encoder.summary()"
   ]
  },
  {
   "cell_type": "code",
   "execution_count": 7,
   "metadata": {
    "colab": {
     "base_uri": "https://localhost:8080/",
     "height": 1000
    },
    "id": "QSo1qWNXJTzH",
    "outputId": "05638367-3728-4e43-de7c-613c001c5fa1"
   },
   "outputs": [
    {
     "name": "stdout",
     "output_type": "stream",
     "text": [
      "Model: \"sequential_1\"\n",
      "_________________________________________________________________\n",
      "Layer (type)                 Output Shape              Param #   \n",
      "=================================================================\n",
      "dense_1 (Dense)              (None, 784)               25872     \n",
      "_________________________________________________________________\n",
      "reshape (Reshape)            (None, 28, 28, 1)         0         \n",
      "=================================================================\n",
      "Total params: 25,872\n",
      "Trainable params: 25,872\n",
      "Non-trainable params: 0\n",
      "_________________________________________________________________\n"
     ]
    }
   ],
   "source": [
    "decoder = tfk.Sequential([\n",
    "  tfkl.InputLayer(32),\n",
    "  tfkl.Dense(np.prod(img_shape), activation=tf.nn.sigmoid),\n",
    "  tfkl.Reshape(img_shape)\n",
    "])\n",
    "decoder.summary()"
   ]
  },
  {
   "cell_type": "code",
   "execution_count": 8,
   "metadata": {
    "colab": {
     "base_uri": "https://localhost:8080/",
     "height": 1000
    },
    "id": "QSo1qWNXJTzH",
    "outputId": "05638367-3728-4e43-de7c-613c001c5fa1"
   },
   "outputs": [
    {
     "data": {
      "text/plain": [
       "<tf.Tensor 'input_3:0' shape=(None, 28, 28, 1) dtype=float32>"
      ]
     },
     "execution_count": 8,
     "metadata": {},
     "output_type": "execute_result"
    }
   ],
   "source": [
    "# the tf.keras function API starts with defining placeholder tensors that represent model inputs\n",
    "x = tfkl.Input(img_shape)\n",
    "x"
   ]
  },
  {
   "cell_type": "code",
   "execution_count": 9,
   "metadata": {
    "colab": {
     "base_uri": "https://localhost:8080/",
     "height": 1000
    },
    "id": "QSo1qWNXJTzH",
    "outputId": "05638367-3728-4e43-de7c-613c001c5fa1"
   },
   "outputs": [
    {
     "data": {
      "text/plain": [
       "(<tf.Tensor 'sequential/Identity:0' shape=(None, 32) dtype=float32>,\n",
       " <tf.Tensor 'sequential_1/Identity:0' shape=(None, 28, 28, 1) dtype=float32>)"
      ]
     },
     "execution_count": 9,
     "metadata": {},
     "output_type": "execute_result"
    }
   ],
   "source": [
    "# we can then pass this placeholder through our models to specify the computation to get a prediction\n",
    "h = encoder(x)\n",
    "xhat = decoder(h)\n",
    "h, xhat"
   ]
  },
  {
   "cell_type": "code",
   "execution_count": 10,
   "metadata": {
    "colab": {
     "base_uri": "https://localhost:8080/",
     "height": 1000
    },
    "id": "QSo1qWNXJTzH",
    "outputId": "05638367-3728-4e43-de7c-613c001c5fa1"
   },
   "outputs": [
    {
     "name": "stdout",
     "output_type": "stream",
     "text": [
      "Model: \"model\"\n",
      "_________________________________________________________________\n",
      "Layer (type)                 Output Shape              Param #   \n",
      "=================================================================\n",
      "input_3 (InputLayer)         [(None, 28, 28, 1)]       0         \n",
      "_________________________________________________________________\n",
      "sequential (Sequential)      (None, 32)                25120     \n",
      "_________________________________________________________________\n",
      "sequential_1 (Sequential)    (None, 28, 28, 1)         25872     \n",
      "=================================================================\n",
      "Total params: 50,992\n",
      "Trainable params: 50,992\n",
      "Non-trainable params: 0\n",
      "_________________________________________________________________\n"
     ]
    }
   ],
   "source": [
    "# finally we use the tfk.Model class instantiate the model by specifying the inputs and outputs\n",
    "# (note: this can also be lists, which is how you make more complex models with multiple inputs and/or outputs)\n",
    "autoencoder = tfk.Model(inputs=x, outputs=xhat)\n",
    "autoencoder.summary()"
   ]
  },
  {
   "cell_type": "code",
   "execution_count": 11,
   "metadata": {
    "colab": {
     "base_uri": "https://localhost:8080/",
     "height": 1000
    },
    "id": "QSo1qWNXJTzH",
    "outputId": "05638367-3728-4e43-de7c-613c001c5fa1"
   },
   "outputs": [
    {
     "name": "stdout",
     "output_type": "stream",
     "text": [
      "Train for 400 steps\n",
      "Epoch 1/20\n",
      "400/400 [==============================] - 2s 4ms/step - loss: 0.2495\n",
      "Epoch 2/20\n",
      "400/400 [==============================] - 1s 2ms/step - loss: 0.1636\n",
      "Epoch 3/20\n",
      "400/400 [==============================] - 1s 2ms/step - loss: 0.1400\n",
      "Epoch 4/20\n",
      "400/400 [==============================] - 1s 2ms/step - loss: 0.1267\n",
      "Epoch 5/20\n",
      "400/400 [==============================] - 1s 2ms/step - loss: 0.1176\n",
      "Epoch 6/20\n",
      "400/400 [==============================] - 1s 2ms/step - loss: 0.1102\n",
      "Epoch 7/20\n",
      "400/400 [==============================] - 1s 2ms/step - loss: 0.1057\n",
      "Epoch 8/20\n",
      "400/400 [==============================] - 1s 2ms/step - loss: 0.1023\n",
      "Epoch 9/20\n",
      "400/400 [==============================] - 1s 2ms/step - loss: 0.0999\n",
      "Epoch 10/20\n",
      "400/400 [==============================] - 1s 2ms/step - loss: 0.0985\n",
      "Epoch 11/20\n",
      "400/400 [==============================] - 1s 2ms/step - loss: 0.0966\n",
      "Epoch 12/20\n",
      "400/400 [==============================] - 1s 2ms/step - loss: 0.0964\n",
      "Epoch 13/20\n",
      "400/400 [==============================] - 1s 2ms/step - loss: 0.0962\n",
      "Epoch 14/20\n",
      "400/400 [==============================] - 1s 2ms/step - loss: 0.0958\n",
      "Epoch 15/20\n",
      "400/400 [==============================] - 1s 2ms/step - loss: 0.0954\n",
      "Epoch 16/20\n",
      "400/400 [==============================] - 1s 2ms/step - loss: 0.0950\n",
      "Epoch 17/20\n",
      "400/400 [==============================] - 1s 2ms/step - loss: 0.0948\n",
      "Epoch 18/20\n",
      "400/400 [==============================] - 1s 2ms/step - loss: 0.0952\n",
      "Epoch 19/20\n",
      "400/400 [==============================] - 1s 2ms/step - loss: 0.0951\n",
      "Epoch 20/20\n",
      "400/400 [==============================] - 1s 2ms/step - loss: 0.0943\n"
     ]
    }
   ],
   "source": [
    "# training happens as usual\n",
    "autoencoder.compile(\n",
    "    optimizer=tfk.optimizers.Adam(),\n",
    "    loss=tfk.losses.BinaryCrossentropy(),\n",
    ")\n",
    "\n",
    "results = autoencoder.fit(ds_train, steps_per_epoch=400, epochs=20)"
   ]
  },
  {
   "cell_type": "code",
   "execution_count": 12,
   "metadata": {
    "colab": {
     "base_uri": "https://localhost:8080/",
     "height": 1000
    },
    "id": "WdpBTykAVbcL",
    "outputId": "aca5c45d-75e9-45e3-a35f-d1fbc1dc3184"
   },
   "outputs": [],
   "source": [
    "imgs = next(iter(ds_train))[0]"
   ]
  },
  {
   "cell_type": "code",
   "execution_count": 13,
   "metadata": {
    "colab": {
     "base_uri": "https://localhost:8080/",
     "height": 1000
    },
    "id": "WdpBTykAVbcL",
    "outputId": "aca5c45d-75e9-45e3-a35f-d1fbc1dc3184"
   },
   "outputs": [
    {
     "data": {
      "image/png": "[encoded data removed]",
      "text/plain": [
       "<Figure size 432x288 with 2 Axes>"
      ]
     },
     "metadata": {
      "needs_background": "light"
     },
     "output_type": "display_data"
    },
    {
     "data": {
      "image/png": "[encoded data removed]",
      "text/plain": [
       "<Figure size 432x288 with 2 Axes>"
      ]
     },
     "metadata": {
      "needs_background": "light"
     },
     "output_type": "display_data"
    },
    {
     "data": {
      "image/png": "[encoded data removed]",
      "text/plain": [
       "<Figure size 432x288 with 2 Axes>"
      ]
     },
     "metadata": {
      "needs_background": "light"
     },
     "output_type": "display_data"
    },
    {
     "data": {
      "image/png": "[encoded data removed]",
      "text/plain": [
       "<Figure size 432x288 with 2 Axes>"
      ]
     },
     "metadata": {
      "needs_background": "light"
     },
     "output_type": "display_data"
    },
    {
     "data": {
      "image/png": "[encoded data removed]",
      "text/plain": [
       "<Figure size 432x288 with 2 Axes>"
      ]
     },
     "metadata": {
      "needs_background": "light"
     },
     "output_type": "display_data"
    },
    {
     "data": {
      "image/png": "[encoded data removed]",
      "text/plain": [
       "<Figure size 432x288 with 2 Axes>"
      ]
     },
     "metadata": {
      "needs_background": "light"
     },
     "output_type": "display_data"
    },
    {
     "data": {
      "image/png": "[encoded data removed]",
      "text/plain": [
       "<Figure size 432x288 with 2 Axes>"
      ]
     },
     "metadata": {
      "needs_background": "light"
     },
     "output_type": "display_data"
    },
    {
     "data": {
      "image/png": "[encoded data removed]",
      "text/plain": [
       "<Figure size 432x288 with 2 Axes>"
      ]
     },
     "metadata": {
      "needs_background": "light"
     },
     "output_type": "display_data"
    },
    {
     "data": {
      "image/png": "[encoded data removed]",
      "text/plain": [
       "<Figure size 432x288 with 2 Axes>"
      ]
     },
     "metadata": {
      "needs_background": "light"
     },
     "output_type": "display_data"
    },
    {
     "data": {
      "image/png": "[encoded data removed]",
      "text/plain": [
       "<Figure size 432x288 with 2 Axes>"
      ]
     },
     "metadata": {
      "needs_background": "light"
     },
     "output_type": "display_data"
    }
   ],
   "source": [
    "for i in range(10):\n",
    "  plt.subplot(1, 2, 1)\n",
    "  plt.imshow(imgs[i].numpy().squeeze(), cmap='bone')\n",
    "  plt.subplot(1, 2, 2, )\n",
    "  plt.imshow(autoencoder(imgs[i][tf.newaxis]).numpy().squeeze(), cmap='bone')\n",
    "  plt.show()"
   ]
  },
  {
   "cell_type": "markdown",
   "metadata": {
    "id": "JIGnE0CwVxXb"
   },
   "source": [
    "### Deep autoencoder and latent representations\n",
    "\n",
    "We want to reduce the dimensionality to the hidden layer so that we can plot the hidden representations to see how the autoencoder is organizing the data. If our hidden layers is going to be so much smaller, we will need to make up for it by making the network deeper.\n",
    "\n",
    "Modify the code above to make this work. Try a layers of size 156 -> 32 -> 2. After trining the model, use the encoder by itself and make a scatter plot of the some of the data, coloring each point by the digit identity. Which digits end up bunched together? Which are more well separated? Why might this be?"
   ]
  },
  {
   "cell_type": "code",
   "execution_count": 14,
   "metadata": {
    "colab": {
     "base_uri": "https://localhost:8080/",
     "height": 950
    },
    "id": "b1t8p-Ak0VdN",
    "outputId": "67c6a326-35d0-47f2-967a-b885a58397e5"
   },
   "outputs": [
    {
     "name": "stdout",
     "output_type": "stream",
     "text": [
      "Model: \"sequential_2\"\n",
      "_________________________________________________________________\n",
      "Layer (type)                 Output Shape              Param #   \n",
      "=================================================================\n",
      "flatten_1 (Flatten)          (None, 784)               0         \n",
      "_________________________________________________________________\n",
      "dense_2 (Dense)              (None, 156)               122460    \n",
      "_________________________________________________________________\n",
      "dense_3 (Dense)              (None, 32)                5024      \n",
      "_________________________________________________________________\n",
      "dense_4 (Dense)              (None, 2)                 66        \n",
      "=================================================================\n",
      "Total params: 127,550\n",
      "Trainable params: 127,550\n",
      "Non-trainable params: 0\n",
      "_________________________________________________________________\n",
      "Model: \"sequential_3\"\n",
      "_________________________________________________________________\n",
      "Layer (type)                 Output Shape              Param #   \n",
      "=================================================================\n",
      "dense_5 (Dense)              (None, 32)                96        \n",
      "_________________________________________________________________\n",
      "dense_6 (Dense)              (None, 156)               5148      \n",
      "_________________________________________________________________\n",
      "dense_7 (Dense)              (None, 784)               123088    \n",
      "_________________________________________________________________\n",
      "reshape_1 (Reshape)          (None, 28, 28, 1)         0         \n",
      "=================================================================\n",
      "Total params: 128,332\n",
      "Trainable params: 128,332\n",
      "Non-trainable params: 0\n",
      "_________________________________________________________________\n"
     ]
    }
   ],
   "source": [
    "deepencoder = tfk.Sequential([\n",
    "  tfkl.InputLayer(img_shape),\n",
    "  tfkl.Flatten(),\n",
    "  tfkl.Dense(156, activation=tf.nn.relu),\n",
    "  tfkl.Dense(32, activation=tf.nn.relu),\n",
    "  tfkl.Dense(2, activation = None)\n",
    "])\n",
    "deepencoder.summary()\n",
    "deepdecoder = tfk.Sequential([\n",
    "  tfkl.InputLayer(2),\n",
    "  tfkl.Dense(32, activation=tf.nn.relu),\n",
    "  tfkl.Dense(156, activation=tf.nn.relu),\n",
    "  tfkl.Dense(np.prod(img_shape), activation=tf.nn.sigmoid),\n",
    "  tfkl.Reshape(img_shape)\n",
    "])\n",
    "deepdecoder.summary()"
   ]
  },
  {
   "cell_type": "code",
   "execution_count": 15,
   "metadata": {
    "id": "B7S9Aqn893jc"
   },
   "outputs": [],
   "source": [
    "# get 1000 data points for the scatter plot\n",
    "x, y = next(iter(data['test'].map(preprocess).batch(1000)))"
   ]
  },
  {
   "cell_type": "code",
   "execution_count": 16,
   "metadata": {
    "id": "B7S9Aqn893jc"
   },
   "outputs": [],
   "source": [
    "x_tensor = tfkl.Input(img_shape)\n",
    "h = deepencoder(x_tensor)\n",
    "xhat = deepdecoder(h)"
   ]
  },
  {
   "cell_type": "code",
   "execution_count": 17,
   "metadata": {
    "id": "B7S9Aqn893jc"
   },
   "outputs": [
    {
     "name": "stdout",
     "output_type": "stream",
     "text": [
      "Model: \"model_1\"\n",
      "_________________________________________________________________\n",
      "Layer (type)                 Output Shape              Param #   \n",
      "=================================================================\n",
      "input_6 (InputLayer)         [(None, 28, 28, 1)]       0         \n",
      "_________________________________________________________________\n",
      "sequential_2 (Sequential)    (None, 2)                 127550    \n",
      "_________________________________________________________________\n",
      "sequential_3 (Sequential)    (None, 28, 28, 1)         128332    \n",
      "=================================================================\n",
      "Total params: 255,882\n",
      "Trainable params: 255,882\n",
      "Non-trainable params: 0\n",
      "_________________________________________________________________\n"
     ]
    }
   ],
   "source": [
    "deepautoencoder = tfk.Model(inputs=x_tensor, outputs=xhat)\n",
    "deepautoencoder.summary()"
   ]
  },
  {
   "cell_type": "code",
   "execution_count": 24,
   "metadata": {},
   "outputs": [
    {
     "name": "stdout",
     "output_type": "stream",
     "text": [
      "Train for 4000 steps\n",
      "Epoch 1/20\n",
      "4000/4000 [==============================] - 8s 2ms/step - loss: 0.1783\n",
      "Epoch 2/20\n",
      "4000/4000 [==============================] - 8s 2ms/step - loss: 0.1757\n",
      "Epoch 3/20\n",
      "4000/4000 [==============================] - 8s 2ms/step - loss: 0.1739\n",
      "Epoch 4/20\n",
      "4000/4000 [==============================] - 8s 2ms/step - loss: 0.1726\n",
      "Epoch 5/20\n",
      "4000/4000 [==============================] - 8s 2ms/step - loss: 0.1717\n",
      "Epoch 6/20\n",
      "4000/4000 [==============================] - 8s 2ms/step - loss: 0.1710\n",
      "Epoch 7/20\n",
      "4000/4000 [==============================] - 8s 2ms/step - loss: 0.1702\n",
      "Epoch 8/20\n",
      "4000/4000 [==============================] - 8s 2ms/step - loss: 0.1697\n",
      "Epoch 9/20\n",
      "4000/4000 [==============================] - 8s 2ms/step - loss: 0.1694\n",
      "Epoch 10/20\n",
      "4000/4000 [==============================] - 8s 2ms/step - loss: 0.1688\n",
      "Epoch 11/20\n",
      "4000/4000 [==============================] - 8s 2ms/step - loss: 0.1685\n",
      "Epoch 12/20\n",
      "4000/4000 [==============================] - 8s 2ms/step - loss: 0.1681\n",
      "Epoch 13/20\n",
      "4000/4000 [==============================] - 8s 2ms/step - loss: 0.1676\n",
      "Epoch 14/20\n",
      "4000/4000 [==============================] - 8s 2ms/step - loss: 0.1676\n",
      "Epoch 15/20\n",
      "4000/4000 [==============================] - 8s 2ms/step - loss: 0.1674\n",
      "Epoch 16/20\n",
      "4000/4000 [==============================] - 8s 2ms/step - loss: 0.1674\n",
      "Epoch 17/20\n",
      "4000/4000 [==============================] - 8s 2ms/step - loss: 0.1669\n",
      "Epoch 18/20\n",
      "4000/4000 [==============================] - 8s 2ms/step - loss: 0.1665\n",
      "Epoch 19/20\n",
      "4000/4000 [==============================] - 8s 2ms/step - loss: 0.1663\n",
      "Epoch 20/20\n",
      "4000/4000 [==============================] - 9s 2ms/step - loss: 0.1665\n"
     ]
    }
   ],
   "source": [
    "deepautoencoder.compile(\n",
    "    optimizer=tfk.optimizers.Adam(),\n",
    "    loss=tfk.losses.BinaryCrossentropy(),\n",
    ")\n",
    "\n",
    "results = deepautoencoder.fit(ds_train, steps_per_epoch=4000, epochs=20)"
   ]
  },
  {
   "cell_type": "code",
   "execution_count": 25,
   "metadata": {},
   "outputs": [
    {
     "name": "stdout",
     "output_type": "stream",
     "text": [
      "final loss = 0.1665\n"
     ]
    }
   ],
   "source": [
    "print(f\"final loss = {round(results.history['loss'][-1],4)}\")"
   ]
  },
  {
   "cell_type": "code",
   "execution_count": 26,
   "metadata": {},
   "outputs": [
    {
     "data": {
      "image/png": "[encoded data removed]",
      "text/plain": [
       "<Figure size 432x288 with 2 Axes>"
      ]
     },
     "metadata": {
      "needs_background": "light"
     },
     "output_type": "display_data"
    },
    {
     "data": {
      "image/png": "[encoded data removed]",
      "text/plain": [
       "<Figure size 432x288 with 2 Axes>"
      ]
     },
     "metadata": {
      "needs_background": "light"
     },
     "output_type": "display_data"
    },
    {
     "data": {
      "image/png": "[encoded data removed]",
      "text/plain": [
       "<Figure size 432x288 with 2 Axes>"
      ]
     },
     "metadata": {
      "needs_background": "light"
     },
     "output_type": "display_data"
    },
    {
     "data": {
      "image/png": "[encoded data removed]",
      "text/plain": [
       "<Figure size 432x288 with 2 Axes>"
      ]
     },
     "metadata": {
      "needs_background": "light"
     },
     "output_type": "display_data"
    },
    {
     "data": {
      "image/png": "[encoded data removed]",
      "text/plain": [
       "<Figure size 432x288 with 2 Axes>"
      ]
     },
     "metadata": {
      "needs_background": "light"
     },
     "output_type": "display_data"
    },
    {
     "data": {
      "image/png": "[encoded data removed]",
      "text/plain": [
       "<Figure size 432x288 with 2 Axes>"
      ]
     },
     "metadata": {
      "needs_background": "light"
     },
     "output_type": "display_data"
    },
    {
     "data": {
      "image/png": "[encoded data removed]",
      "text/plain": [
       "<Figure size 432x288 with 2 Axes>"
      ]
     },
     "metadata": {
      "needs_background": "light"
     },
     "output_type": "display_data"
    },
    {
     "data": {
      "image/png": "[encoded data removed]",
      "text/plain": [
       "<Figure size 432x288 with 2 Axes>"
      ]
     },
     "metadata": {
      "needs_background": "light"
     },
     "output_type": "display_data"
    },
    {
     "data": {
      "image/png": "[encoded data removed]",
      "text/plain": [
       "<Figure size 432x288 with 2 Axes>"
      ]
     },
     "metadata": {
      "needs_background": "light"
     },
     "output_type": "display_data"
    },
    {
     "data": {
      "image/png": "[encoded data removed]",
      "text/plain": [
       "<Figure size 432x288 with 2 Axes>"
      ]
     },
     "metadata": {
      "needs_background": "light"
     },
     "output_type": "display_data"
    }
   ],
   "source": [
    "for i in range(10):\n",
    "  plt.subplot(1, 2, 1)\n",
    "  plt.imshow(imgs[i].numpy().squeeze(), cmap='bone')\n",
    "  plt.subplot(1, 2, 2, )\n",
    "  plt.imshow(deepautoencoder(imgs[i][tf.newaxis]).numpy().squeeze(), cmap='bone')\n",
    "  plt.show()"
   ]
  },
  {
   "cell_type": "code",
   "execution_count": 27,
   "metadata": {},
   "outputs": [],
   "source": [
    "result = deepencoder(x).numpy()"
   ]
  },
  {
   "cell_type": "code",
   "execution_count": 28,
   "metadata": {},
   "outputs": [],
   "source": [
    "import pandas as pd\n",
    "import plotly.express as px"
   ]
  },
  {
   "cell_type": "code",
   "execution_count": 46,
   "metadata": {},
   "outputs": [],
   "source": [
    "df = pd.DataFrame()\n",
    "df['x1'] = result[:,0]\n",
    "df['x2'] = result[:,1]\n",
    "df['y_label'] = [str(x) for x in y.numpy()]"
   ]
  },
  {
   "cell_type": "code",
   "execution_count": 47,
   "metadata": {},
   "outputs": [
    {
     "data": {
      "application/vnd.plotly.v1+json": {
       "config": {
        "plotlyServerURL": "https://plot.ly"
       },
       "data": [
        {
         "hovertemplate": "y_label=0<br>x1=%{x}<br>x2=%{y}<extra></extra>",
         "legendgroup": "0",
         "marker": {
          "color": "#636efa",
          "symbol": "circle"
         },
         "mode": "markers",
         "name": "0",
         "orientation": "v",
         "showlegend": true,
         "type": "scatter",
         "x": [
          4.184192657470703,
          6.119746208190918,
          5.9411940574646,
          7.108482837677002,
          2.4371345043182373,
          7.189652442932129,
          2.8509628772735596,
          3.447538137435913,
          6.145847320556641,
          3.9801180362701416,
          3.8617093563079834,
          3.740605592727661,
          8.398260116577148,
          2.624309778213501,
          4.414401531219482,
          3.939361095428467,
          5.144861698150635,
          4.3284831047058105,
          8.146116256713867,
          4.729286193847656,
          4.571041584014893,
          4.1953654289245605,
          13.642298698425293,
          8.305912971496582,
          6.310708999633789,
          5.867935657501221,
          6.175727367401123,
          4.02811861038208,
          2.8548941612243652,
          8.48184871673584,
          3.973219156265259,
          13.758986473083496,
          5.476032733917236,
          5.378748416900635,
          2.1260013580322266,
          4.364476680755615,
          4.166159629821777,
          4.8429999351501465,
          6.814439296722412,
          5.371798992156982,
          3.398026466369629,
          4.790162563323975,
          5.501044750213623,
          8.091826438903809,
          4.478066921234131,
          6.409081935882568,
          9.752279281616211,
          7.944042682647705,
          5.087378978729248,
          13.991421699523926,
          15.760347366333008,
          5.893485069274902,
          4.81605339050293,
          12.15546989440918,
          3.7378652095794678,
          18.920162200927734,
          4.674468517303467,
          1.8758900165557861,
          7.871306896209717,
          4.1908135414123535,
          4.44610071182251,
          3.057765007019043,
          9.353658676147461,
          3.9753949642181396,
          3.736494779586792,
          2.9502899646759033,
          3.542349100112915,
          4.179271221160889,
          5.747762680053711,
          4.558286666870117,
          4.155911922454834,
          8.690374374389648,
          2.594390630722046,
          8.920944213867188,
          3.3914546966552734,
          0.8042706847190857,
          2.446376323699951,
          4.4856085777282715,
          13.129195213317871,
          13.017788887023926,
          5.194481372833252,
          4.144367694854736,
          14.673185348510742,
          3.574854850769043,
          12.253528594970703,
          4.396651268005371,
          3.3248186111450195,
          7.846153259277344,
          2.2906718254089355,
          8.028903007507324,
          8.990006446838379,
          10.209357261657715,
          6.37218713760376,
          -0.6425867676734924,
          22.725967407226562,
          2.6594743728637695,
          11.565401077270508,
          4.249108791351318,
          3.025517463684082,
          11.709030151367188,
          3.595712661743164,
          3.785066843032837,
          5.962730407714844,
          3.0836620330810547,
          4.2572455406188965,
          16.827075958251953,
          6.015568256378174,
          2.6891531944274902
         ],
         "xaxis": "x",
         "y": [
          8.667410850524902,
          10.868759155273438,
          5.225243091583252,
          4.684521675109863,
          3.9743547439575195,
          11.674883842468262,
          3.5396664142608643,
          20.681331634521484,
          6.9626288414001465,
          4.46764612197876,
          8.25804615020752,
          7.115492343902588,
          5.537479877471924,
          4.003667831420898,
          5.381775856018066,
          3.2096099853515625,
          10.586501121520996,
          3.2172932624816895,
          7.711342811584473,
          5.9412946701049805,
          14.422445297241211,
          3.0436880588531494,
          22.519298553466797,
          11.280906677246094,
          5.510715484619141,
          6.980494499206543,
          17.466611862182617,
          14.543182373046875,
          3.84255051612854,
          11.624831199645996,
          4.384028911590576,
          10.186845779418945,
          6.27128267288208,
          5.056245803833008,
          7.311478614807129,
          5.0083394050598145,
          8.982544898986816,
          5.522836208343506,
          11.675766944885254,
          5.453035831451416,
          3.3801321983337402,
          7.820197582244873,
          5.82476282119751,
          8.031306266784668,
          7.4171247482299805,
          6.4230475425720215,
          6.578371524810791,
          2.6540699005126953,
          4.641473770141602,
          12.746214866638184,
          14.142792701721191,
          4.701907634735107,
          6.1437506675720215,
          11.788309097290039,
          3.4680893421173096,
          14.632807731628418,
          7.767701148986816,
          15.586091995239258,
          12.532051086425781,
          8.208977699279785,
          6.42935848236084,
          5.630918502807617,
          9.625143051147461,
          6.111359596252441,
          3.7152645587921143,
          3.851351261138916,
          5.209738731384277,
          5.748540878295898,
          7.540529251098633,
          8.434362411499023,
          3.9837331771850586,
          7.785302639007568,
          2.97835636138916,
          9.874059677124023,
          6.326993465423584,
          16.82457160949707,
          7.080107688903809,
          5.645653247833252,
          10.481651306152344,
          18.170387268066406,
          3.328275442123413,
          4.458024501800537,
          18.658205032348633,
          2.600250720977783,
          11.174089431762695,
          6.15149450302124,
          5.528628826141357,
          8.688864707946777,
          1.4579191207885742,
          7.835874080657959,
          8.536330223083496,
          8.175777435302734,
          13.027260780334473,
          17.81401824951172,
          18.93544578552246,
          2.764000654220581,
          11.900484085083008,
          3.97880482673645,
          8.350290298461914,
          14.339167594909668,
          5.995833396911621,
          4.077559471130371,
          5.543246269226074,
          3.815030813217163,
          1.6481776237487793,
          17.521202087402344,
          11.454293251037598,
          3.034456253051758
         ],
         "yaxis": "y"
        },
        {
         "hovertemplate": "y_label=1<br>x1=%{x}<br>x2=%{y}<extra></extra>",
         "legendgroup": "1",
         "marker": {
          "color": "#EF553B",
          "symbol": "circle"
         },
         "mode": "markers",
         "name": "1",
         "orientation": "v",
         "showlegend": true,
         "type": "scatter",
         "x": [
          9.275629997253418,
          12.68358039855957,
          2.293370008468628,
          7.288819789886475,
          -0.20852209627628326,
          0.9810870885848999,
          6.332334041595459,
          3.2766122817993164,
          4.9676666259765625,
          -1.3699488639831543,
          18.200340270996094,
          9.629215240478516,
          9.993202209472656,
          11.565339088439941,
          9.345760345458984,
          5.792527675628662,
          7.678756237030029,
          13.882757186889648,
          -1.3599892854690552,
          2.793276071548462,
          6.4597063064575195,
          20.69652557373047,
          9.008624076843262,
          18.515541076660156,
          15.921445846557617,
          6.201791286468506,
          1.110257625579834,
          17.232322692871094,
          2.1208720207214355,
          10.346111297607422,
          16.8811092376709,
          15.08104419708252,
          5.648642063140869,
          6.143385410308838,
          10.059386253356934,
          2.40744686126709,
          6.692501544952393,
          16.655794143676758,
          9.599719047546387,
          1.2503002882003784,
          3.86035418510437,
          3.9303886890411377,
          -1.4511560201644897,
          2.5623183250427246,
          0.012238498777151108,
          9.526795387268066,
          6.364025115966797,
          -0.5737194418907166,
          10.036514282226562,
          10.941932678222656,
          -0.07443316280841827,
          19.840578079223633,
          1.8814438581466675,
          -1.6263527870178223,
          17.157384872436523,
          4.1996564865112305,
          22.935508728027344,
          3.2477195262908936,
          10.413969039916992,
          -1.5538660287857056,
          5.592400550842285,
          1.8718866109848022,
          3.190656900405884,
          2.276646375656128,
          -2.3754990100860596,
          16.631296157836914,
          9.816405296325684,
          1.5948926210403442,
          27.841283798217773,
          0.127408966422081,
          7.989320755004883,
          9.578991889953613,
          19.62641143798828,
          19.072044372558594,
          2.2225122451782227,
          2.0667953491210938,
          12.163445472717285,
          7.737534046173096,
          3.4422607421875,
          8.295904159545898,
          4.356240749359131,
          0.683075487613678,
          5.758699893951416,
          12.98578929901123,
          -1.6034189462661743,
          13.87893295288086,
          3.4676222801208496,
          6.68670129776001,
          4.452514171600342,
          0.715540885925293,
          8.134193420410156,
          15.676656723022461,
          0.2765820622444153,
          13.10144329071045,
          8.051767349243164,
          3.069139242172241,
          3.0832033157348633,
          15.059866905212402,
          6.159578323364258,
          0.596433162689209,
          13.5892915725708,
          14.533599853515625,
          9.82552433013916,
          6.543542861938477,
          4.645296096801758,
          4.740473747253418,
          8.262443542480469,
          7.568295955657959,
          11.403279304504395,
          -0.13526791334152222,
          4.926167011260986,
          2.4683570861816406,
          4.7461371421813965,
          15.86590576171875,
          11.749669075012207,
          -1.8035194873809814,
          5.641724586486816,
          12.951297760009766,
          6.888698577880859,
          4.84529447555542,
          17.335912704467773,
          1.6575632095336914
         ],
         "xaxis": "x",
         "y": [
          -34.53420639038086,
          -34.057132720947266,
          -53.05769348144531,
          -53.95149612426758,
          -36.298927307128906,
          -46.91267395019531,
          -64.83143615722656,
          -21.308189392089844,
          -30.283857345581055,
          -40.11418533325195,
          -42.922027587890625,
          -3.413661003112793,
          -30.488798141479492,
          -41.74220275878906,
          -26.050596237182617,
          -34.01758575439453,
          -20.209877014160156,
          -30.24298858642578,
          -32.45067596435547,
          -62.731109619140625,
          -43.02014923095703,
          -51.38027572631836,
          -23.095319747924805,
          -38.275020599365234,
          -37.96331024169922,
          -68.70926666259766,
          -37.27968978881836,
          -30.76418113708496,
          -34.42622375488281,
          -32.434669494628906,
          -39.64250183105469,
          -45.25994110107422,
          -33.198604583740234,
          -66.46268463134766,
          -31.358304977416992,
          -28.389633178710938,
          -58.7816276550293,
          -36.451072692871094,
          -25.28120994567871,
          -14.124463081359863,
          -55.20541000366211,
          -34.14523696899414,
          -42.66017532348633,
          -23.553356170654297,
          -34.96263122558594,
          -27.099773406982422,
          -37.91425704956055,
          -44.407466888427734,
          -25.994590759277344,
          -37.559852600097656,
          -62.85285949707031,
          -36.746360778808594,
          -31.382431030273438,
          -65.52613830566406,
          -28.8212890625,
          -61.981082916259766,
          -49.031707763671875,
          -39.10969924926758,
          -30.328386306762695,
          -47.80399703979492,
          -23.363269805908203,
          -35.74224090576172,
          -16.814722061157227,
          -52.00935745239258,
          -56.78126907348633,
          -44.690773010253906,
          -56.07095718383789,
          -31.612096786499023,
          -57.77253341674805,
          -12.175719261169434,
          -49.57136917114258,
          -25.738954544067383,
          -41.06275939941406,
          -58.966392517089844,
          -44.233245849609375,
          -52.19168472290039,
          -37.66188430786133,
          -21.164180755615234,
          -25.48952865600586,
          -26.027591705322266,
          -35.731075286865234,
          -38.300968170166016,
          -27.77631950378418,
          -39.67118453979492,
          -47.674346923828125,
          -50.17212677001953,
          -32.29073715209961,
          -67.74555206298828,
          -35.046539306640625,
          -43.768226623535156,
          -20.36434555053711,
          -40.610816955566406,
          -37.70206069946289,
          -37.74710464477539,
          -17.14303207397461,
          -42.30335998535156,
          -24.596656799316406,
          -32.95425796508789,
          -21.112375259399414,
          -23.54833984375,
          -40.87205123901367,
          -61.413856506347656,
          -69.4690933227539,
          -37.69093704223633,
          -37.64400863647461,
          -46.023624420166016,
          -34.71437072753906,
          -53.357852935791016,
          -54.79340362548828,
          -49.0866584777832,
          -55.6573371887207,
          -28.165924072265625,
          -48.069671630859375,
          -46.44778823852539,
          -44.58296203613281,
          -36.92924118041992,
          -45.867530822753906,
          -45.82127380371094,
          -31.3725643157959,
          -40.609004974365234,
          -39.63088607788086,
          -24.529876708984375
         ],
         "yaxis": "y"
        },
        {
         "hovertemplate": "y_label=2<br>x1=%{x}<br>x2=%{y}<extra></extra>",
         "legendgroup": "2",
         "marker": {
          "color": "#00cc96",
          "symbol": "circle"
         },
         "mode": "markers",
         "name": "2",
         "orientation": "v",
         "showlegend": true,
         "type": "scatter",
         "x": [
          3.597614288330078,
          0.7927800416946411,
          2.149385690689087,
          2.242032289505005,
          1.5022920370101929,
          0.894984245300293,
          0.2740493416786194,
          -0.5094742774963379,
          -0.4392232894897461,
          1.5452494621276855,
          1.3351978063583374,
          0.005653750151395798,
          3.030614137649536,
          0.733989953994751,
          0.99416583776474,
          2.5864686965942383,
          1.7145612239837646,
          2.0951483249664307,
          0.47815001010894775,
          1.734959363937378,
          1.7103220224380493,
          0.3642805218696594,
          0.49947404861450195,
          0.5384736061096191,
          1.8120425939559937,
          0.4702746272087097,
          7.014400482177734,
          1.0949970483779907,
          1.3949295282363892,
          2.1531856060028076,
          0.05005768686532974,
          2.1401617527008057,
          0.8074468374252319,
          1.991532802581787,
          1.5271104574203491,
          2.841783285140991,
          1.7286105155944824,
          0.25432807207107544,
          -0.6497031450271606,
          -0.49693381786346436,
          1.8444445133209229,
          2.7141709327697754,
          -3.255579948425293,
          1.1275690793991089,
          1.5401448011398315,
          1.1771034002304077,
          0.6394439935684204,
          3.883636236190796,
          1.447659969329834,
          0.4367492198944092,
          0.4349486827850342,
          1.9446741342544556,
          1.1909669637680054,
          0.7878440618515015,
          1.1031221151351929,
          2.2441272735595703,
          1.0918786525726318,
          3.6239092350006104,
          -0.663457453250885,
          2.166402578353882,
          0.7917442917823792,
          1.2647522687911987,
          2.2035610675811768,
          1.5140407085418701,
          0.9593073725700378,
          0.36823582649230957,
          2.098313093185425,
          0.9604573845863342,
          0.763558566570282,
          0.7187904119491577,
          1.5073970556259155,
          0.7670404314994812,
          2.4406113624572754,
          2.5780417919158936,
          0.3119713068008423,
          0.922316312789917,
          1.9833062887191772,
          1.696764588356018,
          2.014244318008423,
          2.767061233520508,
          -1.3916422128677368,
          2.3657305240631104,
          0.8180477619171143,
          0.8380300998687744,
          2.538654088973999,
          2.288424015045166,
          1.66817307472229,
          0.5755214095115662,
          1.464816927909851,
          0.6313451528549194,
          -0.064485102891922,
          2.4998884201049805,
          -0.06308238208293915,
          1.8752440214157104,
          1.094635009765625,
          1.1368945837020874,
          2.69382905960083,
          0.7104271054267883,
          0.7133283019065857,
          2.453483819961548,
          2.2305774688720703,
          1.6788032054901123,
          1.693289041519165,
          2.1200833320617676,
          -2.018217086791992,
          1.8797194957733154,
          -0.5605907440185547,
          2.6206066608428955,
          -0.3498666286468506,
          3.7877540588378906,
          0.33869093656539917,
          2.810375690460205,
          1.728361964225769
         ],
         "xaxis": "x",
         "y": [
          -0.8100416660308838,
          -0.22621303796768188,
          -0.4630737900733948,
          -0.5377241969108582,
          -0.13214027881622314,
          -0.06566008180379868,
          0.04005232825875282,
          0.5807964205741882,
          -1.4264004230499268,
          -0.4864218831062317,
          -0.48687297105789185,
          -1.8503477573394775,
          -0.2604551315307617,
          -0.23400330543518066,
          -0.2606789469718933,
          -0.5854591131210327,
          -0.46764737367630005,
          -0.5582603812217712,
          0.04342733696103096,
          -0.6149922013282776,
          -0.5390622615814209,
          -0.4148600399494171,
          0.0410919189453125,
          -0.23153996467590332,
          -0.5195437669754028,
          -0.2767791748046875,
          6.0866899490356445,
          -0.045632027089595795,
          -0.444416880607605,
          -0.4788867235183716,
          0.10810033977031708,
          -0.6052928566932678,
          -0.28240397572517395,
          -0.4722644090652466,
          -0.28303223848342896,
          -0.5535960793495178,
          -0.3193120062351227,
          0.06777386367321014,
          0.4370950758457184,
          0.34889721870422363,
          -0.47923457622528076,
          -0.5469354391098022,
          -6.983139991760254,
          -0.38766273856163025,
          -0.42989760637283325,
          -0.278221070766449,
          0.6677497625350952,
          -1.0149636268615723,
          -0.5977745652198792,
          -0.007347717881202698,
          0.0060705021023750305,
          0.06819064915180206,
          -1.4714837074279785,
          -0.0558246448636055,
          -0.802667498588562,
          -0.4662511944770813,
          -0.10030302405357361,
          -0.9101830124855042,
          0.7885412573814392,
          -0.18523982167243958,
          -0.11585041880607605,
          -0.27910807728767395,
          -0.6619350910186768,
          -0.17659199237823486,
          -0.04160697013139725,
          -0.30130594968795776,
          -0.34527814388275146,
          1.836223840713501,
          -7.272120475769043,
          -0.18994088470935822,
          -0.49929600954055786,
          -0.14480450749397278,
          -0.6818094253540039,
          -0.4060661494731903,
          -0.25883692502975464,
          -0.3824065923690796,
          -0.569155216217041,
          -0.37595248222351074,
          -0.3241858184337616,
          -0.48391133546829224,
          -2.087810516357422,
          -0.460813045501709,
          -0.16705983877182007,
          -0.2853553295135498,
          -0.4812922477722168,
          -1.6419634819030762,
          -0.35340991616249084,
          -0.17392811179161072,
          -0.484125554561615,
          0.04460640251636505,
          0.2110103964805603,
          -0.6283317804336548,
          0.5167564153671265,
          -3.5414085388183594,
          -0.2555174231529236,
          -0.17632420361042023,
          -0.7483074069023132,
          -0.10342419147491455,
          -0.06459154933691025,
          -0.6784183979034424,
          -0.3554452657699585,
          -0.40174010396003723,
          -0.5103986859321594,
          -0.4664984941482544,
          -8.544139862060547,
          -0.5454846620559692,
          0.4747004806995392,
          -0.6766113042831421,
          0.4039756655693054,
          -0.9208486080169678,
          -0.04228658229112625,
          -0.6478299498558044,
          -0.2811208665370941
         ],
         "yaxis": "y"
        },
        {
         "hovertemplate": "y_label=3<br>x1=%{x}<br>x2=%{y}<extra></extra>",
         "legendgroup": "3",
         "marker": {
          "color": "#ab63fa",
          "symbol": "circle"
         },
         "mode": "markers",
         "name": "3",
         "orientation": "v",
         "showlegend": true,
         "type": "scatter",
         "x": [
          0.26318180561065674,
          0.8838275671005249,
          0.638625979423523,
          1.5248939990997314,
          1.023280382156372,
          0.4015636444091797,
          0.10650373250246048,
          1.8504703044891357,
          1.0782215595245361,
          0.5371984839439392,
          0.4703127145767212,
          1.637900948524475,
          1.5080373287200928,
          0.25084632635116577,
          1.9240998029708862,
          1.3583509922027588,
          1.8787142038345337,
          1.0410268306732178,
          0.4257358908653259,
          1.2566640377044678,
          0.3270694613456726,
          0.6510732173919678,
          0.2530556917190552,
          0.2752658426761627,
          -0.3983480930328369,
          0.40715593099594116,
          0.4550318717956543,
          1.3685905933380127,
          0.8560694456100464,
          0.9799709320068359,
          1.0826776027679443,
          0.6584632992744446,
          1.175443172454834,
          1.1457819938659668,
          -0.19763483107089996,
          0.3955594301223755,
          0.5175516605377197,
          1.89935302734375,
          -9.281291961669922,
          -0.1073971539735794,
          0.12128102779388428,
          0.38283753395080566,
          1.5743508338928223,
          0.987975001335144,
          0.4584818482398987,
          0.18449391424655914,
          1.3263334035873413,
          0.9364194869995117,
          0.9964998960494995,
          0.07565655559301376,
          -0.13733667135238647,
          1.9151934385299683,
          0.9795340895652771,
          -0.1666557937860489,
          0.6989941596984863,
          1.1327258348464966,
          0.923732340335846,
          0.42706042528152466,
          0.9704477787017822,
          0.5516392588615417,
          0.18001070618629456,
          1.259834885597229,
          0.10579082369804382,
          1.6481767892837524,
          1.190930962562561,
          1.4862611293792725,
          0.5479925274848938,
          0.4882391691207886,
          0.762665331363678,
          1.2076160907745361,
          0.3423359990119934,
          -0.11605699360370636,
          1.2370458841323853,
          -9.029820442199707,
          1.690580129623413,
          1.0164737701416016,
          1.5688685178756714,
          1.1323450803756714,
          0.21406933665275574,
          2.1540398597717285,
          0.6831813454627991,
          1.5349507331848145,
          1.4974122047424316,
          1.1449978351593018,
          0.3731917142868042,
          0.9857768416404724,
          0.14904260635375977
         ],
         "xaxis": "x",
         "y": [
          -1.52168869972229,
          -0.9743054509162903,
          -0.9282680153846741,
          -1.3498904705047607,
          -2.1795291900634766,
          -1.2250206470489502,
          -0.6700124144554138,
          -3.2603423595428467,
          -1.9229614734649658,
          -7.947783946990967,
          -2.1249263286590576,
          -1.2103793621063232,
          -1.3401720523834229,
          -8.517793655395508,
          -1.168689489364624,
          -1.6947863101959229,
          -1.8854224681854248,
          -1.0558650493621826,
          -2.030027389526367,
          -2.430405616760254,
          -1.1765663623809814,
          -1.2818102836608887,
          -5.211881160736084,
          -0.8960756063461304,
          -10.936736106872559,
          -1.5411489009857178,
          -0.6175435185432434,
          -1.159975290298462,
          -0.9887399077415466,
          -1.325819492340088,
          -1.8877103328704834,
          -3.7309460639953613,
          -1.3076255321502686,
          -1.3594584465026855,
          -0.1153903603553772,
          -0.9624614119529724,
          -1.502964973449707,
          -1.034869909286499,
          2.9934146404266357,
          -1.716240644454956,
          -1.0108041763305664,
          -4.512259006500244,
          -1.0454156398773193,
          -0.19835969805717468,
          -0.4525773525238037,
          -1.910188913345337,
          -0.8958562016487122,
          -6.779101848602295,
          -1.1865220069885254,
          -1.714414358139038,
          -1.8571481704711914,
          -1.8742761611938477,
          -2.4632108211517334,
          -0.18849767744541168,
          -0.8640585541725159,
          -2.384570598602295,
          -0.9608960747718811,
          -2.006138563156128,
          -1.086416244506836,
          -0.9676297307014465,
          -1.1149282455444336,
          -1.448103666305542,
          -3.3154735565185547,
          -1.1002459526062012,
          -1.8218226432800293,
          -1.3245189189910889,
          -7.277031421661377,
          -1.9549000263214111,
          -0.3646201491355896,
          -2.353531837463379,
          -1.402233362197876,
          -1.267347812652588,
          -2.5279719829559326,
          -8.927899360656738,
          -1.3804044723510742,
          -0.8278706073760986,
          -1.573725700378418,
          -1.713085651397705,
          -0.6854050755500793,
          -1.0955955982208252,
          -11.153390884399414,
          -1.7219781875610352,
          -0.9870681166648865,
          -1.9387993812561035,
          -2.5018038749694824,
          -2.866490364074707,
          -0.598267138004303
         ],
         "yaxis": "y"
        },
        {
         "hovertemplate": "y_label=4<br>x1=%{x}<br>x2=%{y}<extra></extra>",
         "legendgroup": "4",
         "marker": {
          "color": "#FFA15A",
          "symbol": "circle"
         },
         "mode": "markers",
         "name": "4",
         "orientation": "v",
         "showlegend": true,
         "type": "scatter",
         "x": [
          -1.6331535577774048,
          -2.1808907985687256,
          -7.760161399841309,
          -2.8045947551727295,
          -1.5726027488708496,
          -2.621169090270996,
          -6.002347946166992,
          -2.220273733139038,
          -1.519331693649292,
          -2.088407039642334,
          -3.5147178173065186,
          6.471426010131836,
          -1.498539686203003,
          -4.776699542999268,
          -1.7319464683532715,
          -1.4810651540756226,
          -4.394093990325928,
          -2.5478949546813965,
          -3.1930148601531982,
          -5.485499858856201,
          -2.7684264183044434,
          -1.7178544998168945,
          -2.2295613288879395,
          -2.0022835731506348,
          -3.6226119995117188,
          -1.1585257053375244,
          -8.793924331665039,
          -3.8740429878234863,
          -1.7027302980422974,
          -3.5411386489868164,
          -1.5473846197128296,
          -1.7447211742401123,
          -2.2637739181518555,
          -3.8243727684020996,
          14.052263259887695,
          -2.0443007946014404,
          -2.222254753112793,
          -1.1983585357666016,
          -3.0902509689331055,
          -4.406210422515869,
          -2.612591505050659,
          -3.4354681968688965,
          -2.0008630752563477,
          -1.2118253707885742,
          -3.7639620304107666,
          -2.0709636211395264,
          -1.8025720119476318,
          -4.3399834632873535,
          -2.198929786682129,
          -3.4742329120635986,
          -3.0455381870269775,
          -2.2811572551727295,
          -1.6648403406143188,
          -0.9394756555557251,
          -2.5157368183135986,
          -1.658666729927063,
          -3.4425666332244873,
          -3.7637856006622314,
          -3.2119412422180176,
          -7.109941482543945,
          -2.1945316791534424,
          -3.680513858795166,
          -1.6718695163726807,
          -4.788418769836426,
          -6.969233989715576,
          -1.554630160331726,
          -2.70961856842041,
          -2.5195155143737793,
          -2.343381881713867,
          -3.456888437271118,
          -2.656432628631592,
          -4.079744815826416,
          -3.702218532562256,
          -5.029963970184326,
          -3.326354742050171,
          -4.058499813079834,
          -3.137336492538452,
          -3.151209592819214,
          -2.1625277996063232,
          -2.4630401134490967,
          -1.9532759189605713,
          -4.671918869018555,
          5.845665454864502,
          -3.334533452987671,
          -2.302893877029419
         ],
         "xaxis": "x",
         "y": [
          0.046828702092170715,
          -4.225518226623535,
          0.30065321922302246,
          -0.8186147212982178,
          -2.177098512649536,
          -4.772273063659668,
          1.2896933555603027,
          -1.2386305332183838,
          -2.3845503330230713,
          -5.790414810180664,
          -1.1085033416748047,
          -7.334923267364502,
          -0.614291787147522,
          0.5217843651771545,
          -2.2698347568511963,
          -0.6953684091567993,
          -0.13429750502109528,
          -4.729579925537109,
          -0.4208616614341736,
          -2.6137959957122803,
          1.281017780303955,
          -2.6522722244262695,
          -4.102291584014893,
          -5.086588382720947,
          -4.7350077629089355,
          -0.5592653751373291,
          1.1448421478271484,
          -0.12857185304164886,
          -0.3371397852897644,
          -0.2644749581813812,
          -4.0359883308410645,
          -5.419250965118408,
          -4.073353290557861,
          2.9790077209472656,
          -1.7414121627807617,
          -4.2139763832092285,
          -0.7478171586990356,
          -2.1530580520629883,
          -0.2551966607570648,
          -4.20274543762207,
          -0.3890189826488495,
          -0.911910891532898,
          -2.6437556743621826,
          -1.6731581687927246,
          -1.265038251876831,
          -2.955109119415283,
          -7.629959583282471,
          -4.959712028503418,
          -4.833366394042969,
          -2.221341371536255,
          1.477342128753662,
          -1.6078712940216064,
          -2.737424850463867,
          -0.9679712653160095,
          -0.3041011095046997,
          -2.4128899574279785,
          0.5134902000427246,
          -3.379511594772339,
          0.31187930703163147,
          5.265424728393555,
          -4.850205898284912,
          -3.7631547451019287,
          -2.6288704872131348,
          2.837608814239502,
          1.3566365242004395,
          -2.535426139831543,
          -3.4781601428985596,
          1.1216084957122803,
          0.8162843585014343,
          -1.1928389072418213,
          -3.005725383758545,
          -3.348780393600464,
          -1.1439974308013916,
          -3.7504165172576904,
          -5.187923908233643,
          -3.747006893157959,
          -1.023374080657959,
          -0.9766436219215393,
          0.8645226359367371,
          -3.3698270320892334,
          -3.5584962368011475,
          -5.791555881500244,
          -15.086997985839844,
          -0.8071068525314331,
          -4.859909534454346
         ],
         "yaxis": "y"
        },
        {
         "hovertemplate": "y_label=5<br>x1=%{x}<br>x2=%{y}<extra></extra>",
         "legendgroup": "5",
         "marker": {
          "color": "#19d3f3",
          "symbol": "circle"
         },
         "mode": "markers",
         "name": "5",
         "orientation": "v",
         "showlegend": true,
         "type": "scatter",
         "x": [
          22.052156448364258,
          0.18143612146377563,
          14.221602439880371,
          10.487378120422363,
          0.291287362575531,
          5.07947301864624,
          0.5073950290679932,
          10.154465675354004,
          14.567924499511719,
          2.401289224624634,
          4.1055169105529785,
          13.44607162475586,
          1.6657634973526,
          14.568291664123535,
          30.008304595947266,
          6.769596099853516,
          15.98935317993164,
          -0.3884819746017456,
          6.593166828155518,
          12.626778602600098,
          0.44586020708084106,
          2.4529271125793457,
          1.7452893257141113,
          1.8344110250473022,
          2.2576067447662354,
          2.6417958736419678,
          10.343382835388184,
          8.14168930053711,
          3.3598296642303467,
          5.505741119384766,
          23.91254234313965,
          7.651492595672607,
          2.26951003074646,
          -2.2942044734954834,
          3.450249433517456,
          4.791867256164551,
          3.3883795738220215,
          4.124878883361816,
          1.0028085708618164,
          7.7913031578063965,
          -1.362188458442688,
          0.247004434466362,
          1.1148911714553833,
          2.366917610168457,
          6.1165056228637695,
          4.104549407958984,
          6.426814556121826,
          20.82257080078125,
          0.1878659427165985,
          1.0643271207809448,
          5.624047756195068,
          0.285582959651947,
          4.968646049499512,
          1.2413147687911987,
          1.7901352643966675,
          30.00111961364746,
          0.2520456910133362,
          1.0919349193572998,
          20.316970825195312,
          15.481629371643066,
          -1.7991691827774048,
          9.587285995483398,
          1.9587067365646362,
          4.812506198883057,
          0.39153051376342773,
          3.1570804119110107,
          0.013431962579488754,
          11.192595481872559,
          0.9223595261573792,
          3.3924057483673096,
          1.6358428001403809,
          1.3956050872802734,
          0.147663414478302,
          3.3936188220977783,
          1.6488410234451294,
          2.821483850479126,
          1.5332403182983398,
          12.48928165435791,
          -0.09427103400230408,
          23.572813034057617,
          1.3703330755233765,
          0.7322739362716675,
          0.5042551755905151,
          -0.26973509788513184,
          3.279658794403076,
          6.056883335113525,
          13.240226745605469,
          -0.1037389487028122,
          14.359140396118164
         ],
         "xaxis": "x",
         "y": [
          -17.30716896057129,
          -1.9197101593017578,
          -12.787331581115723,
          -6.826205730438232,
          -1.6403687000274658,
          -5.262645244598389,
          -2.1693222522735596,
          -10.678503036499023,
          -10.862199783325195,
          -2.2363805770874023,
          -3.1989681720733643,
          -11.490281105041504,
          -8.439581871032715,
          -10.90404987335205,
          -19.617542266845703,
          -3.13727068901062,
          -10.881241798400879,
          -2.244943618774414,
          -5.557613372802734,
          -12.204309463500977,
          -1.466996192932129,
          -7.038239002227783,
          -0.9425457715988159,
          -2.4474101066589355,
          -2.0230140686035156,
          -2.2194793224334717,
          -13.453535079956055,
          -6.264066219329834,
          -3.414074420928955,
          -3.2653353214263916,
          -21.51595115661621,
          4.1954026222229,
          -2.6740598678588867,
          0.7926239967346191,
          -7.450412750244141,
          -3.682547092437744,
          -3.2899515628814697,
          -3.4730618000030518,
          -2.112696409225464,
          -3.401430606842041,
          -4.888511657714844,
          -1.6169118881225586,
          -1.5104255676269531,
          -2.540855646133423,
          -3.713757276535034,
          -4.727936267852783,
          -4.340869426727295,
          -21.151975631713867,
          -1.649803876876831,
          -1.3280680179595947,
          -6.141887664794922,
          -4.948305130004883,
          -2.558777093887329,
          -2.1328017711639404,
          -1.945261001586914,
          -22.05862808227539,
          -1.4424402713775635,
          -2.222444772720337,
          -20.61566734313965,
          -15.423166275024414,
          -1.3728899955749512,
          -11.07148265838623,
          -2.013521909713745,
          -4.245570659637451,
          -2.4697024822235107,
          -3.4299817085266113,
          -1.256425142288208,
          -9.466842651367188,
          -5.2549943923950195,
          -2.487220525741577,
          -1.9542505741119385,
          -2.295541524887085,
          -0.8016068935394287,
          -3.56992769241333,
          -1.627652883529663,
          -2.705223321914673,
          -1.4482555389404297,
          -9.875216484069824,
          -1.2358057498931885,
          -19.34486198425293,
          -1.6111996173858643,
          -0.8732134699821472,
          -2.029367446899414,
          -1.0056533813476562,
          -3.0937068462371826,
          -4.832632064819336,
          -13.567749977111816,
          -0.6837599873542786,
          -10.057146072387695
         ],
         "yaxis": "y"
        },
        {
         "hovertemplate": "y_label=6<br>x1=%{x}<br>x2=%{y}<extra></extra>",
         "legendgroup": "6",
         "marker": {
          "color": "#FF6692",
          "symbol": "circle"
         },
         "mode": "markers",
         "name": "6",
         "orientation": "v",
         "showlegend": true,
         "type": "scatter",
         "x": [
          10.908549308776855,
          11.28703784942627,
          11.531270980834961,
          19.94012451171875,
          36.64097213745117,
          11.923747062683105,
          10.078737258911133,
          1.188496470451355,
          1.2313860654830933,
          42.79821014404297,
          24.80415153503418,
          13.888256072998047,
          13.232135772705078,
          13.893633842468262,
          8.292986869812012,
          0.437761127948761,
          18.9132137298584,
          40.712379455566406,
          4.072437763214111,
          0.6303954124450684,
          0.5728423595428467,
          7.6635422706604,
          3.680650234222412,
          0.30829867720603943,
          8.642276763916016,
          0.15714405477046967,
          1.1384284496307373,
          0.7478861212730408,
          15.997769355773926,
          1.1410082578659058,
          30.61440658569336,
          14.850268363952637,
          9.731496810913086,
          11.306921005249023,
          -0.01699342578649521,
          24.663249969482422,
          1.37972092628479,
          19.922821044921875,
          28.3065242767334,
          29.29711151123047,
          22.147743225097656,
          0.45581185817718506,
          9.884754180908203,
          10.05585765838623,
          12.677029609680176,
          14.92782974243164,
          0.4515725374221802,
          13.344980239868164,
          10.091214179992676,
          16.35986328125,
          18.547019958496094,
          0.9096860289573669,
          8.052635192871094,
          7.47047233581543,
          14.963347434997559,
          0.9099497199058533,
          10.692058563232422,
          8.921734809875488,
          26.04408073425293,
          9.967456817626953,
          10.527084350585938,
          1.113305926322937,
          0.14227239787578583,
          18.218564987182617,
          1.5776387453079224,
          0.15140065550804138,
          9.93972110748291,
          0.5788383483886719,
          0.6715126037597656,
          29.92683982849121,
          1.0881567001342773,
          10.025411605834961,
          3.0245790481567383,
          1.404141902923584,
          14.744918823242188,
          1.2925087213516235,
          -0.25022703409194946,
          10.138848304748535,
          1.1476266384124756,
          18.179887771606445,
          20.10460662841797,
          7.30523681640625,
          0.2399262934923172,
          24.77899742126465,
          7.255390167236328,
          9.265522003173828,
          9.473433494567871,
          8.634418487548828,
          39.03395080566406,
          36.35456466674805,
          -0.4115293025970459,
          -0.2064967304468155,
          15.918885231018066,
          0.470564603805542,
          19.402366638183594,
          1.475881576538086,
          -0.05582263320684433,
          0.2410803586244583,
          1.2868009805679321,
          9.823236465454102,
          12.688525199890137,
          0.28114449977874756,
          30.63219451904297
         ],
         "xaxis": "x",
         "y": [
          -3.2088141441345215,
          -4.0191731452941895,
          -1.0038425922393799,
          -4.9143967628479,
          -10.67784309387207,
          1.2769577503204346,
          -1.2733709812164307,
          3.638918876647949,
          2.385237455368042,
          -8.428191184997559,
          -6.213340759277344,
          -1.2955868244171143,
          -1.8299648761749268,
          -5.453289031982422,
          -0.13082383573055267,
          3.3936920166015625,
          -8.67064094543457,
          -8.841604232788086,
          1.0257623195648193,
          1.313096523284912,
          2.087052583694458,
          -3.135092258453369,
          0.8256329894065857,
          3.4459619522094727,
          -0.5580995082855225,
          1.5713365077972412,
          0.8863736391067505,
          1.9050004482269287,
          -1.954192876815796,
          1.6823742389678955,
          -5.379085063934326,
          -1.6097016334533691,
          -2.881793975830078,
          -5.363776683807373,
          4.67086124420166,
          -5.819388389587402,
          1.4990904331207275,
          -0.5781306624412537,
          -4.893248081207275,
          -9.478978157043457,
          -5.666050434112549,
          2.6853108406066895,
          4.642083168029785,
          -1.6086130142211914,
          -1.7738697528839111,
          -1.559387445449829,
          2.5291261672973633,
          2.0793166160583496,
          -1.0394396781921387,
          0.7642599940299988,
          -4.7437262535095215,
          2.5285305976867676,
          2.8218700885772705,
          -0.8280131220817566,
          -6.805560111999512,
          2.0985960960388184,
          -0.7259525656700134,
          -17.186553955078125,
          -5.392390251159668,
          -3.1266579627990723,
          -0.5534155964851379,
          1.1126964092254639,
          1.7771978378295898,
          -6.991982460021973,
          3.5184178352355957,
          2.8188984394073486,
          -1.399442434310913,
          2.819096803665161,
          1.3609602451324463,
          -5.926928997039795,
          1.807159662246704,
          -0.10941173136234283,
          0.8351929783821106,
          1.4997241497039795,
          -3.272021770477295,
          1.6765310764312744,
          2.2031521797180176,
          -4.615633487701416,
          0.9327452778816223,
          -6.383782863616943,
          -6.321592330932617,
          -5.704486846923828,
          4.100988388061523,
          -4.031455039978027,
          -3.438830614089966,
          -3.7198939323425293,
          -1.1937909126281738,
          1.3678011894226074,
          -13.169267654418945,
          -12.45871353149414,
          1.8779666423797607,
          2.533787250518799,
          -6.21804666519165,
          1.7415492534637451,
          -4.982219696044922,
          3.1133339405059814,
          0.8610509037971497,
          3.160727024078369,
          1.3913967609405518,
          -1.9154140949249268,
          -1.4685440063476562,
          2.122588634490967,
          -1.960582971572876
         ],
         "yaxis": "y"
        },
        {
         "hovertemplate": "y_label=7<br>x1=%{x}<br>x2=%{y}<extra></extra>",
         "legendgroup": "7",
         "marker": {
          "color": "#B6E880",
          "symbol": "circle"
         },
         "mode": "markers",
         "name": "7",
         "orientation": "v",
         "showlegend": true,
         "type": "scatter",
         "x": [
          -10.901884078979492,
          -13.618751525878906,
          -11.580878257751465,
          -0.12179899215698242,
          -6.031563758850098,
          -9.731689453125,
          -3.470043897628784,
          -5.567502498626709,
          -0.8801527619361877,
          -31.313051223754883,
          -3.797978639602661,
          -19.79462432861328,
          -0.5060615539550781,
          -12.777990341186523,
          2.8151774406433105,
          -25.57944107055664,
          -36.8597526550293,
          -2.749890089035034,
          -8.726480484008789,
          -10.803099632263184,
          -5.289201736450195,
          -7.221632957458496,
          -7.424472808837891,
          -6.522467613220215,
          -1.055285930633545,
          -29.765941619873047,
          -9.86097240447998,
          -12.25426197052002,
          -15.02679443359375,
          -6.292221546173096,
          -35.82500076293945,
          -5.749491214752197,
          -22.0279483795166,
          -12.244843482971191,
          -5.0736823081970215,
          1.870959997177124,
          -4.134726047515869,
          -12.597814559936523,
          -12.079105377197266,
          -5.396905422210693,
          -5.723134517669678,
          -4.994828701019287,
          -6.337402820587158,
          -16.038097381591797,
          -8.61136245727539,
          -2.5048444271087646,
          -20.803659439086914,
          -18.372358322143555,
          -2.1486783027648926,
          -15.7766752243042,
          -14.445640563964844,
          -10.495421409606934,
          -8.160003662109375,
          -1.366112232208252,
          -28.2027645111084,
          -9.09694766998291,
          -15.997488021850586,
          -4.822818279266357,
          -9.195820808410645,
          -4.196658611297607,
          -23.005985260009766,
          -16.303056716918945,
          -3.8311948776245117,
          -6.914987564086914,
          -1.9035637378692627,
          -9.525348663330078,
          -22.663002014160156,
          -50.08507537841797,
          -16.975200653076172,
          -5.85007905960083,
          -7.010616302490234,
          -15.480688095092773,
          -19.96915054321289,
          -8.73411750793457,
          -28.41388702392578,
          -15.729399681091309,
          -2.8227951526641846,
          -9.031672477722168,
          -7.653097629547119,
          -7.210887908935547,
          -10.848115921020508,
          -5.8648295402526855,
          -13.024219512939453,
          -15.0228853225708,
          -1.2757177352905273,
          -4.513626575469971,
          -25.592308044433594,
          -10.483880043029785,
          -14.728496551513672,
          -11.41617488861084,
          -19.816207885742188,
          -8.247601509094238,
          -13.549688339233398,
          -8.093064308166504,
          -32.116004943847656,
          -7.3214569091796875,
          -12.440123558044434,
          -14.8168363571167,
          -3.156510829925537,
          -6.457900047302246,
          -6.244283676147461,
          -11.2473726272583,
          -18.69594955444336,
          -10.20309829711914,
          -13.618182182312012
         ],
         "xaxis": "x",
         "y": [
          -10.962281227111816,
          -2.799649477005005,
          -17.482120513916016,
          -0.5380136966705322,
          -2.7647268772125244,
          -3.2057621479034424,
          -7.438482284545898,
          -4.977165699005127,
          -32.11415100097656,
          2.9274075031280518,
          -7.113184928894043,
          -6.970629692077637,
          0.3211956024169922,
          -4.197246074676514,
          -0.5894845128059387,
          -5.422294616699219,
          4.407796382904053,
          -10.072307586669922,
          -0.6267242431640625,
          -4.049133777618408,
          -9.41715145111084,
          -2.5866951942443848,
          -4.731018543243408,
          -10.27196979522705,
          -2.503371000289917,
          -5.060262680053711,
          -2.942235231399536,
          -0.7584644556045532,
          -8.550642013549805,
          -1.0049946308135986,
          2.728790760040283,
          -8.649849891662598,
          -0.8437749147415161,
          -0.8565191030502319,
          -1.0310335159301758,
          -10.392919540405273,
          1.0141322612762451,
          0.3934147357940674,
          -20.644086837768555,
          -12.089629173278809,
          -10.901329040527344,
          -10.318535804748535,
          -1.1662535667419434,
          -5.0200653076171875,
          -19.354703903198242,
          -6.665108680725098,
          0.1843537837266922,
          2.8416035175323486,
          -6.787228584289551,
          -3.0897228717803955,
          -0.36519163846969604,
          -5.048079013824463,
          -15.69111156463623,
          -0.23972928524017334,
          8.385504722595215,
          -7.6339030265808105,
          -6.199245452880859,
          -9.689801216125488,
          -9.533196449279785,
          -7.672616481781006,
          -9.646219253540039,
          -12.036942481994629,
          -10.880762100219727,
          -3.6679751873016357,
          -13.701921463012695,
          -2.4659512042999268,
          2.1296191215515137,
          10.20454216003418,
          -18.657196044921875,
          -2.9347634315490723,
          -2.613414764404297,
          -0.9238766431808472,
          5.182297229766846,
          -1.8166210651397705,
          1.858245849609375,
          -12.18365478515625,
          -10.003972053527832,
          2.3739590644836426,
          -8.45996379852295,
          -4.097599029541016,
          -5.469044208526611,
          -1.9595344066619873,
          -10.728544235229492,
          5.071305751800537,
          -4.375676155090332,
          -0.7050088047981262,
          -13.676606178283691,
          0.2631559371948242,
          -4.230628967285156,
          -6.004637241363525,
          5.649580001831055,
          -14.879167556762695,
          -7.58848762512207,
          -15.238126754760742,
          8.693198204040527,
          -12.112130165100098,
          -10.414327621459961,
          -17.7524471282959,
          -5.887330055236816,
          -6.729299545288086,
          -1.5178635120391846,
          -9.215350151062012,
          -23.916339874267578,
          -8.504055976867676,
          -2.9502315521240234
         ],
         "yaxis": "y"
        },
        {
         "hovertemplate": "y_label=8<br>x1=%{x}<br>x2=%{y}<extra></extra>",
         "legendgroup": "8",
         "marker": {
          "color": "#FF97FF",
          "symbol": "circle"
         },
         "mode": "markers",
         "name": "8",
         "orientation": "v",
         "showlegend": true,
         "type": "scatter",
         "x": [
          6.351762294769287,
          1.7787262201309204,
          4.48148775100708,
          1.564065933227539,
          2.7494349479675293,
          1.4724868535995483,
          3.943232774734497,
          1.801695466041565,
          0.46558016538619995,
          1.569219708442688,
          0.14142659306526184,
          2.442124843597412,
          0.11539074778556824,
          3.421250343322754,
          -0.36651748418807983,
          1.7737021446228027,
          1.2080144882202148,
          0.9220407009124756,
          2.8969318866729736,
          -0.24459807574748993,
          3.372263193130493,
          1.9941340684890747,
          2.5480597019195557,
          0.5462836027145386,
          -0.08351963758468628,
          1.7284648418426514,
          0.9398642182350159,
          0.17073982954025269,
          0.8619442582130432,
          3.1902992725372314,
          6.615358829498291,
          -4.081243991851807,
          1.1062361001968384,
          2.243900775909424,
          0.24264344573020935,
          1.2064976692199707,
          0.5618126392364502,
          1.1548786163330078,
          2.068035125732422,
          2.048027753829956,
          1.5704054832458496,
          6.617520332336426,
          6.499838352203369,
          1.1005936861038208,
          2.160515546798706,
          1.2798765897750854,
          0.5351577401161194,
          2.866954803466797,
          -0.7469045519828796,
          0.8728699088096619,
          1.6321980953216553,
          8.008450508117676,
          0.1815091371536255,
          1.6053667068481445,
          -0.12104092538356781,
          -0.3282650113105774,
          1.7534856796264648,
          -0.07542106509208679,
          4.766314506530762,
          0.6883203387260437,
          -2.1447548866271973,
          3.3787317276000977,
          2.105159282684326,
          1.756251573562622,
          -1.3029571771621704,
          0.6125099658966064,
          1.3132822513580322,
          0.9368013143539429,
          -0.6679073572158813,
          0.2470511943101883,
          1.9620784521102905,
          1.1031490564346313,
          0.2602909207344055,
          -0.05835666507482529,
          2.0708935260772705,
          1.7535865306854248,
          -0.6970599889755249,
          0.22044716775417328,
          -0.025678016245365143,
          2.07666015625,
          2.043092727661133,
          -0.22339491546154022,
          2.693528652191162,
          -3.24770188331604,
          0.08983121812343597,
          1.9440226554870605,
          3.1871347427368164,
          2.90918231010437,
          0.04290501028299332,
          0.027888376265764236,
          1.0226107835769653,
          1.2140183448791504,
          0.542851448059082,
          2.109678030014038,
          4.4837117195129395,
          1.5903189182281494,
          -1.2428257465362549,
          -1.5659942626953125,
          1.0981826782226562
         ],
         "xaxis": "x",
         "y": [
          -11.719229698181152,
          -2.865781784057617,
          -7.666886329650879,
          -3.009254217147827,
          -6.561004638671875,
          -3.6479713916778564,
          -5.712017059326172,
          -3.537789821624756,
          -4.3697662353515625,
          -4.4757232666015625,
          -2.54394793510437,
          -4.616402626037598,
          -3.277953863143921,
          -5.506322383880615,
          -3.7040233612060547,
          -2.4702954292297363,
          -3.310831308364868,
          -4.470375061035156,
          -4.492774486541748,
          -1.8660650253295898,
          -6.867176532745361,
          -3.605388879776001,
          -6.941608428955078,
          -3.1428420543670654,
          -0.8726826310157776,
          -2.4492876529693604,
          -3.618479013442993,
          -1.919294834136963,
          -3.269418716430664,
          -4.980523109436035,
          -11.83913516998291,
          -4.264530658721924,
          -3.4538073539733887,
          -4.1012654304504395,
          -3.814281702041626,
          -3.190495252609253,
          -2.6336116790771484,
          -4.4120402336120605,
          -6.299938678741455,
          -6.356655597686768,
          -3.6619012355804443,
          -14.205815315246582,
          -9.461140632629395,
          -3.851046323776245,
          -6.4700164794921875,
          -4.080684661865234,
          -3.977851152420044,
          -6.474686145782471,
          -3.4868178367614746,
          -3.12288236618042,
          -5.762712478637695,
          -9.820298194885254,
          -2.2101778984069824,
          -0.7208623290061951,
          -1.792264461517334,
          -1.5867931842803955,
          -1.079329490661621,
          -4.275590896606445,
          -2.766094923019409,
          -3.0472614765167236,
          -1.6212549209594727,
          -8.76455020904541,
          -3.8973727226257324,
          -4.790019512176514,
          -3.824139356613159,
          -4.238651275634766,
          -5.813135147094727,
          -2.138437271118164,
          -0.655677855014801,
          -2.635936975479126,
          -4.781598091125488,
          -3.9212594032287598,
          -2.7572972774505615,
          -3.109694719314575,
          -3.7007319927215576,
          -5.829653739929199,
          -3.6263229846954346,
          -2.8735928535461426,
          -0.5900824069976807,
          -6.148517608642578,
          -5.131680488586426,
          -1.5974040031433105,
          -0.4355282187461853,
          -0.283363401889801,
          -2.469785690307617,
          -3.3336334228515625,
          6.016759395599365,
          -5.828924179077148,
          -1.7265269756317139,
          -2.720818281173706,
          -1.6554276943206787,
          -3.332721471786499,
          -3.9126834869384766,
          -8.19919490814209,
          -6.202001094818115,
          -3.483051061630249,
          -4.013124942779541,
          -4.742099761962891,
          -4.9835638999938965
         ],
         "yaxis": "y"
        },
        {
         "hovertemplate": "y_label=9<br>x1=%{x}<br>x2=%{y}<extra></extra>",
         "legendgroup": "9",
         "marker": {
          "color": "#FECB52",
          "symbol": "circle"
         },
         "mode": "markers",
         "name": "9",
         "orientation": "v",
         "showlegend": true,
         "type": "scatter",
         "x": [
          -5.320370197296143,
          6.277266502380371,
          -4.263330459594727,
          -4.822980880737305,
          -2.1607208251953125,
          -1.781466007232666,
          -4.670688629150391,
          -0.39029961824417114,
          -10.028076171875,
          -6.6156697273254395,
          -3.069519519805908,
          -12.790305137634277,
          -1.5604832172393799,
          -3.1319820880889893,
          -4.951096534729004,
          -3.5284762382507324,
          -8.23755168914795,
          -2.440425395965576,
          -1.9491891860961914,
          -9.21706485748291,
          -2.68802809715271,
          -4.493987083435059,
          -3.0529892444610596,
          -4.070681571960449,
          -3.3704962730407715,
          -1.4588170051574707,
          -5.53646183013916,
          -5.912889003753662,
          -1.8205556869506836,
          -2.700087547302246,
          -3.4300172328948975,
          -3.8309152126312256,
          -8.531486511230469,
          -3.337965965270996,
          -3.5376715660095215,
          -1.5894449949264526,
          -2.434101104736328,
          -3.6910619735717773,
          -4.191390514373779,
          -2.4261293411254883,
          -4.897027969360352,
          -2.89884877204895,
          -2.794161319732666,
          -5.156307220458984,
          -2.277834177017212,
          -4.087006568908691,
          -3.086944341659546,
          -3.0354244709014893,
          -2.615122079849243,
          -6.987103462219238,
          -3.2390332221984863,
          -12.007479667663574,
          -4.109424591064453,
          -4.46442174911499,
          -6.854973793029785,
          -3.1790878772735596,
          -9.06941032409668,
          -18.055681228637695,
          -5.949636459350586,
          -5.894262790679932,
          -3.1674442291259766,
          -4.919493198394775,
          -5.127810478210449,
          -2.884528636932373,
          -3.6896469593048096,
          -3.1396114826202393,
          -1.4666166305541992,
          -10.566146850585938,
          -1.7699859142303467,
          -4.675568580627441,
          -3.142651319503784,
          -2.511047124862671,
          -4.670913219451904,
          -4.218822956085205,
          -2.9205877780914307,
          -4.874011039733887,
          -5.010634422302246,
          -3.2207627296447754,
          -4.409019947052002,
          -0.22069118916988373,
          -8.609261512756348,
          -4.02780818939209,
          -2.6476852893829346,
          -4.938761234283447,
          -1.946789264678955,
          -4.854262351989746,
          -15.415899276733398,
          1.3849073648452759,
          -0.6849968433380127
         ],
         "xaxis": "x",
         "y": [
          -5.917942523956299,
          3.8466904163360596,
          0.31757333874702454,
          -1.005598545074463,
          -1.785625696182251,
          -2.0912551879882812,
          1.5850677490234375,
          0.7900165915489197,
          3.326199531555176,
          -1.6325514316558838,
          -3.4562573432922363,
          4.35112190246582,
          -0.4769763946533203,
          -7.9694952964782715,
          1.0439972877502441,
          -0.525734543800354,
          3.1754770278930664,
          -3.2939884662628174,
          -0.16217640042304993,
          2.9412505626678467,
          -1.952700138092041,
          -4.771637439727783,
          -0.049127593636512756,
          -0.20047681033611298,
          -3.8986239433288574,
          -1.4395084381103516,
          0.09440349042415619,
          0.8966633677482605,
          -2.861647844314575,
          0.27440014481544495,
          -3.630674123764038,
          -2.589341640472412,
          1.35874342918396,
          -1.8806493282318115,
          -3.1243064403533936,
          -0.4290972054004669,
          -7.203064441680908,
          -2.3029019832611084,
          -1.0999534130096436,
          -2.088649034500122,
          -3.6496291160583496,
          -3.773906707763672,
          -2.8531763553619385,
          -1.7210912704467773,
          -0.4287514388561249,
          1.7549872398376465,
          -4.545238018035889,
          -3.298354148864746,
          -7.799143314361572,
          0.5026524066925049,
          -3.7007029056549072,
          4.424145221710205,
          1.01741361618042,
          -5.665902614593506,
          -0.46947431564331055,
          -1.7140157222747803,
          3.888059139251709,
          6.492950439453125,
          -4.3736114501953125,
          0.6926982998847961,
          -7.4917802810668945,
          -4.9095988273620605,
          -4.335982799530029,
          -0.04573504626750946,
          2.381129264831543,
          -1.1364388465881348,
          -0.43823543190956116,
          4.191795825958252,
          -1.3510470390319824,
          -5.528524398803711,
          0.624316394329071,
          -1.8493387699127197,
          1.3528997898101807,
          -5.578517913818359,
          -0.1887577474117279,
          -3.6812098026275635,
          -0.8014394640922546,
          -3.6028480529785156,
          1.906919002532959,
          -1.1084873676300049,
          2.9043097496032715,
          -0.7142016887664795,
          -8.343575477600098,
          -2.7400739192962646,
          0.2601591944694519,
          -4.382606029510498,
          5.3127970695495605,
          0.7139394283294678,
          1.5308713912963867
         ],
         "yaxis": "y"
        }
       ],
       "layout": {
        "autosize": true,
        "legend": {
         "title": {
          "text": "y_label"
         },
         "tracegroupgap": 0
        },
        "margin": {
         "t": 60
        },
        "template": {
         "data": {
          "bar": [
           {
            "error_x": {
             "color": "#2a3f5f"
            },
            "error_y": {
             "color": "#2a3f5f"
            },
            "marker": {
             "line": {
              "color": "#E5ECF6",
              "width": 0.5
             }
            },
            "type": "bar"
           }
          ],
          "barpolar": [
           {
            "marker": {
             "line": {
              "color": "#E5ECF6",
              "width": 0.5
             }
            },
            "type": "barpolar"
           }
          ],
          "carpet": [
           {
            "aaxis": {
             "endlinecolor": "#2a3f5f",
             "gridcolor": "white",
             "linecolor": "white",
             "minorgridcolor": "white",
             "startlinecolor": "#2a3f5f"
            },
            "baxis": {
             "endlinecolor": "#2a3f5f",
             "gridcolor": "white",
             "linecolor": "white",
             "minorgridcolor": "white",
             "startlinecolor": "#2a3f5f"
            },
            "type": "carpet"
           }
          ],
          "choropleth": [
           {
            "colorbar": {
             "outlinewidth": 0,
             "ticks": ""
            },
            "type": "choropleth"
           }
          ],
          "contour": [
           {
            "colorbar": {
             "outlinewidth": 0,
             "ticks": ""
            },
            "colorscale": [
             [
              0,
              "#0d0887"
             ],
             [
              0.1111111111111111,
              "#46039f"
             ],
             [
              0.2222222222222222,
              "#7201a8"
             ],
             [
              0.3333333333333333,
              "#9c179e"
             ],
             [
              0.4444444444444444,
              "#bd3786"
             ],
             [
              0.5555555555555556,
              "#d8576b"
             ],
             [
              0.6666666666666666,
              "#ed7953"
             ],
             [
              0.7777777777777778,
              "#fb9f3a"
             ],
             [
              0.8888888888888888,
              "#fdca26"
             ],
             [
              1,
              "#f0f921"
             ]
            ],
            "type": "contour"
           }
          ],
          "contourcarpet": [
           {
            "colorbar": {
             "outlinewidth": 0,
             "ticks": ""
            },
            "type": "contourcarpet"
           }
          ],
          "heatmap": [
           {
            "colorbar": {
             "outlinewidth": 0,
             "ticks": ""
            },
            "colorscale": [
             [
              0,
              "#0d0887"
             ],
             [
              0.1111111111111111,
              "#46039f"
             ],
             [
              0.2222222222222222,
              "#7201a8"
             ],
             [
              0.3333333333333333,
              "#9c179e"
             ],
             [
              0.4444444444444444,
              "#bd3786"
             ],
             [
              0.5555555555555556,
              "#d8576b"
             ],
             [
              0.6666666666666666,
              "#ed7953"
             ],
             [
              0.7777777777777778,
              "#fb9f3a"
             ],
             [
              0.8888888888888888,
              "#fdca26"
             ],
             [
              1,
              "#f0f921"
             ]
            ],
            "type": "heatmap"
           }
          ],
          "heatmapgl": [
           {
            "colorbar": {
             "outlinewidth": 0,
             "ticks": ""
            },
            "colorscale": [
             [
              0,
              "#0d0887"
             ],
             [
              0.1111111111111111,
              "#46039f"
             ],
             [
              0.2222222222222222,
              "#7201a8"
             ],
             [
              0.3333333333333333,
              "#9c179e"
             ],
             [
              0.4444444444444444,
              "#bd3786"
             ],
             [
              0.5555555555555556,
              "#d8576b"
             ],
             [
              0.6666666666666666,
              "#ed7953"
             ],
             [
              0.7777777777777778,
              "#fb9f3a"
             ],
             [
              0.8888888888888888,
              "#fdca26"
             ],
             [
              1,
              "#f0f921"
             ]
            ],
            "type": "heatmapgl"
           }
          ],
          "histogram": [
           {
            "marker": {
             "colorbar": {
              "outlinewidth": 0,
              "ticks": ""
             }
            },
            "type": "histogram"
           }
          ],
          "histogram2d": [
           {
            "colorbar": {
             "outlinewidth": 0,
             "ticks": ""
            },
            "colorscale": [
             [
              0,
              "#0d0887"
             ],
             [
              0.1111111111111111,
              "#46039f"
             ],
             [
              0.2222222222222222,
              "#7201a8"
             ],
             [
              0.3333333333333333,
              "#9c179e"
             ],
             [
              0.4444444444444444,
              "#bd3786"
             ],
             [
              0.5555555555555556,
              "#d8576b"
             ],
             [
              0.6666666666666666,
              "#ed7953"
             ],
             [
              0.7777777777777778,
              "#fb9f3a"
             ],
             [
              0.8888888888888888,
              "#fdca26"
             ],
             [
              1,
              "#f0f921"
             ]
            ],
            "type": "histogram2d"
           }
          ],
          "histogram2dcontour": [
           {
            "colorbar": {
             "outlinewidth": 0,
             "ticks": ""
            },
            "colorscale": [
             [
              0,
              "#0d0887"
             ],
             [
              0.1111111111111111,
              "#46039f"
             ],
             [
              0.2222222222222222,
              "#7201a8"
             ],
             [
              0.3333333333333333,
              "#9c179e"
             ],
             [
              0.4444444444444444,
              "#bd3786"
             ],
             [
              0.5555555555555556,
              "#d8576b"
             ],
             [
              0.6666666666666666,
              "#ed7953"
             ],
             [
              0.7777777777777778,
              "#fb9f3a"
             ],
             [
              0.8888888888888888,
              "#fdca26"
             ],
             [
              1,
              "#f0f921"
             ]
            ],
            "type": "histogram2dcontour"
           }
          ],
          "mesh3d": [
           {
            "colorbar": {
             "outlinewidth": 0,
             "ticks": ""
            },
            "type": "mesh3d"
           }
          ],
          "parcoords": [
           {
            "line": {
             "colorbar": {
              "outlinewidth": 0,
              "ticks": ""
             }
            },
            "type": "parcoords"
           }
          ],
          "pie": [
           {
            "automargin": true,
            "type": "pie"
           }
          ],
          "scatter": [
           {
            "marker": {
             "colorbar": {
              "outlinewidth": 0,
              "ticks": ""
             }
            },
            "type": "scatter"
           }
          ],
          "scatter3d": [
           {
            "line": {
             "colorbar": {
              "outlinewidth": 0,
              "ticks": ""
             }
            },
            "marker": {
             "colorbar": {
              "outlinewidth": 0,
              "ticks": ""
             }
            },
            "type": "scatter3d"
           }
          ],
          "scattercarpet": [
           {
            "marker": {
             "colorbar": {
              "outlinewidth": 0,
              "ticks": ""
             }
            },
            "type": "scattercarpet"
           }
          ],
          "scattergeo": [
           {
            "marker": {
             "colorbar": {
              "outlinewidth": 0,
              "ticks": ""
             }
            },
            "type": "scattergeo"
           }
          ],
          "scattergl": [
           {
            "marker": {
             "colorbar": {
              "outlinewidth": 0,
              "ticks": ""
             }
            },
            "type": "scattergl"
           }
          ],
          "scattermapbox": [
           {
            "marker": {
             "colorbar": {
              "outlinewidth": 0,
              "ticks": ""
             }
            },
            "type": "scattermapbox"
           }
          ],
          "scatterpolar": [
           {
            "marker": {
             "colorbar": {
              "outlinewidth": 0,
              "ticks": ""
             }
            },
            "type": "scatterpolar"
           }
          ],
          "scatterpolargl": [
           {
            "marker": {
             "colorbar": {
              "outlinewidth": 0,
              "ticks": ""
             }
            },
            "type": "scatterpolargl"
           }
          ],
          "scatterternary": [
           {
            "marker": {
             "colorbar": {
              "outlinewidth": 0,
              "ticks": ""
             }
            },
            "type": "scatterternary"
           }
          ],
          "surface": [
           {
            "colorbar": {
             "outlinewidth": 0,
             "ticks": ""
            },
            "colorscale": [
             [
              0,
              "#0d0887"
             ],
             [
              0.1111111111111111,
              "#46039f"
             ],
             [
              0.2222222222222222,
              "#7201a8"
             ],
             [
              0.3333333333333333,
              "#9c179e"
             ],
             [
              0.4444444444444444,
              "#bd3786"
             ],
             [
              0.5555555555555556,
              "#d8576b"
             ],
             [
              0.6666666666666666,
              "#ed7953"
             ],
             [
              0.7777777777777778,
              "#fb9f3a"
             ],
             [
              0.8888888888888888,
              "#fdca26"
             ],
             [
              1,
              "#f0f921"
             ]
            ],
            "type": "surface"
           }
          ],
          "table": [
           {
            "cells": {
             "fill": {
              "color": "#EBF0F8"
             },
             "line": {
              "color": "white"
             }
            },
            "header": {
             "fill": {
              "color": "#C8D4E3"
             },
             "line": {
              "color": "white"
             }
            },
            "type": "table"
           }
          ]
         },
         "layout": {
          "annotationdefaults": {
           "arrowcolor": "#2a3f5f",
           "arrowhead": 0,
           "arrowwidth": 1
          },
          "coloraxis": {
           "colorbar": {
            "outlinewidth": 0,
            "ticks": ""
           }
          },
          "colorscale": {
           "diverging": [
            [
             0,
             "#8e0152"
            ],
            [
             0.1,
             "#c51b7d"
            ],
            [
             0.2,
             "#de77ae"
            ],
            [
             0.3,
             "#f1b6da"
            ],
            [
             0.4,
             "#fde0ef"
            ],
            [
             0.5,
             "#f7f7f7"
            ],
            [
             0.6,
             "#e6f5d0"
            ],
            [
             0.7,
             "#b8e186"
            ],
            [
             0.8,
             "#7fbc41"
            ],
            [
             0.9,
             "#4d9221"
            ],
            [
             1,
             "#276419"
            ]
           ],
           "sequential": [
            [
             0,
             "#0d0887"
            ],
            [
             0.1111111111111111,
             "#46039f"
            ],
            [
             0.2222222222222222,
             "#7201a8"
            ],
            [
             0.3333333333333333,
             "#9c179e"
            ],
            [
             0.4444444444444444,
             "#bd3786"
            ],
            [
             0.5555555555555556,
             "#d8576b"
            ],
            [
             0.6666666666666666,
             "#ed7953"
            ],
            [
             0.7777777777777778,
             "#fb9f3a"
            ],
            [
             0.8888888888888888,
             "#fdca26"
            ],
            [
             1,
             "#f0f921"
            ]
           ],
           "sequentialminus": [
            [
             0,
             "#0d0887"
            ],
            [
             0.1111111111111111,
             "#46039f"
            ],
            [
             0.2222222222222222,
             "#7201a8"
            ],
            [
             0.3333333333333333,
             "#9c179e"
            ],
            [
             0.4444444444444444,
             "#bd3786"
            ],
            [
             0.5555555555555556,
             "#d8576b"
            ],
            [
             0.6666666666666666,
             "#ed7953"
            ],
            [
             0.7777777777777778,
             "#fb9f3a"
            ],
            [
             0.8888888888888888,
             "#fdca26"
            ],
            [
             1,
             "#f0f921"
            ]
           ]
          },
          "colorway": [
           "#636efa",
           "#EF553B",
           "#00cc96",
           "#ab63fa",
           "#FFA15A",
           "#19d3f3",
           "#FF6692",
           "#B6E880",
           "#FF97FF",
           "#FECB52"
          ],
          "font": {
           "color": "#2a3f5f"
          },
          "geo": {
           "bgcolor": "white",
           "lakecolor": "white",
           "landcolor": "#E5ECF6",
           "showlakes": true,
           "showland": true,
           "subunitcolor": "white"
          },
          "hoverlabel": {
           "align": "left"
          },
          "hovermode": "closest",
          "mapbox": {
           "style": "light"
          },
          "paper_bgcolor": "white",
          "plot_bgcolor": "#E5ECF6",
          "polar": {
           "angularaxis": {
            "gridcolor": "white",
            "linecolor": "white",
            "ticks": ""
           },
           "bgcolor": "#E5ECF6",
           "radialaxis": {
            "gridcolor": "white",
            "linecolor": "white",
            "ticks": ""
           }
          },
          "scene": {
           "xaxis": {
            "backgroundcolor": "#E5ECF6",
            "gridcolor": "white",
            "gridwidth": 2,
            "linecolor": "white",
            "showbackground": true,
            "ticks": "",
            "zerolinecolor": "white"
           },
           "yaxis": {
            "backgroundcolor": "#E5ECF6",
            "gridcolor": "white",
            "gridwidth": 2,
            "linecolor": "white",
            "showbackground": true,
            "ticks": "",
            "zerolinecolor": "white"
           },
           "zaxis": {
            "backgroundcolor": "#E5ECF6",
            "gridcolor": "white",
            "gridwidth": 2,
            "linecolor": "white",
            "showbackground": true,
            "ticks": "",
            "zerolinecolor": "white"
           }
          },
          "shapedefaults": {
           "line": {
            "color": "#2a3f5f"
           }
          },
          "ternary": {
           "aaxis": {
            "gridcolor": "white",
            "linecolor": "white",
            "ticks": ""
           },
           "baxis": {
            "gridcolor": "white",
            "linecolor": "white",
            "ticks": ""
           },
           "bgcolor": "#E5ECF6",
           "caxis": {
            "gridcolor": "white",
            "linecolor": "white",
            "ticks": ""
           }
          },
          "title": {
           "x": 0.05
          },
          "xaxis": {
           "automargin": true,
           "gridcolor": "white",
           "linecolor": "white",
           "ticks": "",
           "title": {
            "standoff": 15
           },
           "zerolinecolor": "white",
           "zerolinewidth": 2
          },
          "yaxis": {
           "automargin": true,
           "gridcolor": "white",
           "linecolor": "white",
           "ticks": "",
           "title": {
            "standoff": 15
           },
           "zerolinecolor": "white",
           "zerolinewidth": 2
          }
         }
        },
        "xaxis": {
         "anchor": "y",
         "autorange": true,
         "domain": [
          0,
          1
         ],
         "range": [
          -55.6049026334699,
          48.3180373990949
         ],
         "title": {
          "text": "x1"
         },
         "type": "linear"
        },
        "yaxis": {
         "anchor": "x",
         "autorange": true,
         "domain": [
          0,
          1
         ],
         "range": [
          -75.99129053681375,
          29.041495767526644
         ],
         "title": {
          "text": "x2"
         },
         "type": "linear"
        }
       }
      },
      "image/png": "[encoded data removed]",
      "text/html": [
       "<div>                            <div id=\"ba32434f-f569-43d0-8f7f-469a8840d1f2\" class=\"plotly-graph-div\" style=\"height:525px; width:100%;\"></div>            <script type=\"text/javascript\">                require([\"plotly\"], function(Plotly) {                    window.PLOTLYENV=window.PLOTLYENV || {};                                    if (document.getElementById(\"ba32434f-f569-43d0-8f7f-469a8840d1f2\")) {                    Plotly.newPlot(                        \"ba32434f-f569-43d0-8f7f-469a8840d1f2\",                        [{\"hovertemplate\": \"y_label=0<br>x1=%{x}<br>x2=%{y}<extra></extra>\", \"legendgroup\": \"0\", \"marker\": {\"color\": \"#636efa\", \"symbol\": \"circle\"}, \"mode\": \"markers\", \"name\": \"0\", \"orientation\": \"v\", \"showlegend\": true, \"type\": \"scatter\", \"x\": [4.184192657470703, 6.119746208190918, 5.9411940574646, 7.108482837677002, 2.4371345043182373, 7.189652442932129, 2.8509628772735596, 3.447538137435913, 6.145847320556641, 3.9801180362701416, 3.8617093563079834, 3.740605592727661, 8.398260116577148, 2.624309778213501, 4.414401531219482, 3.939361095428467, 5.144861698150635, 4.3284831047058105, 8.146116256713867, 4.729286193847656, 4.571041584014893, 4.1953654289245605, 13.642298698425293, 8.305912971496582, 6.310708999633789, 5.867935657501221, 6.175727367401123, 4.02811861038208, 2.8548941612243652, 8.48184871673584, 3.973219156265259, 13.758986473083496, 5.476032733917236, 5.378748416900635, 2.1260013580322266, 4.364476680755615, 4.166159629821777, 4.8429999351501465, 6.814439296722412, 5.371798992156982, 3.398026466369629, 4.790162563323975, 5.501044750213623, 8.091826438903809, 4.478066921234131, 6.409081935882568, 9.752279281616211, 7.944042682647705, 5.087378978729248, 13.991421699523926, 15.760347366333008, 5.893485069274902, 4.81605339050293, 12.15546989440918, 3.7378652095794678, 18.920162200927734, 4.674468517303467, 1.8758900165557861, 7.871306896209717, 4.1908135414123535, 4.44610071182251, 3.057765007019043, 9.353658676147461, 3.9753949642181396, 3.736494779586792, 2.9502899646759033, 3.542349100112915, 4.179271221160889, 5.747762680053711, 4.558286666870117, 4.155911922454834, 8.690374374389648, 2.594390630722046, 8.920944213867188, 3.3914546966552734, 0.8042706847190857, 2.446376323699951, 4.4856085777282715, 13.129195213317871, 13.017788887023926, 5.194481372833252, 4.144367694854736, 14.673185348510742, 3.574854850769043, 12.253528594970703, 4.396651268005371, 3.3248186111450195, 7.846153259277344, 2.2906718254089355, 8.028903007507324, 8.990006446838379, 10.209357261657715, 6.37218713760376, -0.6425867676734924, 22.725967407226562, 2.6594743728637695, 11.565401077270508, 4.249108791351318, 3.025517463684082, 11.709030151367188, 3.595712661743164, 3.785066843032837, 5.962730407714844, 3.0836620330810547, 4.2572455406188965, 16.827075958251953, 6.015568256378174, 2.6891531944274902], \"xaxis\": \"x\", \"y\": [8.667410850524902, 10.868759155273438, 5.225243091583252, 4.684521675109863, 3.9743547439575195, 11.674883842468262, 3.5396664142608643, 20.681331634521484, 6.9626288414001465, 4.46764612197876, 8.25804615020752, 7.115492343902588, 5.537479877471924, 4.003667831420898, 5.381775856018066, 3.2096099853515625, 10.586501121520996, 3.2172932624816895, 7.711342811584473, 5.9412946701049805, 14.422445297241211, 3.0436880588531494, 22.519298553466797, 11.280906677246094, 5.510715484619141, 6.980494499206543, 17.466611862182617, 14.543182373046875, 3.84255051612854, 11.624831199645996, 4.384028911590576, 10.186845779418945, 6.27128267288208, 5.056245803833008, 7.311478614807129, 5.0083394050598145, 8.982544898986816, 5.522836208343506, 11.675766944885254, 5.453035831451416, 3.3801321983337402, 7.820197582244873, 5.82476282119751, 8.031306266784668, 7.4171247482299805, 6.4230475425720215, 6.578371524810791, 2.6540699005126953, 4.641473770141602, 12.746214866638184, 14.142792701721191, 4.701907634735107, 6.1437506675720215, 11.788309097290039, 3.4680893421173096, 14.632807731628418, 7.767701148986816, 15.586091995239258, 12.532051086425781, 8.208977699279785, 6.42935848236084, 5.630918502807617, 9.625143051147461, 6.111359596252441, 3.7152645587921143, 3.851351261138916, 5.209738731384277, 5.748540878295898, 7.540529251098633, 8.434362411499023, 3.9837331771850586, 7.785302639007568, 2.97835636138916, 9.874059677124023, 6.326993465423584, 16.82457160949707, 7.080107688903809, 5.645653247833252, 10.481651306152344, 18.170387268066406, 3.328275442123413, 4.458024501800537, 18.658205032348633, 2.600250720977783, 11.174089431762695, 6.15149450302124, 5.528628826141357, 8.688864707946777, 1.4579191207885742, 7.835874080657959, 8.536330223083496, 8.175777435302734, 13.027260780334473, 17.81401824951172, 18.93544578552246, 2.764000654220581, 11.900484085083008, 3.97880482673645, 8.350290298461914, 14.339167594909668, 5.995833396911621, 4.077559471130371, 5.543246269226074, 3.815030813217163, 1.6481776237487793, 17.521202087402344, 11.454293251037598, 3.034456253051758], \"yaxis\": \"y\"}, {\"hovertemplate\": \"y_label=1<br>x1=%{x}<br>x2=%{y}<extra></extra>\", \"legendgroup\": \"1\", \"marker\": {\"color\": \"#EF553B\", \"symbol\": \"circle\"}, \"mode\": \"markers\", \"name\": \"1\", \"orientation\": \"v\", \"showlegend\": true, \"type\": \"scatter\", \"x\": [9.275629997253418, 12.68358039855957, 2.293370008468628, 7.288819789886475, -0.20852209627628326, 0.9810870885848999, 6.332334041595459, 3.2766122817993164, 4.9676666259765625, -1.3699488639831543, 18.200340270996094, 9.629215240478516, 9.993202209472656, 11.565339088439941, 9.345760345458984, 5.792527675628662, 7.678756237030029, 13.882757186889648, -1.3599892854690552, 2.793276071548462, 6.4597063064575195, 20.69652557373047, 9.008624076843262, 18.515541076660156, 15.921445846557617, 6.201791286468506, 1.110257625579834, 17.232322692871094, 2.1208720207214355, 10.346111297607422, 16.8811092376709, 15.08104419708252, 5.648642063140869, 6.143385410308838, 10.059386253356934, 2.40744686126709, 6.692501544952393, 16.655794143676758, 9.599719047546387, 1.2503002882003784, 3.86035418510437, 3.9303886890411377, -1.4511560201644897, 2.5623183250427246, 0.012238498777151108, 9.526795387268066, 6.364025115966797, -0.5737194418907166, 10.036514282226562, 10.941932678222656, -0.07443316280841827, 19.840578079223633, 1.8814438581466675, -1.6263527870178223, 17.157384872436523, 4.1996564865112305, 22.935508728027344, 3.2477195262908936, 10.413969039916992, -1.5538660287857056, 5.592400550842285, 1.8718866109848022, 3.190656900405884, 2.276646375656128, -2.3754990100860596, 16.631296157836914, 9.816405296325684, 1.5948926210403442, 27.841283798217773, 0.127408966422081, 7.989320755004883, 9.578991889953613, 19.62641143798828, 19.072044372558594, 2.2225122451782227, 2.0667953491210938, 12.163445472717285, 7.737534046173096, 3.4422607421875, 8.295904159545898, 4.356240749359131, 0.683075487613678, 5.758699893951416, 12.98578929901123, -1.6034189462661743, 13.87893295288086, 3.4676222801208496, 6.68670129776001, 4.452514171600342, 0.715540885925293, 8.134193420410156, 15.676656723022461, 0.2765820622444153, 13.10144329071045, 8.051767349243164, 3.069139242172241, 3.0832033157348633, 15.059866905212402, 6.159578323364258, 0.596433162689209, 13.5892915725708, 14.533599853515625, 9.82552433013916, 6.543542861938477, 4.645296096801758, 4.740473747253418, 8.262443542480469, 7.568295955657959, 11.403279304504395, -0.13526791334152222, 4.926167011260986, 2.4683570861816406, 4.7461371421813965, 15.86590576171875, 11.749669075012207, -1.8035194873809814, 5.641724586486816, 12.951297760009766, 6.888698577880859, 4.84529447555542, 17.335912704467773, 1.6575632095336914], \"xaxis\": \"x\", \"y\": [-34.53420639038086, -34.057132720947266, -53.05769348144531, -53.95149612426758, -36.298927307128906, -46.91267395019531, -64.83143615722656, -21.308189392089844, -30.283857345581055, -40.11418533325195, -42.922027587890625, -3.413661003112793, -30.488798141479492, -41.74220275878906, -26.050596237182617, -34.01758575439453, -20.209877014160156, -30.24298858642578, -32.45067596435547, -62.731109619140625, -43.02014923095703, -51.38027572631836, -23.095319747924805, -38.275020599365234, -37.96331024169922, -68.70926666259766, -37.27968978881836, -30.76418113708496, -34.42622375488281, -32.434669494628906, -39.64250183105469, -45.25994110107422, -33.198604583740234, -66.46268463134766, -31.358304977416992, -28.389633178710938, -58.7816276550293, -36.451072692871094, -25.28120994567871, -14.124463081359863, -55.20541000366211, -34.14523696899414, -42.66017532348633, -23.553356170654297, -34.96263122558594, -27.099773406982422, -37.91425704956055, -44.407466888427734, -25.994590759277344, -37.559852600097656, -62.85285949707031, -36.746360778808594, -31.382431030273438, -65.52613830566406, -28.8212890625, -61.981082916259766, -49.031707763671875, -39.10969924926758, -30.328386306762695, -47.80399703979492, -23.363269805908203, -35.74224090576172, -16.814722061157227, -52.00935745239258, -56.78126907348633, -44.690773010253906, -56.07095718383789, -31.612096786499023, -57.77253341674805, -12.175719261169434, -49.57136917114258, -25.738954544067383, -41.06275939941406, -58.966392517089844, -44.233245849609375, -52.19168472290039, -37.66188430786133, -21.164180755615234, -25.48952865600586, -26.027591705322266, -35.731075286865234, -38.300968170166016, -27.77631950378418, -39.67118453979492, -47.674346923828125, -50.17212677001953, -32.29073715209961, -67.74555206298828, -35.046539306640625, -43.768226623535156, -20.36434555053711, -40.610816955566406, -37.70206069946289, -37.74710464477539, -17.14303207397461, -42.30335998535156, -24.596656799316406, -32.95425796508789, -21.112375259399414, -23.54833984375, -40.87205123901367, -61.413856506347656, -69.4690933227539, -37.69093704223633, -37.64400863647461, -46.023624420166016, -34.71437072753906, -53.357852935791016, -54.79340362548828, -49.0866584777832, -55.6573371887207, -28.165924072265625, -48.069671630859375, -46.44778823852539, -44.58296203613281, -36.92924118041992, -45.867530822753906, -45.82127380371094, -31.3725643157959, -40.609004974365234, -39.63088607788086, -24.529876708984375], \"yaxis\": \"y\"}, {\"hovertemplate\": \"y_label=2<br>x1=%{x}<br>x2=%{y}<extra></extra>\", \"legendgroup\": \"2\", \"marker\": {\"color\": \"#00cc96\", \"symbol\": \"circle\"}, \"mode\": \"markers\", \"name\": \"2\", \"orientation\": \"v\", \"showlegend\": true, \"type\": \"scatter\", \"x\": [3.597614288330078, 0.7927800416946411, 2.149385690689087, 2.242032289505005, 1.5022920370101929, 0.894984245300293, 0.2740493416786194, -0.5094742774963379, -0.4392232894897461, 1.5452494621276855, 1.3351978063583374, 0.005653750151395798, 3.030614137649536, 0.733989953994751, 0.99416583776474, 2.5864686965942383, 1.7145612239837646, 2.0951483249664307, 0.47815001010894775, 1.734959363937378, 1.7103220224380493, 0.3642805218696594, 0.49947404861450195, 0.5384736061096191, 1.8120425939559937, 0.4702746272087097, 7.014400482177734, 1.0949970483779907, 1.3949295282363892, 2.1531856060028076, 0.05005768686532974, 2.1401617527008057, 0.8074468374252319, 1.991532802581787, 1.5271104574203491, 2.841783285140991, 1.7286105155944824, 0.25432807207107544, -0.6497031450271606, -0.49693381786346436, 1.8444445133209229, 2.7141709327697754, -3.255579948425293, 1.1275690793991089, 1.5401448011398315, 1.1771034002304077, 0.6394439935684204, 3.883636236190796, 1.447659969329834, 0.4367492198944092, 0.4349486827850342, 1.9446741342544556, 1.1909669637680054, 0.7878440618515015, 1.1031221151351929, 2.2441272735595703, 1.0918786525726318, 3.6239092350006104, -0.663457453250885, 2.166402578353882, 0.7917442917823792, 1.2647522687911987, 2.2035610675811768, 1.5140407085418701, 0.9593073725700378, 0.36823582649230957, 2.098313093185425, 0.9604573845863342, 0.763558566570282, 0.7187904119491577, 1.5073970556259155, 0.7670404314994812, 2.4406113624572754, 2.5780417919158936, 0.3119713068008423, 0.922316312789917, 1.9833062887191772, 1.696764588356018, 2.014244318008423, 2.767061233520508, -1.3916422128677368, 2.3657305240631104, 0.8180477619171143, 0.8380300998687744, 2.538654088973999, 2.288424015045166, 1.66817307472229, 0.5755214095115662, 1.464816927909851, 0.6313451528549194, -0.064485102891922, 2.4998884201049805, -0.06308238208293915, 1.8752440214157104, 1.094635009765625, 1.1368945837020874, 2.69382905960083, 0.7104271054267883, 0.7133283019065857, 2.453483819961548, 2.2305774688720703, 1.6788032054901123, 1.693289041519165, 2.1200833320617676, -2.018217086791992, 1.8797194957733154, -0.5605907440185547, 2.6206066608428955, -0.3498666286468506, 3.7877540588378906, 0.33869093656539917, 2.810375690460205, 1.728361964225769], \"xaxis\": \"x\", \"y\": [-0.8100416660308838, -0.22621303796768188, -0.4630737900733948, -0.5377241969108582, -0.13214027881622314, -0.06566008180379868, 0.04005232825875282, 0.5807964205741882, -1.4264004230499268, -0.4864218831062317, -0.48687297105789185, -1.8503477573394775, -0.2604551315307617, -0.23400330543518066, -0.2606789469718933, -0.5854591131210327, -0.46764737367630005, -0.5582603812217712, 0.04342733696103096, -0.6149922013282776, -0.5390622615814209, -0.4148600399494171, 0.0410919189453125, -0.23153996467590332, -0.5195437669754028, -0.2767791748046875, 6.0866899490356445, -0.045632027089595795, -0.444416880607605, -0.4788867235183716, 0.10810033977031708, -0.6052928566932678, -0.28240397572517395, -0.4722644090652466, -0.28303223848342896, -0.5535960793495178, -0.3193120062351227, 0.06777386367321014, 0.4370950758457184, 0.34889721870422363, -0.47923457622528076, -0.5469354391098022, -6.983139991760254, -0.38766273856163025, -0.42989760637283325, -0.278221070766449, 0.6677497625350952, -1.0149636268615723, -0.5977745652198792, -0.007347717881202698, 0.0060705021023750305, 0.06819064915180206, -1.4714837074279785, -0.0558246448636055, -0.802667498588562, -0.4662511944770813, -0.10030302405357361, -0.9101830124855042, 0.7885412573814392, -0.18523982167243958, -0.11585041880607605, -0.27910807728767395, -0.6619350910186768, -0.17659199237823486, -0.04160697013139725, -0.30130594968795776, -0.34527814388275146, 1.836223840713501, -7.272120475769043, -0.18994088470935822, -0.49929600954055786, -0.14480450749397278, -0.6818094253540039, -0.4060661494731903, -0.25883692502975464, -0.3824065923690796, -0.569155216217041, -0.37595248222351074, -0.3241858184337616, -0.48391133546829224, -2.087810516357422, -0.460813045501709, -0.16705983877182007, -0.2853553295135498, -0.4812922477722168, -1.6419634819030762, -0.35340991616249084, -0.17392811179161072, -0.484125554561615, 0.04460640251636505, 0.2110103964805603, -0.6283317804336548, 0.5167564153671265, -3.5414085388183594, -0.2555174231529236, -0.17632420361042023, -0.7483074069023132, -0.10342419147491455, -0.06459154933691025, -0.6784183979034424, -0.3554452657699585, -0.40174010396003723, -0.5103986859321594, -0.4664984941482544, -8.544139862060547, -0.5454846620559692, 0.4747004806995392, -0.6766113042831421, 0.4039756655693054, -0.9208486080169678, -0.04228658229112625, -0.6478299498558044, -0.2811208665370941], \"yaxis\": \"y\"}, {\"hovertemplate\": \"y_label=3<br>x1=%{x}<br>x2=%{y}<extra></extra>\", \"legendgroup\": \"3\", \"marker\": {\"color\": \"#ab63fa\", \"symbol\": \"circle\"}, \"mode\": \"markers\", \"name\": \"3\", \"orientation\": \"v\", \"showlegend\": true, \"type\": \"scatter\", \"x\": [0.26318180561065674, 0.8838275671005249, 0.638625979423523, 1.5248939990997314, 1.023280382156372, 0.4015636444091797, 0.10650373250246048, 1.8504703044891357, 1.0782215595245361, 0.5371984839439392, 0.4703127145767212, 1.637900948524475, 1.5080373287200928, 0.25084632635116577, 1.9240998029708862, 1.3583509922027588, 1.8787142038345337, 1.0410268306732178, 0.4257358908653259, 1.2566640377044678, 0.3270694613456726, 0.6510732173919678, 0.2530556917190552, 0.2752658426761627, -0.3983480930328369, 0.40715593099594116, 0.4550318717956543, 1.3685905933380127, 0.8560694456100464, 0.9799709320068359, 1.0826776027679443, 0.6584632992744446, 1.175443172454834, 1.1457819938659668, -0.19763483107089996, 0.3955594301223755, 0.5175516605377197, 1.89935302734375, -9.281291961669922, -0.1073971539735794, 0.12128102779388428, 0.38283753395080566, 1.5743508338928223, 0.987975001335144, 0.4584818482398987, 0.18449391424655914, 1.3263334035873413, 0.9364194869995117, 0.9964998960494995, 0.07565655559301376, -0.13733667135238647, 1.9151934385299683, 0.9795340895652771, -0.1666557937860489, 0.6989941596984863, 1.1327258348464966, 0.923732340335846, 0.42706042528152466, 0.9704477787017822, 0.5516392588615417, 0.18001070618629456, 1.259834885597229, 0.10579082369804382, 1.6481767892837524, 1.190930962562561, 1.4862611293792725, 0.5479925274848938, 0.4882391691207886, 0.762665331363678, 1.2076160907745361, 0.3423359990119934, -0.11605699360370636, 1.2370458841323853, -9.029820442199707, 1.690580129623413, 1.0164737701416016, 1.5688685178756714, 1.1323450803756714, 0.21406933665275574, 2.1540398597717285, 0.6831813454627991, 1.5349507331848145, 1.4974122047424316, 1.1449978351593018, 0.3731917142868042, 0.9857768416404724, 0.14904260635375977], \"xaxis\": \"x\", \"y\": [-1.52168869972229, -0.9743054509162903, -0.9282680153846741, -1.3498904705047607, -2.1795291900634766, -1.2250206470489502, -0.6700124144554138, -3.2603423595428467, -1.9229614734649658, -7.947783946990967, -2.1249263286590576, -1.2103793621063232, -1.3401720523834229, -8.517793655395508, -1.168689489364624, -1.6947863101959229, -1.8854224681854248, -1.0558650493621826, -2.030027389526367, -2.430405616760254, -1.1765663623809814, -1.2818102836608887, -5.211881160736084, -0.8960756063461304, -10.936736106872559, -1.5411489009857178, -0.6175435185432434, -1.159975290298462, -0.9887399077415466, -1.325819492340088, -1.8877103328704834, -3.7309460639953613, -1.3076255321502686, -1.3594584465026855, -0.1153903603553772, -0.9624614119529724, -1.502964973449707, -1.034869909286499, 2.9934146404266357, -1.716240644454956, -1.0108041763305664, -4.512259006500244, -1.0454156398773193, -0.19835969805717468, -0.4525773525238037, -1.910188913345337, -0.8958562016487122, -6.779101848602295, -1.1865220069885254, -1.714414358139038, -1.8571481704711914, -1.8742761611938477, -2.4632108211517334, -0.18849767744541168, -0.8640585541725159, -2.384570598602295, -0.9608960747718811, -2.006138563156128, -1.086416244506836, -0.9676297307014465, -1.1149282455444336, -1.448103666305542, -3.3154735565185547, -1.1002459526062012, -1.8218226432800293, -1.3245189189910889, -7.277031421661377, -1.9549000263214111, -0.3646201491355896, -2.353531837463379, -1.402233362197876, -1.267347812652588, -2.5279719829559326, -8.927899360656738, -1.3804044723510742, -0.8278706073760986, -1.573725700378418, -1.713085651397705, -0.6854050755500793, -1.0955955982208252, -11.153390884399414, -1.7219781875610352, -0.9870681166648865, -1.9387993812561035, -2.5018038749694824, -2.866490364074707, -0.598267138004303], \"yaxis\": \"y\"}, {\"hovertemplate\": \"y_label=4<br>x1=%{x}<br>x2=%{y}<extra></extra>\", \"legendgroup\": \"4\", \"marker\": {\"color\": \"#FFA15A\", \"symbol\": \"circle\"}, \"mode\": \"markers\", \"name\": \"4\", \"orientation\": \"v\", \"showlegend\": true, \"type\": \"scatter\", \"x\": [-1.6331535577774048, -2.1808907985687256, -7.760161399841309, -2.8045947551727295, -1.5726027488708496, -2.621169090270996, -6.002347946166992, -2.220273733139038, -1.519331693649292, -2.088407039642334, -3.5147178173065186, 6.471426010131836, -1.498539686203003, -4.776699542999268, -1.7319464683532715, -1.4810651540756226, -4.394093990325928, -2.5478949546813965, -3.1930148601531982, -5.485499858856201, -2.7684264183044434, -1.7178544998168945, -2.2295613288879395, -2.0022835731506348, -3.6226119995117188, -1.1585257053375244, -8.793924331665039, -3.8740429878234863, -1.7027302980422974, -3.5411386489868164, -1.5473846197128296, -1.7447211742401123, -2.2637739181518555, -3.8243727684020996, 14.052263259887695, -2.0443007946014404, -2.222254753112793, -1.1983585357666016, -3.0902509689331055, -4.406210422515869, -2.612591505050659, -3.4354681968688965, -2.0008630752563477, -1.2118253707885742, -3.7639620304107666, -2.0709636211395264, -1.8025720119476318, -4.3399834632873535, -2.198929786682129, -3.4742329120635986, -3.0455381870269775, -2.2811572551727295, -1.6648403406143188, -0.9394756555557251, -2.5157368183135986, -1.658666729927063, -3.4425666332244873, -3.7637856006622314, -3.2119412422180176, -7.109941482543945, -2.1945316791534424, -3.680513858795166, -1.6718695163726807, -4.788418769836426, -6.969233989715576, -1.554630160331726, -2.70961856842041, -2.5195155143737793, -2.343381881713867, -3.456888437271118, -2.656432628631592, -4.079744815826416, -3.702218532562256, -5.029963970184326, -3.326354742050171, -4.058499813079834, -3.137336492538452, -3.151209592819214, -2.1625277996063232, -2.4630401134490967, -1.9532759189605713, -4.671918869018555, 5.845665454864502, -3.334533452987671, -2.302893877029419], \"xaxis\": \"x\", \"y\": [0.046828702092170715, -4.225518226623535, 0.30065321922302246, -0.8186147212982178, -2.177098512649536, -4.772273063659668, 1.2896933555603027, -1.2386305332183838, -2.3845503330230713, -5.790414810180664, -1.1085033416748047, -7.334923267364502, -0.614291787147522, 0.5217843651771545, -2.2698347568511963, -0.6953684091567993, -0.13429750502109528, -4.729579925537109, -0.4208616614341736, -2.6137959957122803, 1.281017780303955, -2.6522722244262695, -4.102291584014893, -5.086588382720947, -4.7350077629089355, -0.5592653751373291, 1.1448421478271484, -0.12857185304164886, -0.3371397852897644, -0.2644749581813812, -4.0359883308410645, -5.419250965118408, -4.073353290557861, 2.9790077209472656, -1.7414121627807617, -4.2139763832092285, -0.7478171586990356, -2.1530580520629883, -0.2551966607570648, -4.20274543762207, -0.3890189826488495, -0.911910891532898, -2.6437556743621826, -1.6731581687927246, -1.265038251876831, -2.955109119415283, -7.629959583282471, -4.959712028503418, -4.833366394042969, -2.221341371536255, 1.477342128753662, -1.6078712940216064, -2.737424850463867, -0.9679712653160095, -0.3041011095046997, -2.4128899574279785, 0.5134902000427246, -3.379511594772339, 0.31187930703163147, 5.265424728393555, -4.850205898284912, -3.7631547451019287, -2.6288704872131348, 2.837608814239502, 1.3566365242004395, -2.535426139831543, -3.4781601428985596, 1.1216084957122803, 0.8162843585014343, -1.1928389072418213, -3.005725383758545, -3.348780393600464, -1.1439974308013916, -3.7504165172576904, -5.187923908233643, -3.747006893157959, -1.023374080657959, -0.9766436219215393, 0.8645226359367371, -3.3698270320892334, -3.5584962368011475, -5.791555881500244, -15.086997985839844, -0.8071068525314331, -4.859909534454346], \"yaxis\": \"y\"}, {\"hovertemplate\": \"y_label=5<br>x1=%{x}<br>x2=%{y}<extra></extra>\", \"legendgroup\": \"5\", \"marker\": {\"color\": \"#19d3f3\", \"symbol\": \"circle\"}, \"mode\": \"markers\", \"name\": \"5\", \"orientation\": \"v\", \"showlegend\": true, \"type\": \"scatter\", \"x\": [22.052156448364258, 0.18143612146377563, 14.221602439880371, 10.487378120422363, 0.291287362575531, 5.07947301864624, 0.5073950290679932, 10.154465675354004, 14.567924499511719, 2.401289224624634, 4.1055169105529785, 13.44607162475586, 1.6657634973526, 14.568291664123535, 30.008304595947266, 6.769596099853516, 15.98935317993164, -0.3884819746017456, 6.593166828155518, 12.626778602600098, 0.44586020708084106, 2.4529271125793457, 1.7452893257141113, 1.8344110250473022, 2.2576067447662354, 2.6417958736419678, 10.343382835388184, 8.14168930053711, 3.3598296642303467, 5.505741119384766, 23.91254234313965, 7.651492595672607, 2.26951003074646, -2.2942044734954834, 3.450249433517456, 4.791867256164551, 3.3883795738220215, 4.124878883361816, 1.0028085708618164, 7.7913031578063965, -1.362188458442688, 0.247004434466362, 1.1148911714553833, 2.366917610168457, 6.1165056228637695, 4.104549407958984, 6.426814556121826, 20.82257080078125, 0.1878659427165985, 1.0643271207809448, 5.624047756195068, 0.285582959651947, 4.968646049499512, 1.2413147687911987, 1.7901352643966675, 30.00111961364746, 0.2520456910133362, 1.0919349193572998, 20.316970825195312, 15.481629371643066, -1.7991691827774048, 9.587285995483398, 1.9587067365646362, 4.812506198883057, 0.39153051376342773, 3.1570804119110107, 0.013431962579488754, 11.192595481872559, 0.9223595261573792, 3.3924057483673096, 1.6358428001403809, 1.3956050872802734, 0.147663414478302, 3.3936188220977783, 1.6488410234451294, 2.821483850479126, 1.5332403182983398, 12.48928165435791, -0.09427103400230408, 23.572813034057617, 1.3703330755233765, 0.7322739362716675, 0.5042551755905151, -0.26973509788513184, 3.279658794403076, 6.056883335113525, 13.240226745605469, -0.1037389487028122, 14.359140396118164], \"xaxis\": \"x\", \"y\": [-17.30716896057129, -1.9197101593017578, -12.787331581115723, -6.826205730438232, -1.6403687000274658, -5.262645244598389, -2.1693222522735596, -10.678503036499023, -10.862199783325195, -2.2363805770874023, -3.1989681720733643, -11.490281105041504, -8.439581871032715, -10.90404987335205, -19.617542266845703, -3.13727068901062, -10.881241798400879, -2.244943618774414, -5.557613372802734, -12.204309463500977, -1.466996192932129, -7.038239002227783, -0.9425457715988159, -2.4474101066589355, -2.0230140686035156, -2.2194793224334717, -13.453535079956055, -6.264066219329834, -3.414074420928955, -3.2653353214263916, -21.51595115661621, 4.1954026222229, -2.6740598678588867, 0.7926239967346191, -7.450412750244141, -3.682547092437744, -3.2899515628814697, -3.4730618000030518, -2.112696409225464, -3.401430606842041, -4.888511657714844, -1.6169118881225586, -1.5104255676269531, -2.540855646133423, -3.713757276535034, -4.727936267852783, -4.340869426727295, -21.151975631713867, -1.649803876876831, -1.3280680179595947, -6.141887664794922, -4.948305130004883, -2.558777093887329, -2.1328017711639404, -1.945261001586914, -22.05862808227539, -1.4424402713775635, -2.222444772720337, -20.61566734313965, -15.423166275024414, -1.3728899955749512, -11.07148265838623, -2.013521909713745, -4.245570659637451, -2.4697024822235107, -3.4299817085266113, -1.256425142288208, -9.466842651367188, -5.2549943923950195, -2.487220525741577, -1.9542505741119385, -2.295541524887085, -0.8016068935394287, -3.56992769241333, -1.627652883529663, -2.705223321914673, -1.4482555389404297, -9.875216484069824, -1.2358057498931885, -19.34486198425293, -1.6111996173858643, -0.8732134699821472, -2.029367446899414, -1.0056533813476562, -3.0937068462371826, -4.832632064819336, -13.567749977111816, -0.6837599873542786, -10.057146072387695], \"yaxis\": \"y\"}, {\"hovertemplate\": \"y_label=6<br>x1=%{x}<br>x2=%{y}<extra></extra>\", \"legendgroup\": \"6\", \"marker\": {\"color\": \"#FF6692\", \"symbol\": \"circle\"}, \"mode\": \"markers\", \"name\": \"6\", \"orientation\": \"v\", \"showlegend\": true, \"type\": \"scatter\", \"x\": [10.908549308776855, 11.28703784942627, 11.531270980834961, 19.94012451171875, 36.64097213745117, 11.923747062683105, 10.078737258911133, 1.188496470451355, 1.2313860654830933, 42.79821014404297, 24.80415153503418, 13.888256072998047, 13.232135772705078, 13.893633842468262, 8.292986869812012, 0.437761127948761, 18.9132137298584, 40.712379455566406, 4.072437763214111, 0.6303954124450684, 0.5728423595428467, 7.6635422706604, 3.680650234222412, 0.30829867720603943, 8.642276763916016, 0.15714405477046967, 1.1384284496307373, 0.7478861212730408, 15.997769355773926, 1.1410082578659058, 30.61440658569336, 14.850268363952637, 9.731496810913086, 11.306921005249023, -0.01699342578649521, 24.663249969482422, 1.37972092628479, 19.922821044921875, 28.3065242767334, 29.29711151123047, 22.147743225097656, 0.45581185817718506, 9.884754180908203, 10.05585765838623, 12.677029609680176, 14.92782974243164, 0.4515725374221802, 13.344980239868164, 10.091214179992676, 16.35986328125, 18.547019958496094, 0.9096860289573669, 8.052635192871094, 7.47047233581543, 14.963347434997559, 0.9099497199058533, 10.692058563232422, 8.921734809875488, 26.04408073425293, 9.967456817626953, 10.527084350585938, 1.113305926322937, 0.14227239787578583, 18.218564987182617, 1.5776387453079224, 0.15140065550804138, 9.93972110748291, 0.5788383483886719, 0.6715126037597656, 29.92683982849121, 1.0881567001342773, 10.025411605834961, 3.0245790481567383, 1.404141902923584, 14.744918823242188, 1.2925087213516235, -0.25022703409194946, 10.138848304748535, 1.1476266384124756, 18.179887771606445, 20.10460662841797, 7.30523681640625, 0.2399262934923172, 24.77899742126465, 7.255390167236328, 9.265522003173828, 9.473433494567871, 8.634418487548828, 39.03395080566406, 36.35456466674805, -0.4115293025970459, -0.2064967304468155, 15.918885231018066, 0.470564603805542, 19.402366638183594, 1.475881576538086, -0.05582263320684433, 0.2410803586244583, 1.2868009805679321, 9.823236465454102, 12.688525199890137, 0.28114449977874756, 30.63219451904297], \"xaxis\": \"x\", \"y\": [-3.2088141441345215, -4.0191731452941895, -1.0038425922393799, -4.9143967628479, -10.67784309387207, 1.2769577503204346, -1.2733709812164307, 3.638918876647949, 2.385237455368042, -8.428191184997559, -6.213340759277344, -1.2955868244171143, -1.8299648761749268, -5.453289031982422, -0.13082383573055267, 3.3936920166015625, -8.67064094543457, -8.841604232788086, 1.0257623195648193, 1.313096523284912, 2.087052583694458, -3.135092258453369, 0.8256329894065857, 3.4459619522094727, -0.5580995082855225, 1.5713365077972412, 0.8863736391067505, 1.9050004482269287, -1.954192876815796, 1.6823742389678955, -5.379085063934326, -1.6097016334533691, -2.881793975830078, -5.363776683807373, 4.67086124420166, -5.819388389587402, 1.4990904331207275, -0.5781306624412537, -4.893248081207275, -9.478978157043457, -5.666050434112549, 2.6853108406066895, 4.642083168029785, -1.6086130142211914, -1.7738697528839111, -1.559387445449829, 2.5291261672973633, 2.0793166160583496, -1.0394396781921387, 0.7642599940299988, -4.7437262535095215, 2.5285305976867676, 2.8218700885772705, -0.8280131220817566, -6.805560111999512, 2.0985960960388184, -0.7259525656700134, -17.186553955078125, -5.392390251159668, -3.1266579627990723, -0.5534155964851379, 1.1126964092254639, 1.7771978378295898, -6.991982460021973, 3.5184178352355957, 2.8188984394073486, -1.399442434310913, 2.819096803665161, 1.3609602451324463, -5.926928997039795, 1.807159662246704, -0.10941173136234283, 0.8351929783821106, 1.4997241497039795, -3.272021770477295, 1.6765310764312744, 2.2031521797180176, -4.615633487701416, 0.9327452778816223, -6.383782863616943, -6.321592330932617, -5.704486846923828, 4.100988388061523, -4.031455039978027, -3.438830614089966, -3.7198939323425293, -1.1937909126281738, 1.3678011894226074, -13.169267654418945, -12.45871353149414, 1.8779666423797607, 2.533787250518799, -6.21804666519165, 1.7415492534637451, -4.982219696044922, 3.1133339405059814, 0.8610509037971497, 3.160727024078369, 1.3913967609405518, -1.9154140949249268, -1.4685440063476562, 2.122588634490967, -1.960582971572876], \"yaxis\": \"y\"}, {\"hovertemplate\": \"y_label=7<br>x1=%{x}<br>x2=%{y}<extra></extra>\", \"legendgroup\": \"7\", \"marker\": {\"color\": \"#B6E880\", \"symbol\": \"circle\"}, \"mode\": \"markers\", \"name\": \"7\", \"orientation\": \"v\", \"showlegend\": true, \"type\": \"scatter\", \"x\": [-10.901884078979492, -13.618751525878906, -11.580878257751465, -0.12179899215698242, -6.031563758850098, -9.731689453125, -3.470043897628784, -5.567502498626709, -0.8801527619361877, -31.313051223754883, -3.797978639602661, -19.79462432861328, -0.5060615539550781, -12.777990341186523, 2.8151774406433105, -25.57944107055664, -36.8597526550293, -2.749890089035034, -8.726480484008789, -10.803099632263184, -5.289201736450195, -7.221632957458496, -7.424472808837891, -6.522467613220215, -1.055285930633545, -29.765941619873047, -9.86097240447998, -12.25426197052002, -15.02679443359375, -6.292221546173096, -35.82500076293945, -5.749491214752197, -22.0279483795166, -12.244843482971191, -5.0736823081970215, 1.870959997177124, -4.134726047515869, -12.597814559936523, -12.079105377197266, -5.396905422210693, -5.723134517669678, -4.994828701019287, -6.337402820587158, -16.038097381591797, -8.61136245727539, -2.5048444271087646, -20.803659439086914, -18.372358322143555, -2.1486783027648926, -15.7766752243042, -14.445640563964844, -10.495421409606934, -8.160003662109375, -1.366112232208252, -28.2027645111084, -9.09694766998291, -15.997488021850586, -4.822818279266357, -9.195820808410645, -4.196658611297607, -23.005985260009766, -16.303056716918945, -3.8311948776245117, -6.914987564086914, -1.9035637378692627, -9.525348663330078, -22.663002014160156, -50.08507537841797, -16.975200653076172, -5.85007905960083, -7.010616302490234, -15.480688095092773, -19.96915054321289, -8.73411750793457, -28.41388702392578, -15.729399681091309, -2.8227951526641846, -9.031672477722168, -7.653097629547119, -7.210887908935547, -10.848115921020508, -5.8648295402526855, -13.024219512939453, -15.0228853225708, -1.2757177352905273, -4.513626575469971, -25.592308044433594, -10.483880043029785, -14.728496551513672, -11.41617488861084, -19.816207885742188, -8.247601509094238, -13.549688339233398, -8.093064308166504, -32.116004943847656, -7.3214569091796875, -12.440123558044434, -14.8168363571167, -3.156510829925537, -6.457900047302246, -6.244283676147461, -11.2473726272583, -18.69594955444336, -10.20309829711914, -13.618182182312012], \"xaxis\": \"x\", \"y\": [-10.962281227111816, -2.799649477005005, -17.482120513916016, -0.5380136966705322, -2.7647268772125244, -3.2057621479034424, -7.438482284545898, -4.977165699005127, -32.11415100097656, 2.9274075031280518, -7.113184928894043, -6.970629692077637, 0.3211956024169922, -4.197246074676514, -0.5894845128059387, -5.422294616699219, 4.407796382904053, -10.072307586669922, -0.6267242431640625, -4.049133777618408, -9.41715145111084, -2.5866951942443848, -4.731018543243408, -10.27196979522705, -2.503371000289917, -5.060262680053711, -2.942235231399536, -0.7584644556045532, -8.550642013549805, -1.0049946308135986, 2.728790760040283, -8.649849891662598, -0.8437749147415161, -0.8565191030502319, -1.0310335159301758, -10.392919540405273, 1.0141322612762451, 0.3934147357940674, -20.644086837768555, -12.089629173278809, -10.901329040527344, -10.318535804748535, -1.1662535667419434, -5.0200653076171875, -19.354703903198242, -6.665108680725098, 0.1843537837266922, 2.8416035175323486, -6.787228584289551, -3.0897228717803955, -0.36519163846969604, -5.048079013824463, -15.69111156463623, -0.23972928524017334, 8.385504722595215, -7.6339030265808105, -6.199245452880859, -9.689801216125488, -9.533196449279785, -7.672616481781006, -9.646219253540039, -12.036942481994629, -10.880762100219727, -3.6679751873016357, -13.701921463012695, -2.4659512042999268, 2.1296191215515137, 10.20454216003418, -18.657196044921875, -2.9347634315490723, -2.613414764404297, -0.9238766431808472, 5.182297229766846, -1.8166210651397705, 1.858245849609375, -12.18365478515625, -10.003972053527832, 2.3739590644836426, -8.45996379852295, -4.097599029541016, -5.469044208526611, -1.9595344066619873, -10.728544235229492, 5.071305751800537, -4.375676155090332, -0.7050088047981262, -13.676606178283691, 0.2631559371948242, -4.230628967285156, -6.004637241363525, 5.649580001831055, -14.879167556762695, -7.58848762512207, -15.238126754760742, 8.693198204040527, -12.112130165100098, -10.414327621459961, -17.7524471282959, -5.887330055236816, -6.729299545288086, -1.5178635120391846, -9.215350151062012, -23.916339874267578, -8.504055976867676, -2.9502315521240234], \"yaxis\": \"y\"}, {\"hovertemplate\": \"y_label=8<br>x1=%{x}<br>x2=%{y}<extra></extra>\", \"legendgroup\": \"8\", \"marker\": {\"color\": \"#FF97FF\", \"symbol\": \"circle\"}, \"mode\": \"markers\", \"name\": \"8\", \"orientation\": \"v\", \"showlegend\": true, \"type\": \"scatter\", \"x\": [6.351762294769287, 1.7787262201309204, 4.48148775100708, 1.564065933227539, 2.7494349479675293, 1.4724868535995483, 3.943232774734497, 1.801695466041565, 0.46558016538619995, 1.569219708442688, 0.14142659306526184, 2.442124843597412, 0.11539074778556824, 3.421250343322754, -0.36651748418807983, 1.7737021446228027, 1.2080144882202148, 0.9220407009124756, 2.8969318866729736, -0.24459807574748993, 3.372263193130493, 1.9941340684890747, 2.5480597019195557, 0.5462836027145386, -0.08351963758468628, 1.7284648418426514, 0.9398642182350159, 0.17073982954025269, 0.8619442582130432, 3.1902992725372314, 6.615358829498291, -4.081243991851807, 1.1062361001968384, 2.243900775909424, 0.24264344573020935, 1.2064976692199707, 0.5618126392364502, 1.1548786163330078, 2.068035125732422, 2.048027753829956, 1.5704054832458496, 6.617520332336426, 6.499838352203369, 1.1005936861038208, 2.160515546798706, 1.2798765897750854, 0.5351577401161194, 2.866954803466797, -0.7469045519828796, 0.8728699088096619, 1.6321980953216553, 8.008450508117676, 0.1815091371536255, 1.6053667068481445, -0.12104092538356781, -0.3282650113105774, 1.7534856796264648, -0.07542106509208679, 4.766314506530762, 0.6883203387260437, -2.1447548866271973, 3.3787317276000977, 2.105159282684326, 1.756251573562622, -1.3029571771621704, 0.6125099658966064, 1.3132822513580322, 0.9368013143539429, -0.6679073572158813, 0.2470511943101883, 1.9620784521102905, 1.1031490564346313, 0.2602909207344055, -0.05835666507482529, 2.0708935260772705, 1.7535865306854248, -0.6970599889755249, 0.22044716775417328, -0.025678016245365143, 2.07666015625, 2.043092727661133, -0.22339491546154022, 2.693528652191162, -3.24770188331604, 0.08983121812343597, 1.9440226554870605, 3.1871347427368164, 2.90918231010437, 0.04290501028299332, 0.027888376265764236, 1.0226107835769653, 1.2140183448791504, 0.542851448059082, 2.109678030014038, 4.4837117195129395, 1.5903189182281494, -1.2428257465362549, -1.5659942626953125, 1.0981826782226562], \"xaxis\": \"x\", \"y\": [-11.719229698181152, -2.865781784057617, -7.666886329650879, -3.009254217147827, -6.561004638671875, -3.6479713916778564, -5.712017059326172, -3.537789821624756, -4.3697662353515625, -4.4757232666015625, -2.54394793510437, -4.616402626037598, -3.277953863143921, -5.506322383880615, -3.7040233612060547, -2.4702954292297363, -3.310831308364868, -4.470375061035156, -4.492774486541748, -1.8660650253295898, -6.867176532745361, -3.605388879776001, -6.941608428955078, -3.1428420543670654, -0.8726826310157776, -2.4492876529693604, -3.618479013442993, -1.919294834136963, -3.269418716430664, -4.980523109436035, -11.83913516998291, -4.264530658721924, -3.4538073539733887, -4.1012654304504395, -3.814281702041626, -3.190495252609253, -2.6336116790771484, -4.4120402336120605, -6.299938678741455, -6.356655597686768, -3.6619012355804443, -14.205815315246582, -9.461140632629395, -3.851046323776245, -6.4700164794921875, -4.080684661865234, -3.977851152420044, -6.474686145782471, -3.4868178367614746, -3.12288236618042, -5.762712478637695, -9.820298194885254, -2.2101778984069824, -0.7208623290061951, -1.792264461517334, -1.5867931842803955, -1.079329490661621, -4.275590896606445, -2.766094923019409, -3.0472614765167236, -1.6212549209594727, -8.76455020904541, -3.8973727226257324, -4.790019512176514, -3.824139356613159, -4.238651275634766, -5.813135147094727, -2.138437271118164, -0.655677855014801, -2.635936975479126, -4.781598091125488, -3.9212594032287598, -2.7572972774505615, -3.109694719314575, -3.7007319927215576, -5.829653739929199, -3.6263229846954346, -2.8735928535461426, -0.5900824069976807, -6.148517608642578, -5.131680488586426, -1.5974040031433105, -0.4355282187461853, -0.283363401889801, -2.469785690307617, -3.3336334228515625, 6.016759395599365, -5.828924179077148, -1.7265269756317139, -2.720818281173706, -1.6554276943206787, -3.332721471786499, -3.9126834869384766, -8.19919490814209, -6.202001094818115, -3.483051061630249, -4.013124942779541, -4.742099761962891, -4.9835638999938965], \"yaxis\": \"y\"}, {\"hovertemplate\": \"y_label=9<br>x1=%{x}<br>x2=%{y}<extra></extra>\", \"legendgroup\": \"9\", \"marker\": {\"color\": \"#FECB52\", \"symbol\": \"circle\"}, \"mode\": \"markers\", \"name\": \"9\", \"orientation\": \"v\", \"showlegend\": true, \"type\": \"scatter\", \"x\": [-5.320370197296143, 6.277266502380371, -4.263330459594727, -4.822980880737305, -2.1607208251953125, -1.781466007232666, -4.670688629150391, -0.39029961824417114, -10.028076171875, -6.6156697273254395, -3.069519519805908, -12.790305137634277, -1.5604832172393799, -3.1319820880889893, -4.951096534729004, -3.5284762382507324, -8.23755168914795, -2.440425395965576, -1.9491891860961914, -9.21706485748291, -2.68802809715271, -4.493987083435059, -3.0529892444610596, -4.070681571960449, -3.3704962730407715, -1.4588170051574707, -5.53646183013916, -5.912889003753662, -1.8205556869506836, -2.700087547302246, -3.4300172328948975, -3.8309152126312256, -8.531486511230469, -3.337965965270996, -3.5376715660095215, -1.5894449949264526, -2.434101104736328, -3.6910619735717773, -4.191390514373779, -2.4261293411254883, -4.897027969360352, -2.89884877204895, -2.794161319732666, -5.156307220458984, -2.277834177017212, -4.087006568908691, -3.086944341659546, -3.0354244709014893, -2.615122079849243, -6.987103462219238, -3.2390332221984863, -12.007479667663574, -4.109424591064453, -4.46442174911499, -6.854973793029785, -3.1790878772735596, -9.06941032409668, -18.055681228637695, -5.949636459350586, -5.894262790679932, -3.1674442291259766, -4.919493198394775, -5.127810478210449, -2.884528636932373, -3.6896469593048096, -3.1396114826202393, -1.4666166305541992, -10.566146850585938, -1.7699859142303467, -4.675568580627441, -3.142651319503784, -2.511047124862671, -4.670913219451904, -4.218822956085205, -2.9205877780914307, -4.874011039733887, -5.010634422302246, -3.2207627296447754, -4.409019947052002, -0.22069118916988373, -8.609261512756348, -4.02780818939209, -2.6476852893829346, -4.938761234283447, -1.946789264678955, -4.854262351989746, -15.415899276733398, 1.3849073648452759, -0.6849968433380127], \"xaxis\": \"x\", \"y\": [-5.917942523956299, 3.8466904163360596, 0.31757333874702454, -1.005598545074463, -1.785625696182251, -2.0912551879882812, 1.5850677490234375, 0.7900165915489197, 3.326199531555176, -1.6325514316558838, -3.4562573432922363, 4.35112190246582, -0.4769763946533203, -7.9694952964782715, 1.0439972877502441, -0.525734543800354, 3.1754770278930664, -3.2939884662628174, -0.16217640042304993, 2.9412505626678467, -1.952700138092041, -4.771637439727783, -0.049127593636512756, -0.20047681033611298, -3.8986239433288574, -1.4395084381103516, 0.09440349042415619, 0.8966633677482605, -2.861647844314575, 0.27440014481544495, -3.630674123764038, -2.589341640472412, 1.35874342918396, -1.8806493282318115, -3.1243064403533936, -0.4290972054004669, -7.203064441680908, -2.3029019832611084, -1.0999534130096436, -2.088649034500122, -3.6496291160583496, -3.773906707763672, -2.8531763553619385, -1.7210912704467773, -0.4287514388561249, 1.7549872398376465, -4.545238018035889, -3.298354148864746, -7.799143314361572, 0.5026524066925049, -3.7007029056549072, 4.424145221710205, 1.01741361618042, -5.665902614593506, -0.46947431564331055, -1.7140157222747803, 3.888059139251709, 6.492950439453125, -4.3736114501953125, 0.6926982998847961, -7.4917802810668945, -4.9095988273620605, -4.335982799530029, -0.04573504626750946, 2.381129264831543, -1.1364388465881348, -0.43823543190956116, 4.191795825958252, -1.3510470390319824, -5.528524398803711, 0.624316394329071, -1.8493387699127197, 1.3528997898101807, -5.578517913818359, -0.1887577474117279, -3.6812098026275635, -0.8014394640922546, -3.6028480529785156, 1.906919002532959, -1.1084873676300049, 2.9043097496032715, -0.7142016887664795, -8.343575477600098, -2.7400739192962646, 0.2601591944694519, -4.382606029510498, 5.3127970695495605, 0.7139394283294678, 1.5308713912963867], \"yaxis\": \"y\"}],                        {\"legend\": {\"title\": {\"text\": \"y_label\"}, \"tracegroupgap\": 0}, \"margin\": {\"t\": 60}, \"template\": {\"data\": {\"bar\": [{\"error_x\": {\"color\": \"#2a3f5f\"}, \"error_y\": {\"color\": \"#2a3f5f\"}, \"marker\": {\"line\": {\"color\": \"#E5ECF6\", \"width\": 0.5}}, \"type\": \"bar\"}], \"barpolar\": [{\"marker\": {\"line\": {\"color\": \"#E5ECF6\", \"width\": 0.5}}, \"type\": \"barpolar\"}], \"carpet\": [{\"aaxis\": {\"endlinecolor\": \"#2a3f5f\", \"gridcolor\": \"white\", \"linecolor\": \"white\", \"minorgridcolor\": \"white\", \"startlinecolor\": \"#2a3f5f\"}, \"baxis\": {\"endlinecolor\": \"#2a3f5f\", \"gridcolor\": \"white\", \"linecolor\": \"white\", \"minorgridcolor\": \"white\", \"startlinecolor\": \"#2a3f5f\"}, \"type\": \"carpet\"}], \"choropleth\": [{\"colorbar\": {\"outlinewidth\": 0, \"ticks\": \"\"}, \"type\": \"choropleth\"}], \"contour\": [{\"colorbar\": {\"outlinewidth\": 0, \"ticks\": \"\"}, \"colorscale\": [[0.0, \"#0d0887\"], [0.1111111111111111, \"#46039f\"], [0.2222222222222222, \"#7201a8\"], [0.3333333333333333, \"#9c179e\"], [0.4444444444444444, \"#bd3786\"], [0.5555555555555556, \"#d8576b\"], [0.6666666666666666, \"#ed7953\"], [0.7777777777777778, \"#fb9f3a\"], [0.8888888888888888, \"#fdca26\"], [1.0, \"#f0f921\"]], \"type\": \"contour\"}], \"contourcarpet\": [{\"colorbar\": {\"outlinewidth\": 0, \"ticks\": \"\"}, \"type\": \"contourcarpet\"}], \"heatmap\": [{\"colorbar\": {\"outlinewidth\": 0, \"ticks\": \"\"}, \"colorscale\": [[0.0, \"#0d0887\"], [0.1111111111111111, \"#46039f\"], [0.2222222222222222, \"#7201a8\"], [0.3333333333333333, \"#9c179e\"], [0.4444444444444444, \"#bd3786\"], [0.5555555555555556, \"#d8576b\"], [0.6666666666666666, \"#ed7953\"], [0.7777777777777778, \"#fb9f3a\"], [0.8888888888888888, \"#fdca26\"], [1.0, \"#f0f921\"]], \"type\": \"heatmap\"}], \"heatmapgl\": [{\"colorbar\": {\"outlinewidth\": 0, \"ticks\": \"\"}, \"colorscale\": [[0.0, \"#0d0887\"], [0.1111111111111111, \"#46039f\"], [0.2222222222222222, \"#7201a8\"], [0.3333333333333333, \"#9c179e\"], [0.4444444444444444, \"#bd3786\"], [0.5555555555555556, \"#d8576b\"], [0.6666666666666666, \"#ed7953\"], [0.7777777777777778, \"#fb9f3a\"], [0.8888888888888888, \"#fdca26\"], [1.0, \"#f0f921\"]], \"type\": \"heatmapgl\"}], \"histogram\": [{\"marker\": {\"colorbar\": {\"outlinewidth\": 0, \"ticks\": \"\"}}, \"type\": \"histogram\"}], \"histogram2d\": [{\"colorbar\": {\"outlinewidth\": 0, \"ticks\": \"\"}, \"colorscale\": [[0.0, \"#0d0887\"], [0.1111111111111111, \"#46039f\"], [0.2222222222222222, \"#7201a8\"], [0.3333333333333333, \"#9c179e\"], [0.4444444444444444, \"#bd3786\"], [0.5555555555555556, \"#d8576b\"], [0.6666666666666666, \"#ed7953\"], [0.7777777777777778, \"#fb9f3a\"], [0.8888888888888888, \"#fdca26\"], [1.0, \"#f0f921\"]], \"type\": \"histogram2d\"}], \"histogram2dcontour\": [{\"colorbar\": {\"outlinewidth\": 0, \"ticks\": \"\"}, \"colorscale\": [[0.0, \"#0d0887\"], [0.1111111111111111, \"#46039f\"], [0.2222222222222222, \"#7201a8\"], [0.3333333333333333, \"#9c179e\"], [0.4444444444444444, \"#bd3786\"], [0.5555555555555556, \"#d8576b\"], [0.6666666666666666, \"#ed7953\"], [0.7777777777777778, \"#fb9f3a\"], [0.8888888888888888, \"#fdca26\"], [1.0, \"#f0f921\"]], \"type\": \"histogram2dcontour\"}], \"mesh3d\": [{\"colorbar\": {\"outlinewidth\": 0, \"ticks\": \"\"}, \"type\": \"mesh3d\"}], \"parcoords\": [{\"line\": {\"colorbar\": {\"outlinewidth\": 0, \"ticks\": \"\"}}, \"type\": \"parcoords\"}], \"pie\": [{\"automargin\": true, \"type\": \"pie\"}], \"scatter\": [{\"marker\": {\"colorbar\": {\"outlinewidth\": 0, \"ticks\": \"\"}}, \"type\": \"scatter\"}], \"scatter3d\": [{\"line\": {\"colorbar\": {\"outlinewidth\": 0, \"ticks\": \"\"}}, \"marker\": {\"colorbar\": {\"outlinewidth\": 0, \"ticks\": \"\"}}, \"type\": \"scatter3d\"}], \"scattercarpet\": [{\"marker\": {\"colorbar\": {\"outlinewidth\": 0, \"ticks\": \"\"}}, \"type\": \"scattercarpet\"}], \"scattergeo\": [{\"marker\": {\"colorbar\": {\"outlinewidth\": 0, \"ticks\": \"\"}}, \"type\": \"scattergeo\"}], \"scattergl\": [{\"marker\": {\"colorbar\": {\"outlinewidth\": 0, \"ticks\": \"\"}}, \"type\": \"scattergl\"}], \"scattermapbox\": [{\"marker\": {\"colorbar\": {\"outlinewidth\": 0, \"ticks\": \"\"}}, \"type\": \"scattermapbox\"}], \"scatterpolar\": [{\"marker\": {\"colorbar\": {\"outlinewidth\": 0, \"ticks\": \"\"}}, \"type\": \"scatterpolar\"}], \"scatterpolargl\": [{\"marker\": {\"colorbar\": {\"outlinewidth\": 0, \"ticks\": \"\"}}, \"type\": \"scatterpolargl\"}], \"scatterternary\": [{\"marker\": {\"colorbar\": {\"outlinewidth\": 0, \"ticks\": \"\"}}, \"type\": \"scatterternary\"}], \"surface\": [{\"colorbar\": {\"outlinewidth\": 0, \"ticks\": \"\"}, \"colorscale\": [[0.0, \"#0d0887\"], [0.1111111111111111, \"#46039f\"], [0.2222222222222222, \"#7201a8\"], [0.3333333333333333, \"#9c179e\"], [0.4444444444444444, \"#bd3786\"], [0.5555555555555556, \"#d8576b\"], [0.6666666666666666, \"#ed7953\"], [0.7777777777777778, \"#fb9f3a\"], [0.8888888888888888, \"#fdca26\"], [1.0, \"#f0f921\"]], \"type\": \"surface\"}], \"table\": [{\"cells\": {\"fill\": {\"color\": \"#EBF0F8\"}, \"line\": {\"color\": \"white\"}}, \"header\": {\"fill\": {\"color\": \"#C8D4E3\"}, \"line\": {\"color\": \"white\"}}, \"type\": \"table\"}]}, \"layout\": {\"annotationdefaults\": {\"arrowcolor\": \"#2a3f5f\", \"arrowhead\": 0, \"arrowwidth\": 1}, \"coloraxis\": {\"colorbar\": {\"outlinewidth\": 0, \"ticks\": \"\"}}, \"colorscale\": {\"diverging\": [[0, \"#8e0152\"], [0.1, \"#c51b7d\"], [0.2, \"#de77ae\"], [0.3, \"#f1b6da\"], [0.4, \"#fde0ef\"], [0.5, \"#f7f7f7\"], [0.6, \"#e6f5d0\"], [0.7, \"#b8e186\"], [0.8, \"#7fbc41\"], [0.9, \"#4d9221\"], [1, \"#276419\"]], \"sequential\": [[0.0, \"#0d0887\"], [0.1111111111111111, \"#46039f\"], [0.2222222222222222, \"#7201a8\"], [0.3333333333333333, \"#9c179e\"], [0.4444444444444444, \"#bd3786\"], [0.5555555555555556, \"#d8576b\"], [0.6666666666666666, \"#ed7953\"], [0.7777777777777778, \"#fb9f3a\"], [0.8888888888888888, \"#fdca26\"], [1.0, \"#f0f921\"]], \"sequentialminus\": [[0.0, \"#0d0887\"], [0.1111111111111111, \"#46039f\"], [0.2222222222222222, \"#7201a8\"], [0.3333333333333333, \"#9c179e\"], [0.4444444444444444, \"#bd3786\"], [0.5555555555555556, \"#d8576b\"], [0.6666666666666666, \"#ed7953\"], [0.7777777777777778, \"#fb9f3a\"], [0.8888888888888888, \"#fdca26\"], [1.0, \"#f0f921\"]]}, \"colorway\": [\"#636efa\", \"#EF553B\", \"#00cc96\", \"#ab63fa\", \"#FFA15A\", \"#19d3f3\", \"#FF6692\", \"#B6E880\", \"#FF97FF\", \"#FECB52\"], \"font\": {\"color\": \"#2a3f5f\"}, \"geo\": {\"bgcolor\": \"white\", \"lakecolor\": \"white\", \"landcolor\": \"#E5ECF6\", \"showlakes\": true, \"showland\": true, \"subunitcolor\": \"white\"}, \"hoverlabel\": {\"align\": \"left\"}, \"hovermode\": \"closest\", \"mapbox\": {\"style\": \"light\"}, \"paper_bgcolor\": \"white\", \"plot_bgcolor\": \"#E5ECF6\", \"polar\": {\"angularaxis\": {\"gridcolor\": \"white\", \"linecolor\": \"white\", \"ticks\": \"\"}, \"bgcolor\": \"#E5ECF6\", \"radialaxis\": {\"gridcolor\": \"white\", \"linecolor\": \"white\", \"ticks\": \"\"}}, \"scene\": {\"xaxis\": {\"backgroundcolor\": \"#E5ECF6\", \"gridcolor\": \"white\", \"gridwidth\": 2, \"linecolor\": \"white\", \"showbackground\": true, \"ticks\": \"\", \"zerolinecolor\": \"white\"}, \"yaxis\": {\"backgroundcolor\": \"#E5ECF6\", \"gridcolor\": \"white\", \"gridwidth\": 2, \"linecolor\": \"white\", \"showbackground\": true, \"ticks\": \"\", \"zerolinecolor\": \"white\"}, \"zaxis\": {\"backgroundcolor\": \"#E5ECF6\", \"gridcolor\": \"white\", \"gridwidth\": 2, \"linecolor\": \"white\", \"showbackground\": true, \"ticks\": \"\", \"zerolinecolor\": \"white\"}}, \"shapedefaults\": {\"line\": {\"color\": \"#2a3f5f\"}}, \"ternary\": {\"aaxis\": {\"gridcolor\": \"white\", \"linecolor\": \"white\", \"ticks\": \"\"}, \"baxis\": {\"gridcolor\": \"white\", \"linecolor\": \"white\", \"ticks\": \"\"}, \"bgcolor\": \"#E5ECF6\", \"caxis\": {\"gridcolor\": \"white\", \"linecolor\": \"white\", \"ticks\": \"\"}}, \"title\": {\"x\": 0.05}, \"xaxis\": {\"automargin\": true, \"gridcolor\": \"white\", \"linecolor\": \"white\", \"ticks\": \"\", \"title\": {\"standoff\": 15}, \"zerolinecolor\": \"white\", \"zerolinewidth\": 2}, \"yaxis\": {\"automargin\": true, \"gridcolor\": \"white\", \"linecolor\": \"white\", \"ticks\": \"\", \"title\": {\"standoff\": 15}, \"zerolinecolor\": \"white\", \"zerolinewidth\": 2}}}, \"xaxis\": {\"anchor\": \"y\", \"domain\": [0.0, 1.0], \"title\": {\"text\": \"x1\"}}, \"yaxis\": {\"anchor\": \"x\", \"domain\": [0.0, 1.0], \"title\": {\"text\": \"x2\"}}},                        {\"responsive\": true}                    ).then(function(){\n",
       "                            \n",
       "var gd = document.getElementById('ba32434f-f569-43d0-8f7f-469a8840d1f2');\n",
       "var x = new MutationObserver(function (mutations, observer) {{\n",
       "        var display = window.getComputedStyle(gd).display;\n",
       "        if (!display || display === 'none') {{\n",
       "            console.log([gd, 'removed!']);\n",
       "            Plotly.purge(gd);\n",
       "            observer.disconnect();\n",
       "        }}\n",
       "}});\n",
       "\n",
       "// Listen for the removal of the full notebook cells\n",
       "var notebookContainer = gd.closest('#notebook-container');\n",
       "if (notebookContainer) {{\n",
       "    x.observe(notebookContainer, {childList: true});\n",
       "}}\n",
       "\n",
       "// Listen for the clearing of the current output cell\n",
       "var outputEl = gd.closest('.output');\n",
       "if (outputEl) {{\n",
       "    x.observe(outputEl, {childList: true});\n",
       "}}\n",
       "\n",
       "                        })                };                });            </script>        </div>"
      ]
     },
     "metadata": {},
     "output_type": "display_data"
    }
   ],
   "source": [
    "px.scatter(df,\n",
    "           x = 'x1', \n",
    "           y = 'x2', \n",
    "           color = 'y_label',\n",
    "           category_orders={'y_label' : [str(x) for x in range(10)]})"
   ]
  }
 ],
 "metadata": {
  "accelerator": "GPU",
  "colab": {
   "collapsed_sections": [],
   "name": "autoencoders.ipynb",
   "provenance": []
  },
  "kernelspec": {
   "display_name": "Python ML",
   "language": "python",
   "name": "keras"
  },
  "language_info": {
   "codemirror_mode": {
    "name": "ipython",
    "version": 3
   },
   "file_extension": ".py",
   "mimetype": "text/x-python",
   "name": "python",
   "nbconvert_exporter": "python",
   "pygments_lexer": "ipython3",
   "version": "3.7.9"
  },
  "widgets": {
   "application/vnd.jupyter.widget-state+json": {
    "35b6da694ed74333b7ac16ef8928b9a6": {
     "model_module": "@jupyter-widgets/base",
     "model_name": "LayoutModel",
     "state": {
      "_model_module": "@jupyter-widgets/base",
      "_model_module_version": "1.2.0",
      "_model_name": "LayoutModel",
      "_view_count": null,
      "_view_module": "@jupyter-widgets/base",
      "_view_module_version": "1.2.0",
      "_view_name": "LayoutView",
      "align_content": null,
      "align_items": null,
      "align_self": null,
      "border": null,
      "bottom": null,
      "display": null,
      "flex": null,
      "flex_flow": null,
      "grid_area": null,
      "grid_auto_columns": null,
      "grid_auto_flow": null,
      "grid_auto_rows": null,
      "grid_column": null,
      "grid_gap": null,
      "grid_row": null,
      "grid_template_areas": null,
      "grid_template_columns": null,
      "grid_template_rows": null,
      "height": null,
      "justify_content": null,
      "justify_items": null,
      "left": null,
      "margin": null,
      "max_height": null,
      "max_width": null,
      "min_height": null,
      "min_width": null,
      "object_fit": null,
      "object_position": null,
      "order": null,
      "overflow": null,
      "overflow_x": null,
      "overflow_y": null,
      "padding": null,
      "right": null,
      "top": null,
      "visibility": null,
      "width": null
     }
    },
    "3dbbdfa73cf84aac9fef3d22ee0de2a3": {
     "model_module": "@jupyter-widgets/base",
     "model_name": "LayoutModel",
     "state": {
      "_model_module": "@jupyter-widgets/base",
      "_model_module_version": "1.2.0",
      "_model_name": "LayoutModel",
      "_view_count": null,
      "_view_module": "@jupyter-widgets/base",
      "_view_module_version": "1.2.0",
      "_view_name": "LayoutView",
      "align_content": null,
      "align_items": null,
      "align_self": null,
      "border": null,
      "bottom": null,
      "display": null,
      "flex": null,
      "flex_flow": null,
      "grid_area": null,
      "grid_auto_columns": null,
      "grid_auto_flow": null,
      "grid_auto_rows": null,
      "grid_column": null,
      "grid_gap": null,
      "grid_row": null,
      "grid_template_areas": null,
      "grid_template_columns": null,
      "grid_template_rows": null,
      "height": null,
      "justify_content": null,
      "justify_items": null,
      "left": null,
      "margin": null,
      "max_height": null,
      "max_width": null,
      "min_height": null,
      "min_width": null,
      "object_fit": null,
      "object_position": null,
      "order": null,
      "overflow": null,
      "overflow_x": null,
      "overflow_y": null,
      "padding": null,
      "right": null,
      "top": null,
      "visibility": null,
      "width": null
     }
    },
    "44fe5473bc604425a89d949b8b1fadca": {
     "model_module": "@jupyter-widgets/controls",
     "model_name": "HBoxModel",
     "state": {
      "_dom_classes": [],
      "_model_module": "@jupyter-widgets/controls",
      "_model_module_version": "1.5.0",
      "_model_name": "HBoxModel",
      "_view_count": null,
      "_view_module": "@jupyter-widgets/controls",
      "_view_module_version": "1.5.0",
      "_view_name": "HBoxView",
      "box_style": "",
      "children": [
       "IPY_MODEL_4566c85f8f8443acaa80591012be3a58",
       "IPY_MODEL_d0a35b7f92744288a841cb1acc92031f"
      ],
      "layout": "IPY_MODEL_35b6da694ed74333b7ac16ef8928b9a6"
     }
    },
    "4566c85f8f8443acaa80591012be3a58": {
     "model_module": "@jupyter-widgets/controls",
     "model_name": "FloatProgressModel",
     "state": {
      "_dom_classes": [],
      "_model_module": "@jupyter-widgets/controls",
      "_model_module_version": "1.5.0",
      "_model_name": "FloatProgressModel",
      "_view_count": null,
      "_view_module": "@jupyter-widgets/controls",
      "_view_module_version": "1.5.0",
      "_view_name": "ProgressView",
      "bar_style": "success",
      "description": "Dl Completed...: 100%",
      "description_tooltip": null,
      "layout": "IPY_MODEL_8b1429a6c67c4971a025459b59d4902a",
      "max": 4,
      "min": 0,
      "orientation": "horizontal",
      "style": "IPY_MODEL_ff8062801cd349138e84847e841ad017",
      "value": 4
     }
    },
    "65ba0aac2b034021b9c4bfdc9c51670d": {
     "model_module": "@jupyter-widgets/controls",
     "model_name": "DescriptionStyleModel",
     "state": {
      "_model_module": "@jupyter-widgets/controls",
      "_model_module_version": "1.5.0",
      "_model_name": "DescriptionStyleModel",
      "_view_count": null,
      "_view_module": "@jupyter-widgets/base",
      "_view_module_version": "1.2.0",
      "_view_name": "StyleView",
      "description_width": ""
     }
    },
    "8b1429a6c67c4971a025459b59d4902a": {
     "model_module": "@jupyter-widgets/base",
     "model_name": "LayoutModel",
     "state": {
      "_model_module": "@jupyter-widgets/base",
      "_model_module_version": "1.2.0",
      "_model_name": "LayoutModel",
      "_view_count": null,
      "_view_module": "@jupyter-widgets/base",
      "_view_module_version": "1.2.0",
      "_view_name": "LayoutView",
      "align_content": null,
      "align_items": null,
      "align_self": null,
      "border": null,
      "bottom": null,
      "display": null,
      "flex": null,
      "flex_flow": null,
      "grid_area": null,
      "grid_auto_columns": null,
      "grid_auto_flow": null,
      "grid_auto_rows": null,
      "grid_column": null,
      "grid_gap": null,
      "grid_row": null,
      "grid_template_areas": null,
      "grid_template_columns": null,
      "grid_template_rows": null,
      "height": null,
      "justify_content": null,
      "justify_items": null,
      "left": null,
      "margin": null,
      "max_height": null,
      "max_width": null,
      "min_height": null,
      "min_width": null,
      "object_fit": null,
      "object_position": null,
      "order": null,
      "overflow": null,
      "overflow_x": null,
      "overflow_y": null,
      "padding": null,
      "right": null,
      "top": null,
      "visibility": null,
      "width": null
     }
    },
    "d0a35b7f92744288a841cb1acc92031f": {
     "model_module": "@jupyter-widgets/controls",
     "model_name": "HTMLModel",
     "state": {
      "_dom_classes": [],
      "_model_module": "@jupyter-widgets/controls",
      "_model_module_version": "1.5.0",
      "_model_name": "HTMLModel",
      "_view_count": null,
      "_view_module": "@jupyter-widgets/controls",
      "_view_module_version": "1.5.0",
      "_view_name": "HTMLView",
      "description": "",
      "description_tooltip": null,
      "layout": "IPY_MODEL_3dbbdfa73cf84aac9fef3d22ee0de2a3",
      "placeholder": "​",
      "style": "IPY_MODEL_65ba0aac2b034021b9c4bfdc9c51670d",
      "value": " 4/4 [00:05&lt;00:00,  1.47s/ file]"
     }
    },
    "ff8062801cd349138e84847e841ad017": {
     "model_module": "@jupyter-widgets/controls",
     "model_name": "ProgressStyleModel",
     "state": {
      "_model_module": "@jupyter-widgets/controls",
      "_model_module_version": "1.5.0",
      "_model_name": "ProgressStyleModel",
      "_view_count": null,
      "_view_module": "@jupyter-widgets/base",
      "_view_module_version": "1.2.0",
      "_view_name": "StyleView",
      "bar_color": null,
      "description_width": "initial"
     }
    }
   }
  }
 },
 "nbformat": 4,
 "nbformat_minor": 4
}
