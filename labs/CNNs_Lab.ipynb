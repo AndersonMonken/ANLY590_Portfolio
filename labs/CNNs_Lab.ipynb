{
 "cells": [
  {
   "cell_type": "code",
   "execution_count": 118,
   "metadata": {
    "id": "7oeTRribu75d"
   },
   "outputs": [],
   "source": [
    "import numpy as np\n",
    "import matplotlib.pyplot as plt\n",
    "import tensorflow as tf\n",
    "import tensorflow.keras as tfk\n",
    "import tensorflow_datasets as tfds\n",
    "from tensorflow.data.experimental import sample_from_datasets"
   ]
  },
  {
   "cell_type": "code",
   "execution_count": 119,
   "metadata": {
    "id": "7oeTRribu75d"
   },
   "outputs": [],
   "source": [
    "physical_devices = tf.config.experimental.list_physical_devices('GPU')\n",
    "if len(physical_devices) > 0:\n",
    "    tf.config.experimental.set_memory_growth(physical_devices[0], True)\n",
    "    \n",
    "tfkl = tfk.layers"
   ]
  },
  {
   "cell_type": "markdown",
   "metadata": {
    "id": "Qv0GpRAru98a"
   },
   "source": [
    "**Preprocessing**\n",
    "\n",
    "As typical, we'll start with the MNIST data. Recall from last time, we have to do some transformations and preprocessing on these images."
   ]
  },
  {
   "cell_type": "code",
   "execution_count": 120,
   "metadata": {
    "id": "VzZgrGQivHMh"
   },
   "outputs": [],
   "source": [
    "data, info = tfds.load('mnist', with_info=True)"
   ]
  },
  {
   "cell_type": "code",
   "execution_count": 125,
   "metadata": {
    "id": "9UIPvj-sFxU2"
   },
   "outputs": [],
   "source": [
    "preprocess = lambda d: (tf.cast(d[\"image\"], tf.float32)/255, tf.one_hot(d[\"label\"], depth=10))\n",
    "\n",
    "ds_train = data[\"train\"].map(preprocess).cache().batch(128).repeat().prefetch(10)\n",
    "ds_test = data[\"test\"].map(preprocess).cache().batch(128).repeat()"
   ]
  },
  {
   "cell_type": "code",
   "execution_count": 126,
   "metadata": {
    "id": "rVxvHMXTGzXo"
   },
   "outputs": [],
   "source": [
    "img_shape = info.features['image'].shape"
   ]
  },
  {
   "cell_type": "code",
   "execution_count": 127,
   "metadata": {
    "colab": {
     "base_uri": "https://localhost:8080/"
    },
    "id": "9k9r8vw9HDNt",
    "outputId": "0ddaf28e-f80c-4d7d-da24-825cee071321"
   },
   "outputs": [
    {
     "data": {
      "text/plain": [
       "(28, 28, 1)"
      ]
     },
     "execution_count": 127,
     "metadata": {},
     "output_type": "execute_result"
    }
   ],
   "source": [
    "img_shape"
   ]
  },
  {
   "cell_type": "code",
   "execution_count": 128,
   "metadata": {},
   "outputs": [
    {
     "data": {
      "text/plain": [
       "<matplotlib.image.AxesImage at 0x1ceb1096550>"
      ]
     },
     "execution_count": 128,
     "metadata": {},
     "output_type": "execute_result"
    },
    {
     "data": {
      "image/png": "[encoded data removed]",
      "text/plain": [
       "<Figure size 432x288 with 1 Axes>"
      ]
     },
     "metadata": {
      "needs_background": "light"
     },
     "output_type": "display_data"
    }
   ],
   "source": [
    "x, y = next(iter(ds_train))\n",
    "plt.imshow(x[0,:,:,0])"
   ]
  },
  {
   "cell_type": "markdown",
   "metadata": {
    "id": "CWYDJz0tWnH2"
   },
   "source": [
    "**CNNs in TF Keras**\n",
    "\n",
    "We'll use the Sequential class rely on new layer types that correspond to concepts we covered in lecture: Conv2D, AvgPool2D, MaxPool2D. \n",
    "\n",
    "Details such as kernel size, padding, strides and so on must be specified as args to these classes, where appropriate."
   ]
  },
  {
   "cell_type": "code",
   "execution_count": 129,
   "metadata": {
    "id": "B9DgLXVCHDt7"
   },
   "outputs": [],
   "source": [
    "model = tfk.Sequential()\n",
    "model.add(tfkl.Conv2D(filters = 256, kernel_size=(3,3), strides=(1,1), \n",
    "                      padding=\"valid\", activation='relu', input_shape=(28, 28, 1)))\n",
    "model.add(tfkl.MaxPool2D(pool_size=(4,4)))\n",
    "model.add(tfkl.Flatten())\n",
    "model.add(tfkl.Dense(10, activation='softmax'))"
   ]
  },
  {
   "cell_type": "code",
   "execution_count": 130,
   "metadata": {
    "colab": {
     "base_uri": "https://localhost:8080/"
    },
    "id": "2Af5cnJ9JDvA",
    "outputId": "673fd57c-a870-4160-a0e1-1130d61c04c2"
   },
   "outputs": [
    {
     "name": "stdout",
     "output_type": "stream",
     "text": [
      "Model: \"sequential_5\"\n",
      "_________________________________________________________________\n",
      "Layer (type)                 Output Shape              Param #   \n",
      "=================================================================\n",
      "conv2d_5 (Conv2D)            (None, 26, 26, 256)       2560      \n",
      "_________________________________________________________________\n",
      "max_pooling2d_5 (MaxPooling2 (None, 6, 6, 256)         0         \n",
      "_________________________________________________________________\n",
      "flatten_5 (Flatten)          (None, 9216)              0         \n",
      "_________________________________________________________________\n",
      "dense_5 (Dense)              (None, 10)                92170     \n",
      "=================================================================\n",
      "Total params: 94,730\n",
      "Trainable params: 94,730\n",
      "Non-trainable params: 0\n",
      "_________________________________________________________________\n"
     ]
    }
   ],
   "source": [
    "model.summary()"
   ]
  },
  {
   "cell_type": "code",
   "execution_count": 131,
   "metadata": {
    "id": "p5W4C452HThh"
   },
   "outputs": [
    {
     "name": "stdout",
     "output_type": "stream",
     "text": [
      "Epoch 1/10\n",
      "50/50 [==============================] - 0s 9ms/step - loss: 0.9585 - categorical_accuracy: 0.7200 - val_loss: 0.4852 - val_categorical_accuracy: 0.8359\n",
      "Epoch 2/10\n",
      "50/50 [==============================] - 0s 7ms/step - loss: 0.4060 - categorical_accuracy: 0.8772 - val_loss: 0.2978 - val_categorical_accuracy: 0.9297\n",
      "Epoch 3/10\n",
      "50/50 [==============================] - 0s 7ms/step - loss: 0.2952 - categorical_accuracy: 0.9100 - val_loss: 0.1882 - val_categorical_accuracy: 0.9375\n",
      "Epoch 4/10\n",
      "50/50 [==============================] - 0s 7ms/step - loss: 0.2269 - categorical_accuracy: 0.9317 - val_loss: 0.1599 - val_categorical_accuracy: 0.9531\n",
      "Epoch 5/10\n",
      "50/50 [==============================] - 0s 7ms/step - loss: 0.1982 - categorical_accuracy: 0.9411 - val_loss: 0.1551 - val_categorical_accuracy: 0.9453\n",
      "Epoch 6/10\n",
      "50/50 [==============================] - 0s 7ms/step - loss: 0.1679 - categorical_accuracy: 0.9488 - val_loss: 0.1207 - val_categorical_accuracy: 0.9609\n",
      "Epoch 7/10\n",
      "50/50 [==============================] - 0s 7ms/step - loss: 0.1432 - categorical_accuracy: 0.9580 - val_loss: 0.1142 - val_categorical_accuracy: 0.9609\n",
      "Epoch 8/10\n",
      "50/50 [==============================] - 0s 7ms/step - loss: 0.1479 - categorical_accuracy: 0.9575 - val_loss: 0.1217 - val_categorical_accuracy: 0.9609\n",
      "Epoch 9/10\n",
      "50/50 [==============================] - 0s 7ms/step - loss: 0.1177 - categorical_accuracy: 0.9656 - val_loss: 0.0898 - val_categorical_accuracy: 0.9766\n",
      "Epoch 10/10\n",
      "50/50 [==============================] - 0s 7ms/step - loss: 0.1140 - categorical_accuracy: 0.9659 - val_loss: 0.0811 - val_categorical_accuracy: 0.9766\n"
     ]
    }
   ],
   "source": [
    "model.compile(\n",
    "    optimizer=tfk.optimizers.RMSprop(),\n",
    "    loss=tfk.losses.CategoricalCrossentropy(),\n",
    "    metrics=[tfk.metrics.CategoricalAccuracy()]\n",
    ")\n",
    "\n",
    "results = model.fit(ds_train, steps_per_epoch=50, epochs=10, validation_data=ds_test, validation_steps=1)"
   ]
  },
  {
   "cell_type": "code",
   "execution_count": 132,
   "metadata": {
    "id": "VT_6GoNOH1MC"
   },
   "outputs": [
    {
     "data": {
      "text/plain": [
       "<matplotlib.legend.Legend at 0x1cebaacc1c0>"
      ]
     },
     "execution_count": 132,
     "metadata": {},
     "output_type": "execute_result"
    },
    {
     "data": {
      "image/png": "[encoded data removed]",
      "text/plain": [
       "<Figure size 432x288 with 1 Axes>"
      ]
     },
     "metadata": {
      "needs_background": "light"
     },
     "output_type": "display_data"
    }
   ],
   "source": [
    "plt.plot(results.history[\"loss\"])\n",
    "plt.plot(results.history[\"val_loss\"])\n",
    "plt.legend(labels=[\"train\", \"val\"])"
   ]
  },
  {
   "cell_type": "code",
   "execution_count": 133,
   "metadata": {
    "id": "9s7VuiBmPNuB"
   },
   "outputs": [
    {
     "data": {
      "text/plain": [
       "Text(0.5, 0, 'Probability')"
      ]
     },
     "execution_count": 133,
     "metadata": {},
     "output_type": "execute_result"
    },
    {
     "data": {
      "image/png": "[encoded data removed]",
      "text/plain": [
       "<Figure size 432x288 with 1 Axes>"
      ]
     },
     "metadata": {
      "needs_background": "light"
     },
     "output_type": "display_data"
    }
   ],
   "source": [
    "plt.stem(model.predict(ds_test.take(1))[9, :])\n",
    "plt.xlabel(\"Digit\")\n",
    "plt.xlabel(\"Probability\")"
   ]
  },
  {
   "cell_type": "code",
   "execution_count": 134,
   "metadata": {},
   "outputs": [],
   "source": [
    "batch = next(iter(ds_test))"
   ]
  },
  {
   "cell_type": "code",
   "execution_count": 135,
   "metadata": {},
   "outputs": [],
   "source": [
    "predict = model.predict(batch[0])\n",
    "true = batch[1]\n"
   ]
  },
  {
   "cell_type": "code",
   "execution_count": 136,
   "metadata": {},
   "outputs": [
    {
     "data": {
      "text/plain": [
       "<tf.Tensor: shape=(128,), dtype=int64, numpy=\n",
       "array([0, 0, 0, 0, 0, 0, 0, 0, 0, 0, 0, 0, 0, 0, 0, 0, 0, 0, 0, 0, 0, 0,\n",
       "       0, 0, 0, 0, 0, 0, 0, 0, 9, 0, 0, 4, 0, 0, 0, 0, 0, 0, 0, 0, 0, 0,\n",
       "       0, 0, 0, 0, 0, 0, 0, 0, 0, 0, 0, 0, 0, 0, 0, 0, 0, 0, 0, 0, 0, 0,\n",
       "       0, 0, 0, 0, 0, 0, 0, 0, 0, 0, 0, 0, 0, 0, 0, 0, 0, 0, 0, 0, 0, 0,\n",
       "       0, 0, 0, 0, 0, 0, 0, 0, 0, 0, 6, 0, 0, 0, 0, 0, 0, 0, 0, 0, 0, 0,\n",
       "       0, 0, 0, 0, 0, 0, 0, 0, 0, 0, 0, 0, 0, 0, 0, 0, 0, 0], dtype=int64)>"
      ]
     },
     "execution_count": 136,
     "metadata": {},
     "output_type": "execute_result"
    }
   ],
   "source": [
    "tf.argmax(batch[1],1) - tf.argmax(model.predict(batch[0]),1)"
   ]
  },
  {
   "cell_type": "code",
   "execution_count": 138,
   "metadata": {},
   "outputs": [
    {
     "data": {
      "text/plain": [
       "0.9756098"
      ]
     },
     "execution_count": 138,
     "metadata": {},
     "output_type": "execute_result"
    }
   ],
   "source": [
    "m.update_state(tf.argmax(model.predict(batch[0]),1),tf.argmax(batch[1],1))\n",
    "m.result().numpy()"
   ]
  },
  {
   "cell_type": "markdown",
   "metadata": {
    "id": "WBc0TsgEWcd2"
   },
   "source": [
    "Which architectural hyperparameters might we change in the above?"
   ]
  },
  {
   "cell_type": "markdown",
   "metadata": {
    "id": "PBY6bJSeIPYC"
   },
   "source": [
    "\n",
    "\n",
    "**Exercise - Deep CNN**\n",
    "\n",
    "Build and fit your own CNN model with 3 convolutional **modules**, where each one contains:\n",
    "  * kernel convolution \n",
    "    * you pick number of kernels\n",
    "    * you pick kernel shape/size\n",
    "    * you pick activation\n",
    "  * pooling\n",
    "  * dropout\n",
    "\n",
    "We'll use the Fashion MNIST dataset, a low-res collection of images of clothing."
   ]
  },
  {
   "cell_type": "code",
   "execution_count": 141,
   "metadata": {
    "id": "BbhcW5QAN2Tz"
   },
   "outputs": [],
   "source": [
    "train, test = tf.keras.datasets.fashion_mnist.load_data()\n",
    "\n",
    "images, labels = train\n",
    "images = images/255.0\n",
    "images = images[:, :, :, np.newaxis]\n",
    "labels = tf.one_hot(labels.astype(np.int32), depth=10)\n",
    "\n",
    "# optional - TF Datasets objects\n",
    "fmnist_train_ds = tf.data.Dataset.from_tensor_slices((images, labels))\n",
    "fmnist_train_ds = fmnist_train_ds.shuffle(5000).cache().batch(128).prefetch(10)\n",
    "\n",
    "images, labels = test\n",
    "images = images/255.0\n",
    "images = images[:, :, :, np.newaxis]\n",
    "labels = tf.one_hot(labels.astype(np.int32), depth=10)\n",
    "fmnist_test_ds = tf.data.Dataset.from_tensor_slices((images, labels))\n",
    "fmnist_test_ds = fmnist_test_ds.shuffle(5000).batch(128)\n"
   ]
  },
  {
   "cell_type": "code",
   "execution_count": 142,
   "metadata": {
    "id": "-B589FNlTKOR"
   },
   "outputs": [
    {
     "data": {
      "text/plain": [
       "<matplotlib.image.AxesImage at 0x1ce79864340>"
      ]
     },
     "execution_count": 142,
     "metadata": {},
     "output_type": "execute_result"
    },
    {
     "data": {
      "image/png": "[encoded data removed]",
      "text/plain": [
       "<Figure size 432x288 with 1 Axes>"
      ]
     },
     "metadata": {
      "needs_background": "light"
     },
     "output_type": "display_data"
    }
   ],
   "source": [
    "plt.imshow(images[3, :, :, :].squeeze())"
   ]
  },
  {
   "cell_type": "code",
   "execution_count": 143,
   "metadata": {
    "id": "hJK4H78OOWZG"
   },
   "outputs": [],
   "source": [
    "model = tfk.Sequential()\n",
    "# 1st conv module\n",
    "model.add(tfkl.Conv2D(filters = 256, kernel_size=(2,2), strides=(1,1), \n",
    "                      padding=\"same\", activation='relu', input_shape=(28, 28, 1)))\n",
    "model.add(tfkl.MaxPool2D(pool_size=(2,2)))\n",
    "model.add(tfkl.Dropout(0.25))\n",
    "\n",
    "# 2nd conv module\n",
    "model.add(tfkl.Conv2D(filters = 256, kernel_size=2, strides=(1,1), \n",
    "                      padding=\"same\", activation='relu'))\n",
    "model.add(tfkl.MaxPool2D(pool_size=(2,2)))\n",
    "model.add(tfkl.Dropout(0.25))\n",
    "\n",
    "# 3rd conv module\n",
    "model.add(tfkl.Conv2D(filters = 256, kernel_size=(2,2), strides=(1,1), \n",
    "                      padding=\"valid\", activation='relu'))\n",
    "model.add(tfkl.MaxPool2D(pool_size=(2,2)))\n",
    "model.add(tfkl.Dropout(0.25))\n",
    "\n",
    "model.add(tfkl.Flatten())\n",
    "model.add(tfkl.Dense(10, activation='softmax'))"
   ]
  },
  {
   "cell_type": "code",
   "execution_count": 144,
   "metadata": {
    "id": "W12xD44Q-EdB"
   },
   "outputs": [
    {
     "name": "stdout",
     "output_type": "stream",
     "text": [
      "Model: \"sequential_6\"\n",
      "_________________________________________________________________\n",
      "Layer (type)                 Output Shape              Param #   \n",
      "=================================================================\n",
      "conv2d_6 (Conv2D)            (None, 28, 28, 256)       1280      \n",
      "_________________________________________________________________\n",
      "max_pooling2d_6 (MaxPooling2 (None, 14, 14, 256)       0         \n",
      "_________________________________________________________________\n",
      "dropout (Dropout)            (None, 14, 14, 256)       0         \n",
      "_________________________________________________________________\n",
      "conv2d_7 (Conv2D)            (None, 14, 14, 256)       262400    \n",
      "_________________________________________________________________\n",
      "max_pooling2d_7 (MaxPooling2 (None, 7, 7, 256)         0         \n",
      "_________________________________________________________________\n",
      "dropout_1 (Dropout)          (None, 7, 7, 256)         0         \n",
      "_________________________________________________________________\n",
      "conv2d_8 (Conv2D)            (None, 6, 6, 256)         262400    \n",
      "_________________________________________________________________\n",
      "max_pooling2d_8 (MaxPooling2 (None, 3, 3, 256)         0         \n",
      "_________________________________________________________________\n",
      "dropout_2 (Dropout)          (None, 3, 3, 256)         0         \n",
      "_________________________________________________________________\n",
      "flatten_6 (Flatten)          (None, 2304)              0         \n",
      "_________________________________________________________________\n",
      "dense_6 (Dense)              (None, 10)                23050     \n",
      "=================================================================\n",
      "Total params: 549,130\n",
      "Trainable params: 549,130\n",
      "Non-trainable params: 0\n",
      "_________________________________________________________________\n"
     ]
    }
   ],
   "source": [
    "model.summary()"
   ]
  },
  {
   "cell_type": "code",
   "execution_count": 145,
   "metadata": {},
   "outputs": [
    {
     "name": "stdout",
     "output_type": "stream",
     "text": [
      "Epoch 1/50\n",
      "20/20 [==============================] - 1s 45ms/step - loss: 1.7381 - categorical_accuracy: 0.3605 - val_loss: 1.1324 - val_categorical_accuracy: 0.6276\n",
      "Epoch 2/50\n",
      "20/20 [==============================] - 1s 39ms/step - loss: 0.9890 - categorical_accuracy: 0.6398 - val_loss: 0.8276 - val_categorical_accuracy: 0.6950\n",
      "Epoch 3/50\n",
      "20/20 [==============================] - 1s 39ms/step - loss: 0.8032 - categorical_accuracy: 0.7035 - val_loss: 0.7387 - val_categorical_accuracy: 0.7103\n",
      "Epoch 4/50\n",
      "20/20 [==============================] - 1s 39ms/step - loss: 0.6956 - categorical_accuracy: 0.7434 - val_loss: 0.6982 - val_categorical_accuracy: 0.7348\n",
      "Epoch 5/50\n",
      "20/20 [==============================] - 1s 40ms/step - loss: 0.6482 - categorical_accuracy: 0.7539 - val_loss: 0.6137 - val_categorical_accuracy: 0.7844\n",
      "Epoch 6/50\n",
      "20/20 [==============================] - 1s 39ms/step - loss: 0.5813 - categorical_accuracy: 0.7863 - val_loss: 0.5904 - val_categorical_accuracy: 0.7763\n",
      "Epoch 7/50\n",
      "20/20 [==============================] - 1s 39ms/step - loss: 0.5757 - categorical_accuracy: 0.7957 - val_loss: 0.5628 - val_categorical_accuracy: 0.7893\n",
      "Epoch 8/50\n",
      "20/20 [==============================] - 1s 39ms/step - loss: 0.5653 - categorical_accuracy: 0.7867 - val_loss: 0.4760 - val_categorical_accuracy: 0.8244\n",
      "Epoch 9/50\n",
      "20/20 [==============================] - 1s 39ms/step - loss: 0.4938 - categorical_accuracy: 0.8148 - val_loss: 0.4764 - val_categorical_accuracy: 0.8274\n",
      "Epoch 10/50\n",
      "20/20 [==============================] - 1s 39ms/step - loss: 0.4661 - categorical_accuracy: 0.8277 - val_loss: 0.6020 - val_categorical_accuracy: 0.7595\n",
      "Epoch 11/50\n",
      "20/20 [==============================] - 1s 38ms/step - loss: 0.4892 - categorical_accuracy: 0.8273 - val_loss: 0.4650 - val_categorical_accuracy: 0.8241\n",
      "Epoch 12/50\n",
      "20/20 [==============================] - 1s 39ms/step - loss: 0.4675 - categorical_accuracy: 0.8344 - val_loss: 0.4278 - val_categorical_accuracy: 0.8478\n",
      "Epoch 13/50\n",
      "20/20 [==============================] - 1s 38ms/step - loss: 0.4872 - categorical_accuracy: 0.8262 - val_loss: 0.4181 - val_categorical_accuracy: 0.8524\n",
      "Epoch 14/50\n",
      "20/20 [==============================] - 1s 40ms/step - loss: 0.4216 - categorical_accuracy: 0.8445 - val_loss: 0.4332 - val_categorical_accuracy: 0.8465\n",
      "Epoch 15/50\n",
      "20/20 [==============================] - 1s 39ms/step - loss: 0.4388 - categorical_accuracy: 0.8457 - val_loss: 0.4185 - val_categorical_accuracy: 0.8510\n",
      "Epoch 16/50\n",
      "20/20 [==============================] - 1s 39ms/step - loss: 0.4308 - categorical_accuracy: 0.8457 - val_loss: 0.4110 - val_categorical_accuracy: 0.8548\n",
      "Epoch 17/50\n",
      "20/20 [==============================] - 1s 41ms/step - loss: 0.4126 - categorical_accuracy: 0.8547 - val_loss: 0.4456 - val_categorical_accuracy: 0.8329\n",
      "Epoch 18/50\n",
      "20/20 [==============================] - 1s 40ms/step - loss: 0.4116 - categorical_accuracy: 0.8539 - val_loss: 0.4023 - val_categorical_accuracy: 0.8573\n",
      "Epoch 19/50\n",
      "20/20 [==============================] - 1s 39ms/step - loss: 0.4266 - categorical_accuracy: 0.8445 - val_loss: 0.3972 - val_categorical_accuracy: 0.8593\n",
      "Epoch 20/50\n",
      "20/20 [==============================] - 1s 40ms/step - loss: 0.3981 - categorical_accuracy: 0.8582 - val_loss: 0.3847 - val_categorical_accuracy: 0.8641\n",
      "Epoch 21/50\n",
      "20/20 [==============================] - 1s 39ms/step - loss: 0.4016 - categorical_accuracy: 0.8523 - val_loss: 0.4083 - val_categorical_accuracy: 0.8545\n",
      "Epoch 22/50\n",
      "20/20 [==============================] - 1s 40ms/step - loss: 0.4112 - categorical_accuracy: 0.8539 - val_loss: 0.3755 - val_categorical_accuracy: 0.8649\n",
      "Epoch 23/50\n",
      "20/20 [==============================] - 1s 39ms/step - loss: 0.3566 - categorical_accuracy: 0.8695 - val_loss: 0.4059 - val_categorical_accuracy: 0.8483\n",
      "Epoch 24/50\n",
      " 9/20 [============>.................] - ETA: 0s - loss: 0.3877 - categorical_accuracy: 0.8679WARNING:tensorflow:Your input ran out of data; interrupting training. Make sure that your dataset or generator can generate at least `steps_per_epoch * epochs` batches (in this case, 1000 batches). You may need to use the repeat() function when building your dataset.\n"
     ]
    },
    {
     "name": "stderr",
     "output_type": "stream",
     "text": [
      "WARNING:tensorflow:Your input ran out of data; interrupting training. Make sure that your dataset or generator can generate at least `steps_per_epoch * epochs` batches (in this case, 1000 batches). You may need to use the repeat() function when building your dataset.\n"
     ]
    },
    {
     "name": "stdout",
     "output_type": "stream",
     "text": [
      " 9/20 [============>.................] - 1s 81ms/step - loss: 0.3877 - categorical_accuracy: 0.8679 - val_loss: 0.3923 - val_categorical_accuracy: 0.8596\n"
     ]
    }
   ],
   "source": [
    "model.compile(\n",
    "    optimizer=tfk.optimizers.RMSprop(),\n",
    "    loss=tfk.losses.CategoricalCrossentropy(),\n",
    "    metrics=[tfk.metrics.CategoricalAccuracy()]\n",
    ")\n",
    "\n",
    "results = model.fit(fmnist_train_ds, steps_per_epoch=20, epochs=50, validation_data=fmnist_test_ds)"
   ]
  },
  {
   "cell_type": "code",
   "execution_count": 146,
   "metadata": {},
   "outputs": [
    {
     "data": {
      "text/plain": [
       "Text(0.5, 0, 'Probability')"
      ]
     },
     "execution_count": 146,
     "metadata": {},
     "output_type": "execute_result"
    },
    {
     "data": {
      "image/png": "[encoded data removed]",
      "text/plain": [
       "<Figure size 432x288 with 1 Axes>"
      ]
     },
     "metadata": {
      "needs_background": "light"
     },
     "output_type": "display_data"
    }
   ],
   "source": [
    "plt.stem(model.predict(fmnist_test_ds.take(1))[9, :])\n",
    "plt.xlabel(\"Digit\")\n",
    "plt.xlabel(\"Probability\")"
   ]
  },
  {
   "cell_type": "markdown",
   "metadata": {
    "id": "g9eYdiPA-EhK"
   },
   "source": [
    "\n",
    "#|**Exercise - Transfer Learning**\n",
    "\n"
   ]
  },
  {
   "cell_type": "code",
   "execution_count": 147,
   "metadata": {
    "id": "DkUc8JGCIGWo"
   },
   "outputs": [],
   "source": [
    "data = tfds.load('rock_paper_scissors')"
   ]
  },
  {
   "cell_type": "code",
   "execution_count": 172,
   "metadata": {
    "id": "DkUc8JGCIGWo"
   },
   "outputs": [],
   "source": [
    "train_data = data[\"train\"].map(lambda x: (tf.cast(x[\"image\"], tf.float32) / 255., tf.cast(tf.one_hot(x[\"label\"],depth=3),tf.int32) )).cache().batch(16).repeat().prefetch(16)\n",
    "test_data = data[\"test\"].map(lambda x: (tf.cast(x[\"image\"], tf.float32) / 255., tf.cast(tf.one_hot(x[\"label\"],depth=3),tf.int32) )).cache().batch(16).repeat().prefetch(16)"
   ]
  },
  {
   "cell_type": "code",
   "execution_count": 173,
   "metadata": {
    "colab": {
     "base_uri": "https://localhost:8080/",
     "height": 1000
    },
    "id": "Z_40TWUfJjwb",
    "outputId": "e41b995c-11b4-441b-a3a5-905f432e9e44"
   },
   "outputs": [
    {
     "data": {
      "text/html": [
       "<style  type=\"text/css\" >\n",
       "</style><table id=\"T_eb2f9384_23d2_11eb_a82f_380025aae843\" ><thead>    <tr>        <th class=\"blank level0\" ></th>        <th class=\"col_heading level0 col0\" >image</th>        <th class=\"col_heading level0 col1\" >label</th>    </tr></thead><tbody>\n",
       "                <tr>\n",
       "                        <th id=\"T_eb2f9384_23d2_11eb_a82f_380025aae843level0_row0\" class=\"row_heading level0 row0\" >0</th>\n",
       "                        <td id=\"T_eb2f9384_23d2_11eb_a82f_380025aae843row0_col0\" class=\"data row0 col0\" >[[[254 254 254]\n",
       "  [253 253 253]\n",
       "  [254 254 254]\n",
       "  ...\n",
       "  [251 251 251]\n",
       "  [250 250 250]\n",
       "  [250 250 250]]\n",
       "\n",
       " [[254 254 254]\n",
       "  [254 254 254]\n",
       "  [253 253 253]\n",
       "  ...\n",
       "  [250 250 250]\n",
       "  [251 251 251]\n",
       "  [249 249 249]]\n",
       "\n",
       " [[254 254 254]\n",
       "  [254 254 254]\n",
       "  [254 254 254]\n",
       "  ...\n",
       "  [251 251 251]\n",
       "  [250 250 250]\n",
       "  [252 252 252]]\n",
       "\n",
       " ...\n",
       "\n",
       " [[252 252 252]\n",
       "  [251 251 251]\n",
       "  [252 252 252]\n",
       "  ...\n",
       "  [247 247 247]\n",
       "  [249 249 249]\n",
       "  [248 248 248]]\n",
       "\n",
       " [[253 253 253]\n",
       "  [253 253 253]\n",
       "  [251 251 251]\n",
       "  ...\n",
       "  [248 248 248]\n",
       "  [248 248 248]\n",
       "  [248 248 248]]\n",
       "\n",
       " [[252 252 252]\n",
       "  [253 253 253]\n",
       "  [252 252 252]\n",
       "  ...\n",
       "  [248 248 248]\n",
       "  [247 247 247]\n",
       "  [250 250 250]]]</td>\n",
       "                        <td id=\"T_eb2f9384_23d2_11eb_a82f_380025aae843row0_col1\" class=\"data row0 col1\" >2</td>\n",
       "            </tr>\n",
       "            <tr>\n",
       "                        <th id=\"T_eb2f9384_23d2_11eb_a82f_380025aae843level0_row1\" class=\"row_heading level0 row1\" >1</th>\n",
       "                        <td id=\"T_eb2f9384_23d2_11eb_a82f_380025aae843row1_col0\" class=\"data row1 col0\" >[[[254 254 254]\n",
       "  [253 253 253]\n",
       "  [254 254 254]\n",
       "  ...\n",
       "  [252 252 252]\n",
       "  [250 250 250]\n",
       "  [250 250 250]]\n",
       "\n",
       " [[253 253 253]\n",
       "  [255 255 255]\n",
       "  [253 253 253]\n",
       "  ...\n",
       "  [251 251 251]\n",
       "  [251 251 251]\n",
       "  [250 250 250]]\n",
       "\n",
       " [[254 254 254]\n",
       "  [253 253 253]\n",
       "  [254 254 254]\n",
       "  ...\n",
       "  [252 252 252]\n",
       "  [250 250 250]\n",
       "  [251 251 251]]\n",
       "\n",
       " ...\n",
       "\n",
       " [[253 253 253]\n",
       "  [252 252 252]\n",
       "  [252 252 252]\n",
       "  ...\n",
       "  [249 249 249]\n",
       "  [249 249 249]\n",
       "  [250 250 250]]\n",
       "\n",
       " [[252 252 252]\n",
       "  [252 252 252]\n",
       "  [251 251 251]\n",
       "  ...\n",
       "  [248 248 248]\n",
       "  [248 248 248]\n",
       "  [249 249 249]]\n",
       "\n",
       " [[251 251 251]\n",
       "  [252 252 252]\n",
       "  [253 253 253]\n",
       "  ...\n",
       "  [248 248 248]\n",
       "  [249 249 249]\n",
       "  [250 250 250]]]</td>\n",
       "                        <td id=\"T_eb2f9384_23d2_11eb_a82f_380025aae843row1_col1\" class=\"data row1 col1\" >2</td>\n",
       "            </tr>\n",
       "            <tr>\n",
       "                        <th id=\"T_eb2f9384_23d2_11eb_a82f_380025aae843level0_row2\" class=\"row_heading level0 row2\" >2</th>\n",
       "                        <td id=\"T_eb2f9384_23d2_11eb_a82f_380025aae843row2_col0\" class=\"data row2 col0\" >[[[254 254 254]\n",
       "  [253 253 253]\n",
       "  [254 254 254]\n",
       "  ...\n",
       "  [241 241 241]\n",
       "  [241 241 241]\n",
       "  [240 240 240]]\n",
       "\n",
       " [[254 254 254]\n",
       "  [253 253 253]\n",
       "  [253 253 253]\n",
       "  ...\n",
       "  [238 238 238]\n",
       "  [238 238 238]\n",
       "  [242 242 242]]\n",
       "\n",
       " [[254 254 254]\n",
       "  [253 253 253]\n",
       "  [253 253 253]\n",
       "  ...\n",
       "  [240 240 240]\n",
       "  [239 239 239]\n",
       "  [238 238 238]]\n",
       "\n",
       " ...\n",
       "\n",
       " [[252 252 252]\n",
       "  [250 250 250]\n",
       "  [252 252 252]\n",
       "  ...\n",
       "  [250 250 250]\n",
       "  [250 250 250]\n",
       "  [250 250 250]]\n",
       "\n",
       " [[252 252 252]\n",
       "  [252 252 252]\n",
       "  [252 252 252]\n",
       "  ...\n",
       "  [248 248 248]\n",
       "  [249 249 249]\n",
       "  [249 249 249]]\n",
       "\n",
       " [[252 252 252]\n",
       "  [252 252 252]\n",
       "  [252 252 252]\n",
       "  ...\n",
       "  [248 248 248]\n",
       "  [249 249 249]\n",
       "  [250 250 250]]]</td>\n",
       "                        <td id=\"T_eb2f9384_23d2_11eb_a82f_380025aae843row2_col1\" class=\"data row2 col1\" >0</td>\n",
       "            </tr>\n",
       "            <tr>\n",
       "                        <th id=\"T_eb2f9384_23d2_11eb_a82f_380025aae843level0_row3\" class=\"row_heading level0 row3\" >3</th>\n",
       "                        <td id=\"T_eb2f9384_23d2_11eb_a82f_380025aae843row3_col0\" class=\"data row3 col0\" >[[[253 253 253]\n",
       "  [253 253 253]\n",
       "  [254 254 254]\n",
       "  ...\n",
       "  [242 242 242]\n",
       "  [243 243 243]\n",
       "  [243 243 243]]\n",
       "\n",
       " [[254 254 254]\n",
       "  [253 253 253]\n",
       "  [253 253 253]\n",
       "  ...\n",
       "  [241 241 241]\n",
       "  [242 242 242]\n",
       "  [242 242 242]]\n",
       "\n",
       " [[253 253 253]\n",
       "  [254 254 254]\n",
       "  [253 253 253]\n",
       "  ...\n",
       "  [241 241 241]\n",
       "  [241 241 241]\n",
       "  [241 241 241]]\n",
       "\n",
       " ...\n",
       "\n",
       " [[252 252 252]\n",
       "  [250 250 250]\n",
       "  [252 252 252]\n",
       "  ...\n",
       "  [250 250 250]\n",
       "  [249 249 249]\n",
       "  [250 250 250]]\n",
       "\n",
       " [[252 252 252]\n",
       "  [252 252 252]\n",
       "  [251 251 251]\n",
       "  ...\n",
       "  [248 248 248]\n",
       "  [249 249 249]\n",
       "  [249 249 249]]\n",
       "\n",
       " [[252 252 252]\n",
       "  [252 252 252]\n",
       "  [252 252 252]\n",
       "  ...\n",
       "  [248 248 248]\n",
       "  [249 249 249]\n",
       "  [251 251 251]]]</td>\n",
       "                        <td id=\"T_eb2f9384_23d2_11eb_a82f_380025aae843row3_col1\" class=\"data row3 col1\" >1</td>\n",
       "            </tr>\n",
       "            <tr>\n",
       "                        <th id=\"T_eb2f9384_23d2_11eb_a82f_380025aae843level0_row4\" class=\"row_heading level0 row4\" >4</th>\n",
       "                        <td id=\"T_eb2f9384_23d2_11eb_a82f_380025aae843row4_col0\" class=\"data row4 col0\" >[[[255 255 255]\n",
       "  [255 255 255]\n",
       "  [255 255 255]\n",
       "  ...\n",
       "  [255 255 255]\n",
       "  [255 255 255]\n",
       "  [255 255 255]]\n",
       "\n",
       " [[255 255 255]\n",
       "  [255 255 255]\n",
       "  [255 255 255]\n",
       "  ...\n",
       "  [255 255 255]\n",
       "  [255 255 255]\n",
       "  [255 255 255]]\n",
       "\n",
       " [[255 255 255]\n",
       "  [255 255 255]\n",
       "  [255 255 255]\n",
       "  ...\n",
       "  [255 255 255]\n",
       "  [255 255 255]\n",
       "  [255 255 255]]\n",
       "\n",
       " ...\n",
       "\n",
       " [[255 255 255]\n",
       "  [255 255 255]\n",
       "  [255 255 255]\n",
       "  ...\n",
       "  [254 254 254]\n",
       "  [254 254 254]\n",
       "  [254 254 254]]\n",
       "\n",
       " [[255 255 255]\n",
       "  [255 255 255]\n",
       "  [255 255 255]\n",
       "  ...\n",
       "  [254 254 254]\n",
       "  [254 254 254]\n",
       "  [254 254 254]]\n",
       "\n",
       " [[255 255 255]\n",
       "  [255 255 255]\n",
       "  [255 255 255]\n",
       "  ...\n",
       "  [254 254 254]\n",
       "  [254 254 254]\n",
       "  [254 254 254]]]</td>\n",
       "                        <td id=\"T_eb2f9384_23d2_11eb_a82f_380025aae843row4_col1\" class=\"data row4 col1\" >0</td>\n",
       "            </tr>\n",
       "            <tr>\n",
       "                        <th id=\"T_eb2f9384_23d2_11eb_a82f_380025aae843level0_row5\" class=\"row_heading level0 row5\" >5</th>\n",
       "                        <td id=\"T_eb2f9384_23d2_11eb_a82f_380025aae843row5_col0\" class=\"data row5 col0\" >[[[255 255 255]\n",
       "  [255 255 255]\n",
       "  [255 255 255]\n",
       "  ...\n",
       "  [255 255 255]\n",
       "  [255 255 255]\n",
       "  [255 255 255]]\n",
       "\n",
       " [[255 255 255]\n",
       "  [255 255 255]\n",
       "  [255 255 255]\n",
       "  ...\n",
       "  [255 255 255]\n",
       "  [255 255 255]\n",
       "  [255 255 255]]\n",
       "\n",
       " [[255 255 255]\n",
       "  [254 254 254]\n",
       "  [255 255 255]\n",
       "  ...\n",
       "  [255 255 255]\n",
       "  [255 255 255]\n",
       "  [255 255 255]]\n",
       "\n",
       " ...\n",
       "\n",
       " [[255 255 255]\n",
       "  [255 255 255]\n",
       "  [255 255 255]\n",
       "  ...\n",
       "  [254 254 254]\n",
       "  [254 254 254]\n",
       "  [254 254 254]]\n",
       "\n",
       " [[255 255 255]\n",
       "  [255 255 255]\n",
       "  [255 255 255]\n",
       "  ...\n",
       "  [254 254 254]\n",
       "  [254 254 254]\n",
       "  [254 254 254]]\n",
       "\n",
       " [[255 255 255]\n",
       "  [255 255 255]\n",
       "  [255 255 255]\n",
       "  ...\n",
       "  [254 254 254]\n",
       "  [254 254 254]\n",
       "  [254 254 254]]]</td>\n",
       "                        <td id=\"T_eb2f9384_23d2_11eb_a82f_380025aae843row5_col1\" class=\"data row5 col1\" >1</td>\n",
       "            </tr>\n",
       "            <tr>\n",
       "                        <th id=\"T_eb2f9384_23d2_11eb_a82f_380025aae843level0_row6\" class=\"row_heading level0 row6\" >6</th>\n",
       "                        <td id=\"T_eb2f9384_23d2_11eb_a82f_380025aae843row6_col0\" class=\"data row6 col0\" >[[[253 253 253]\n",
       "  [253 253 253]\n",
       "  [254 254 254]\n",
       "  ...\n",
       "  [242 242 242]\n",
       "  [242 242 242]\n",
       "  [241 241 241]]\n",
       "\n",
       " [[254 254 254]\n",
       "  [253 253 253]\n",
       "  [253 253 253]\n",
       "  ...\n",
       "  [241 241 241]\n",
       "  [240 240 240]\n",
       "  [242 242 242]]\n",
       "\n",
       " [[253 253 253]\n",
       "  [253 253 253]\n",
       "  [253 253 253]\n",
       "  ...\n",
       "  [241 241 241]\n",
       "  [241 241 241]\n",
       "  [238 238 238]]\n",
       "\n",
       " ...\n",
       "\n",
       " [[252 252 252]\n",
       "  [251 251 251]\n",
       "  [252 252 252]\n",
       "  ...\n",
       "  [250 250 250]\n",
       "  [250 250 250]\n",
       "  [250 250 250]]\n",
       "\n",
       " [[251 251 251]\n",
       "  [253 253 253]\n",
       "  [252 252 252]\n",
       "  ...\n",
       "  [249 249 249]\n",
       "  [250 250 250]\n",
       "  [250 250 250]]\n",
       "\n",
       " [[252 252 252]\n",
       "  [252 252 252]\n",
       "  [252 252 252]\n",
       "  ...\n",
       "  [249 249 249]\n",
       "  [250 250 250]\n",
       "  [251 251 251]]]</td>\n",
       "                        <td id=\"T_eb2f9384_23d2_11eb_a82f_380025aae843row6_col1\" class=\"data row6 col1\" >2</td>\n",
       "            </tr>\n",
       "            <tr>\n",
       "                        <th id=\"T_eb2f9384_23d2_11eb_a82f_380025aae843level0_row7\" class=\"row_heading level0 row7\" >7</th>\n",
       "                        <td id=\"T_eb2f9384_23d2_11eb_a82f_380025aae843row7_col0\" class=\"data row7 col0\" >[[[255 255 255]\n",
       "  [255 255 255]\n",
       "  [255 255 255]\n",
       "  ...\n",
       "  [255 255 255]\n",
       "  [255 255 255]\n",
       "  [255 255 255]]\n",
       "\n",
       " [[255 255 255]\n",
       "  [255 255 255]\n",
       "  [255 255 255]\n",
       "  ...\n",
       "  [255 255 255]\n",
       "  [255 255 255]\n",
       "  [255 255 255]]\n",
       "\n",
       " [[255 255 255]\n",
       "  [255 255 255]\n",
       "  [255 255 255]\n",
       "  ...\n",
       "  [255 255 255]\n",
       "  [255 255 255]\n",
       "  [255 255 255]]\n",
       "\n",
       " ...\n",
       "\n",
       " [[255 255 255]\n",
       "  [255 255 255]\n",
       "  [255 255 255]\n",
       "  ...\n",
       "  [254 254 254]\n",
       "  [253 253 253]\n",
       "  [254 254 254]]\n",
       "\n",
       " [[255 255 255]\n",
       "  [255 255 255]\n",
       "  [255 255 255]\n",
       "  ...\n",
       "  [254 254 254]\n",
       "  [254 254 254]\n",
       "  [253 253 253]]\n",
       "\n",
       " [[255 255 255]\n",
       "  [255 255 255]\n",
       "  [255 255 255]\n",
       "  ...\n",
       "  [254 254 254]\n",
       "  [253 253 253]\n",
       "  [253 253 253]]]</td>\n",
       "                        <td id=\"T_eb2f9384_23d2_11eb_a82f_380025aae843row7_col1\" class=\"data row7 col1\" >1</td>\n",
       "            </tr>\n",
       "            <tr>\n",
       "                        <th id=\"T_eb2f9384_23d2_11eb_a82f_380025aae843level0_row8\" class=\"row_heading level0 row8\" >8</th>\n",
       "                        <td id=\"T_eb2f9384_23d2_11eb_a82f_380025aae843row8_col0\" class=\"data row8 col0\" >[[[253 253 253]\n",
       "  [253 253 253]\n",
       "  [255 255 255]\n",
       "  ...\n",
       "  [241 241 241]\n",
       "  [241 241 241]\n",
       "  [240 240 240]]\n",
       "\n",
       " [[253 253 253]\n",
       "  [254 254 254]\n",
       "  [254 254 254]\n",
       "  ...\n",
       "  [240 240 240]\n",
       "  [239 239 239]\n",
       "  [241 241 241]]\n",
       "\n",
       " [[254 254 254]\n",
       "  [254 254 254]\n",
       "  [253 253 253]\n",
       "  ...\n",
       "  [240 240 240]\n",
       "  [240 240 240]\n",
       "  [239 239 239]]\n",
       "\n",
       " ...\n",
       "\n",
       " [[253 253 253]\n",
       "  [253 253 253]\n",
       "  [252 252 252]\n",
       "  ...\n",
       "  [250 250 250]\n",
       "  [251 251 251]\n",
       "  [250 250 250]]\n",
       "\n",
       " [[253 253 253]\n",
       "  [252 252 252]\n",
       "  [251 251 251]\n",
       "  ...\n",
       "  [251 251 251]\n",
       "  [251 251 251]\n",
       "  [250 250 250]]\n",
       "\n",
       " [[253 253 253]\n",
       "  [253 253 253]\n",
       "  [253 253 253]\n",
       "  ...\n",
       "  [249 249 249]\n",
       "  [251 251 251]\n",
       "  [251 251 251]]]</td>\n",
       "                        <td id=\"T_eb2f9384_23d2_11eb_a82f_380025aae843row8_col1\" class=\"data row8 col1\" >2</td>\n",
       "            </tr>\n",
       "            <tr>\n",
       "                        <th id=\"T_eb2f9384_23d2_11eb_a82f_380025aae843level0_row9\" class=\"row_heading level0 row9\" >9</th>\n",
       "                        <td id=\"T_eb2f9384_23d2_11eb_a82f_380025aae843row9_col0\" class=\"data row9 col0\" >[[[253 253 253]\n",
       "  [254 254 254]\n",
       "  [254 254 254]\n",
       "  ...\n",
       "  [253 253 253]\n",
       "  [250 250 250]\n",
       "  [252 252 252]]\n",
       "\n",
       " [[253 253 253]\n",
       "  [255 255 255]\n",
       "  [254 254 254]\n",
       "  ...\n",
       "  [253 253 253]\n",
       "  [253 253 253]\n",
       "  [252 252 252]]\n",
       "\n",
       " [[253 253 253]\n",
       "  [254 254 254]\n",
       "  [254 254 254]\n",
       "  ...\n",
       "  [252 252 252]\n",
       "  [252 252 252]\n",
       "  [252 252 252]]\n",
       "\n",
       " ...\n",
       "\n",
       " [[251 251 251]\n",
       "  [252 252 252]\n",
       "  [251 251 251]\n",
       "  ...\n",
       "  [248 248 248]\n",
       "  [248 248 248]\n",
       "  [249 249 249]]\n",
       "\n",
       " [[252 252 252]\n",
       "  [252 252 252]\n",
       "  [250 250 250]\n",
       "  ...\n",
       "  [248 248 248]\n",
       "  [249 249 249]\n",
       "  [248 248 248]]\n",
       "\n",
       " [[252 252 252]\n",
       "  [252 252 252]\n",
       "  [252 252 252]\n",
       "  ...\n",
       "  [249 249 249]\n",
       "  [249 249 249]\n",
       "  [250 250 250]]]</td>\n",
       "                        <td id=\"T_eb2f9384_23d2_11eb_a82f_380025aae843row9_col1\" class=\"data row9 col1\" >2</td>\n",
       "            </tr>\n",
       "    </tbody></table>"
      ],
      "text/plain": [
       "                                               image  label\n",
       "0  [[[254, 254, 254], [253, 253, 253], [254, 254,...      2\n",
       "1  [[[254, 254, 254], [253, 253, 253], [254, 254,...      2\n",
       "2  [[[254, 254, 254], [253, 253, 253], [254, 254,...      0\n",
       "3  [[[253, 253, 253], [253, 253, 253], [254, 254,...      1\n",
       "4  [[[255, 255, 255], [255, 255, 255], [255, 255,...      0\n",
       "5  [[[255, 255, 255], [255, 255, 255], [255, 255,...      1\n",
       "6  [[[253, 253, 253], [253, 253, 253], [254, 254,...      2\n",
       "7  [[[255, 255, 255], [255, 255, 255], [255, 255,...      1\n",
       "8  [[[253, 253, 253], [253, 253, 253], [255, 255,...      2\n",
       "9  [[[253, 253, 253], [254, 254, 254], [254, 254,...      2"
      ]
     },
     "execution_count": 173,
     "metadata": {},
     "output_type": "execute_result"
    }
   ],
   "source": [
    "tfds.as_dataframe(data[\"train\"].take(10))"
   ]
  },
  {
   "cell_type": "code",
   "execution_count": 174,
   "metadata": {},
   "outputs": [
    {
     "data": {
      "text/plain": [
       "<PrefetchDataset shapes: ((None, 300, 300, 3), (None, 3)), types: (tf.float32, tf.int32)>"
      ]
     },
     "execution_count": 174,
     "metadata": {},
     "output_type": "execute_result"
    }
   ],
   "source": [
    "train_data"
   ]
  },
  {
   "cell_type": "markdown",
   "metadata": {
    "id": "d4sSFw6gNxy6"
   },
   "source": [
    "# Exercise"
   ]
  },
  {
   "cell_type": "markdown",
   "metadata": {
    "id": "LMiw4iStCLQR"
   },
   "source": [
    "1. Build a deep CNN model and train it for this binary classification task. Fit the model using the small dataset of 500 samples, *train_data*.\n",
    "\n",
    "What accuracy can your model acheive on the training data?"
   ]
  },
  {
   "cell_type": "code",
   "execution_count": 196,
   "metadata": {
    "id": "UMzYZe2ENtcm"
   },
   "outputs": [],
   "source": [
    "model = tfk.Sequential()\n",
    "# 1st conv module\n",
    "model.add(tfkl.Conv2D(filters = 256, kernel_size=(2,2), strides=(1,1), \n",
    "                      padding=\"same\", activation='relu', input_shape=(300, 300, 3)))\n",
    "model.add(tfkl.MaxPool2D(pool_size=(2,2)))\n",
    "model.add(tfkl.Dropout(0.25))\n",
    "\n",
    "# 2nd conv module\n",
    "model.add(tfkl.Conv2D(filters = 128, kernel_size=2, strides=(1,1), \n",
    "                      padding=\"same\", activation='relu'))\n",
    "model.add(tfkl.MaxPool2D(pool_size=(2,2)))\n",
    "model.add(tfkl.Dropout(0.25))\n",
    "\n",
    "# 3rd conv module\n",
    "model.add(tfkl.Conv2D(filters = 32, kernel_size=(2,2), strides=(1,1), \n",
    "                      padding=\"valid\", activation='relu'))\n",
    "model.add(tfkl.MaxPool2D(pool_size=(2,2)))\n",
    "model.add(tfkl.Dropout(0.25))\n",
    "\n",
    "model.add(tfkl.Flatten())\n",
    "model.add(tfkl.Dense(50, activation='relu'))\n",
    "model.add(tfkl.Dense(3, activation=tf.nn.softmax))\n"
   ]
  },
  {
   "cell_type": "code",
   "execution_count": 197,
   "metadata": {},
   "outputs": [
    {
     "name": "stdout",
     "output_type": "stream",
     "text": [
      "Model: \"sequential_13\"\n",
      "_________________________________________________________________\n",
      "Layer (type)                 Output Shape              Param #   \n",
      "=================================================================\n",
      "conv2d_24 (Conv2D)           (None, 300, 300, 256)     3328      \n",
      "_________________________________________________________________\n",
      "max_pooling2d_24 (MaxPooling (None, 150, 150, 256)     0         \n",
      "_________________________________________________________________\n",
      "dropout_18 (Dropout)         (None, 150, 150, 256)     0         \n",
      "_________________________________________________________________\n",
      "conv2d_25 (Conv2D)           (None, 150, 150, 128)     131200    \n",
      "_________________________________________________________________\n",
      "max_pooling2d_25 (MaxPooling (None, 75, 75, 128)       0         \n",
      "_________________________________________________________________\n",
      "dropout_19 (Dropout)         (None, 75, 75, 128)       0         \n",
      "_________________________________________________________________\n",
      "conv2d_26 (Conv2D)           (None, 74, 74, 32)        16416     \n",
      "_________________________________________________________________\n",
      "max_pooling2d_26 (MaxPooling (None, 37, 37, 32)        0         \n",
      "_________________________________________________________________\n",
      "dropout_20 (Dropout)         (None, 37, 37, 32)        0         \n",
      "_________________________________________________________________\n",
      "flatten_13 (Flatten)         (None, 43808)             0         \n",
      "_________________________________________________________________\n",
      "dense_18 (Dense)             (None, 50)                2190450   \n",
      "_________________________________________________________________\n",
      "dense_19 (Dense)             (None, 3)                 153       \n",
      "=================================================================\n",
      "Total params: 2,341,547\n",
      "Trainable params: 2,341,547\n",
      "Non-trainable params: 0\n",
      "_________________________________________________________________\n"
     ]
    }
   ],
   "source": [
    "model.summary()"
   ]
  },
  {
   "cell_type": "code",
   "execution_count": 198,
   "metadata": {},
   "outputs": [
    {
     "name": "stdout",
     "output_type": "stream",
     "text": [
      "Epoch 1/15\n",
      " 2/32 [>.............................] - ETA: 3s - loss: 9.1093 - categorical_accuracy: 0.3438WARNING:tensorflow:Callbacks method `on_train_batch_end` is slow compared to the batch time (batch time: 0.0520s vs `on_train_batch_end` time: 0.0901s). Check your callbacks.\n"
     ]
    },
    {
     "name": "stderr",
     "output_type": "stream",
     "text": [
      "WARNING:tensorflow:Callbacks method `on_train_batch_end` is slow compared to the batch time (batch time: 0.0520s vs `on_train_batch_end` time: 0.0901s). Check your callbacks.\n"
     ]
    },
    {
     "name": "stdout",
     "output_type": "stream",
     "text": [
      "32/32 [==============================] - 5s 147ms/step - loss: 1.6453 - categorical_accuracy: 0.3320 - val_loss: 1.0987 - val_categorical_accuracy: 0.3281\n",
      "Epoch 2/15\n",
      "32/32 [==============================] - 5s 144ms/step - loss: 1.2034 - categorical_accuracy: 0.4004 - val_loss: 1.0930 - val_categorical_accuracy: 0.3438\n",
      "Epoch 3/15\n",
      "32/32 [==============================] - 5s 144ms/step - loss: 1.0617 - categorical_accuracy: 0.5215 - val_loss: 1.0196 - val_categorical_accuracy: 0.5312\n",
      "Epoch 4/15\n",
      "32/32 [==============================] - 5s 144ms/step - loss: 0.7514 - categorical_accuracy: 0.6973 - val_loss: 0.9689 - val_categorical_accuracy: 0.4219\n",
      "Epoch 5/15\n",
      "32/32 [==============================] - 5s 142ms/step - loss: 0.3637 - categorical_accuracy: 0.8690 - val_loss: 0.5877 - val_categorical_accuracy: 0.7188\n",
      "Epoch 6/15\n",
      "32/32 [==============================] - 5s 145ms/step - loss: 0.1628 - categorical_accuracy: 0.9492 - val_loss: 0.5510 - val_categorical_accuracy: 0.7500\n",
      "Epoch 7/15\n",
      "32/32 [==============================] - 5s 145ms/step - loss: 0.0355 - categorical_accuracy: 0.9883 - val_loss: 0.4364 - val_categorical_accuracy: 0.8125\n",
      "Epoch 8/15\n",
      "32/32 [==============================] - 5s 144ms/step - loss: 0.0693 - categorical_accuracy: 0.9805 - val_loss: 0.6340 - val_categorical_accuracy: 0.7656\n",
      "Epoch 9/15\n",
      "32/32 [==============================] - 4s 139ms/step - loss: 0.0213 - categorical_accuracy: 0.9922 - val_loss: 0.5933 - val_categorical_accuracy: 0.8125\n",
      "Epoch 10/15\n",
      "32/32 [==============================] - 4s 136ms/step - loss: 0.6380 - categorical_accuracy: 0.9583 - val_loss: 0.8151 - val_categorical_accuracy: 0.7344\n",
      "Epoch 11/15\n",
      "32/32 [==============================] - 4s 136ms/step - loss: 0.0311 - categorical_accuracy: 0.9961 - val_loss: 0.7632 - val_categorical_accuracy: 0.7344\n",
      "Epoch 12/15\n",
      "32/32 [==============================] - 4s 135ms/step - loss: 0.0225 - categorical_accuracy: 0.9980 - val_loss: 0.9707 - val_categorical_accuracy: 0.7344\n",
      "Epoch 13/15\n",
      "32/32 [==============================] - 4s 135ms/step - loss: 0.0104 - categorical_accuracy: 0.9961 - val_loss: 0.9807 - val_categorical_accuracy: 0.8203\n",
      "Epoch 14/15\n",
      "32/32 [==============================] - 4s 136ms/step - loss: 0.0227 - categorical_accuracy: 0.9922 - val_loss: 1.1707 - val_categorical_accuracy: 0.7188\n",
      "Epoch 15/15\n",
      "32/32 [==============================] - 4s 133ms/step - loss: 8.9397e-04 - categorical_accuracy: 1.0000 - val_loss: 2.0177 - val_categorical_accuracy: 0.6797\n"
     ]
    }
   ],
   "source": [
    "model.compile(\n",
    "    optimizer=tfk.optimizers.RMSprop(),\n",
    "    loss=tfk.losses.CategoricalCrossentropy(),\n",
    "    metrics=[tfk.metrics.CategoricalAccuracy()]\n",
    ")\n",
    "\n",
    "results = model.fit(train_data, epochs=15, steps_per_epoch=32, validation_data=test_data, \n",
    "                    validation_steps=8)"
   ]
  },
  {
   "cell_type": "code",
   "execution_count": 199,
   "metadata": {},
   "outputs": [
    {
     "data": {
      "image/png": "[encoded data removed]",
      "text/plain": [
       "<Figure size 432x288 with 1 Axes>"
      ]
     },
     "metadata": {
      "needs_background": "light"
     },
     "output_type": "display_data"
    }
   ],
   "source": [
    "plt.plot(results.history[\"loss\"])\n",
    "plt.plot(results.history[\"val_loss\"])\n",
    "plt.legend(labels=[\"train\", \"val\"])\n",
    "plt.title(\"Loss as a function of model epochs\")\n",
    "plt.show()"
   ]
  },
  {
   "cell_type": "code",
   "execution_count": 200,
   "metadata": {},
   "outputs": [
    {
     "data": {
      "image/png": "[encoded data removed]",
      "text/plain": [
       "<Figure size 432x288 with 1 Axes>"
      ]
     },
     "metadata": {
      "needs_background": "light"
     },
     "output_type": "display_data"
    }
   ],
   "source": [
    "plt.plot(results.history[\"categorical_accuracy\"])\n",
    "plt.plot(results.history[\"val_categorical_accuracy\"])\n",
    "plt.legend(labels=[\"train\", \"val\"])\n",
    "plt.title(\"Accuracy as a function of model epochs\")\n",
    "plt.show()"
   ]
  },
  {
   "cell_type": "markdown",
   "metadata": {
    "id": "V78s2BoTCNoz"
   },
   "source": [
    " 2. Now use transfer learning by incorporating the pretrained VGG16 model."
   ]
  },
  {
   "cell_type": "code",
   "execution_count": 181,
   "metadata": {
    "id": "5fpD87Dz-yIM"
   },
   "outputs": [],
   "source": [
    "from tensorflow.keras.applications import VGG16"
   ]
  },
  {
   "cell_type": "code",
   "execution_count": 182,
   "metadata": {
    "id": "8aVDe90h-61E"
   },
   "outputs": [],
   "source": [
    "conv_base = VGG16(weights=\"imagenet\",include_top=False,input_shape=(300,300,3))"
   ]
  },
  {
   "cell_type": "code",
   "execution_count": 183,
   "metadata": {},
   "outputs": [
    {
     "name": "stdout",
     "output_type": "stream",
     "text": [
      "Model: \"vgg16\"\n",
      "_________________________________________________________________\n",
      "Layer (type)                 Output Shape              Param #   \n",
      "=================================================================\n",
      "input_1 (InputLayer)         [(None, 300, 300, 3)]     0         \n",
      "_________________________________________________________________\n",
      "block1_conv1 (Conv2D)        (None, 300, 300, 64)      1792      \n",
      "_________________________________________________________________\n",
      "block1_conv2 (Conv2D)        (None, 300, 300, 64)      36928     \n",
      "_________________________________________________________________\n",
      "block1_pool (MaxPooling2D)   (None, 150, 150, 64)      0         \n",
      "_________________________________________________________________\n",
      "block2_conv1 (Conv2D)        (None, 150, 150, 128)     73856     \n",
      "_________________________________________________________________\n",
      "block2_conv2 (Conv2D)        (None, 150, 150, 128)     147584    \n",
      "_________________________________________________________________\n",
      "block2_pool (MaxPooling2D)   (None, 75, 75, 128)       0         \n",
      "_________________________________________________________________\n",
      "block3_conv1 (Conv2D)        (None, 75, 75, 256)       295168    \n",
      "_________________________________________________________________\n",
      "block3_conv2 (Conv2D)        (None, 75, 75, 256)       590080    \n",
      "_________________________________________________________________\n",
      "block3_conv3 (Conv2D)        (None, 75, 75, 256)       590080    \n",
      "_________________________________________________________________\n",
      "block3_pool (MaxPooling2D)   (None, 37, 37, 256)       0         \n",
      "_________________________________________________________________\n",
      "block4_conv1 (Conv2D)        (None, 37, 37, 512)       1180160   \n",
      "_________________________________________________________________\n",
      "block4_conv2 (Conv2D)        (None, 37, 37, 512)       2359808   \n",
      "_________________________________________________________________\n",
      "block4_conv3 (Conv2D)        (None, 37, 37, 512)       2359808   \n",
      "_________________________________________________________________\n",
      "block4_pool (MaxPooling2D)   (None, 18, 18, 512)       0         \n",
      "_________________________________________________________________\n",
      "block5_conv1 (Conv2D)        (None, 18, 18, 512)       2359808   \n",
      "_________________________________________________________________\n",
      "block5_conv2 (Conv2D)        (None, 18, 18, 512)       2359808   \n",
      "_________________________________________________________________\n",
      "block5_conv3 (Conv2D)        (None, 18, 18, 512)       2359808   \n",
      "_________________________________________________________________\n",
      "block5_pool (MaxPooling2D)   (None, 9, 9, 512)         0         \n",
      "=================================================================\n",
      "Total params: 14,714,688\n",
      "Trainable params: 14,714,688\n",
      "Non-trainable params: 0\n",
      "_________________________________________________________________\n"
     ]
    }
   ],
   "source": [
    "conv_base.summary()"
   ]
  },
  {
   "cell_type": "markdown",
   "metadata": {
    "id": "KXVbPif8BrXs"
   },
   "source": [
    "Build a Sequential model, using our VGG16 base. Make sure the freeze the weights of the convolutional backbone, but leave the remainder of the network weights as learnable. Fit this model and compare the overall accuracy as well as the loss curves (efficiency).\n"
   ]
  },
  {
   "cell_type": "code",
   "execution_count": 184,
   "metadata": {
    "id": "u1Tp_sHrCiIt"
   },
   "outputs": [],
   "source": [
    "model = tfk.Sequential()\n",
    "model.add(conv_base)\n",
    "model.layers[0].trainable = False"
   ]
  },
  {
   "cell_type": "code",
   "execution_count": 185,
   "metadata": {
    "id": "u1Tp_sHrCiIt"
   },
   "outputs": [],
   "source": [
    "model.add(tfkl.Flatten())\n",
    "model.add(tfkl.Dense(3, activation='softmax'))"
   ]
  },
  {
   "cell_type": "code",
   "execution_count": 186,
   "metadata": {},
   "outputs": [
    {
     "name": "stdout",
     "output_type": "stream",
     "text": [
      "Model: \"sequential_11\"\n",
      "_________________________________________________________________\n",
      "Layer (type)                 Output Shape              Param #   \n",
      "=================================================================\n",
      "vgg16 (Functional)           (None, 9, 9, 512)         14714688  \n",
      "_________________________________________________________________\n",
      "flatten_11 (Flatten)         (None, 41472)             0         \n",
      "_________________________________________________________________\n",
      "dense_15 (Dense)             (None, 3)                 124419    \n",
      "=================================================================\n",
      "Total params: 14,839,107\n",
      "Trainable params: 124,419\n",
      "Non-trainable params: 14,714,688\n",
      "_________________________________________________________________\n"
     ]
    }
   ],
   "source": [
    "model.summary()"
   ]
  },
  {
   "cell_type": "code",
   "execution_count": 188,
   "metadata": {},
   "outputs": [
    {
     "name": "stdout",
     "output_type": "stream",
     "text": [
      "Epoch 1/50\n",
      "32/32 [==============================] - 3s 87ms/step - loss: 0.5227 - categorical_accuracy: 0.9746 - val_loss: 0.1858 - val_categorical_accuracy: 0.9141\n",
      "Epoch 2/50\n",
      "32/32 [==============================] - 3s 81ms/step - loss: 4.2186e-04 - categorical_accuracy: 1.0000 - val_loss: 0.2691 - val_categorical_accuracy: 0.8828\n",
      "Epoch 3/50\n",
      "32/32 [==============================] - 3s 81ms/step - loss: 0.2015 - categorical_accuracy: 0.9746 - val_loss: 0.2540 - val_categorical_accuracy: 0.9062\n",
      "Epoch 4/50\n",
      "32/32 [==============================] - 3s 81ms/step - loss: 2.1191e-04 - categorical_accuracy: 1.0000 - val_loss: 0.1781 - val_categorical_accuracy: 0.9219\n",
      "Epoch 5/50\n",
      "32/32 [==============================] - 3s 93ms/step - loss: 7.4387e-05 - categorical_accuracy: 1.0000 - val_loss: 0.4616 - val_categorical_accuracy: 0.8594\n",
      "Epoch 6/50\n",
      "32/32 [==============================] - 3s 82ms/step - loss: 0.1884 - categorical_accuracy: 0.9727 - val_loss: 0.4686 - val_categorical_accuracy: 0.8750\n",
      "Epoch 7/50\n",
      "32/32 [==============================] - 3s 81ms/step - loss: 1.0200e-04 - categorical_accuracy: 1.0000 - val_loss: 0.3826 - val_categorical_accuracy: 0.8672\n",
      "Epoch 8/50\n",
      "32/32 [==============================] - 3s 81ms/step - loss: 2.5799e-05 - categorical_accuracy: 1.0000 - val_loss: 0.2754 - val_categorical_accuracy: 0.8906\n",
      "Epoch 9/50\n",
      "32/32 [==============================] - 3s 82ms/step - loss: 1.2232e-05 - categorical_accuracy: 1.0000 - val_loss: 0.1783 - val_categorical_accuracy: 0.9219\n",
      "Epoch 10/50\n",
      "32/32 [==============================] - 3s 81ms/step - loss: 5.7006e-06 - categorical_accuracy: 1.0000 - val_loss: 0.2829 - val_categorical_accuracy: 0.8906\n",
      "Epoch 11/50\n",
      "32/32 [==============================] - 3s 81ms/step - loss: 0.0895 - categorical_accuracy: 0.9883 - val_loss: 0.3343 - val_categorical_accuracy: 0.9062\n",
      "Epoch 12/50\n",
      "32/32 [==============================] - 3s 82ms/step - loss: 4.0378e-05 - categorical_accuracy: 1.0000 - val_loss: 0.2932 - val_categorical_accuracy: 0.8984\n",
      "Epoch 13/50\n",
      "32/32 [==============================] - 3s 81ms/step - loss: 5.5177e-06 - categorical_accuracy: 1.0000 - val_loss: 0.2626 - val_categorical_accuracy: 0.8984\n",
      "Epoch 14/50\n",
      "32/32 [==============================] - 3s 81ms/step - loss: 1.4077e-06 - categorical_accuracy: 1.0000 - val_loss: 0.2131 - val_categorical_accuracy: 0.9219\n",
      "Epoch 15/50\n",
      "32/32 [==============================] - 3s 81ms/step - loss: 6.5423e-07 - categorical_accuracy: 1.0000 - val_loss: 0.0869 - val_categorical_accuracy: 0.9688\n",
      "Epoch 16/50\n",
      "32/32 [==============================] - 3s 82ms/step - loss: 0.0040 - categorical_accuracy: 1.0000 - val_loss: 0.9127 - val_categorical_accuracy: 0.8125\n",
      "Epoch 17/50\n",
      "32/32 [==============================] - 3s 82ms/step - loss: 3.0597e-06 - categorical_accuracy: 1.0000 - val_loss: 0.8116 - val_categorical_accuracy: 0.8438\n",
      "Epoch 18/50\n",
      "32/32 [==============================] - 3s 81ms/step - loss: 1.1404e-06 - categorical_accuracy: 1.0000 - val_loss: 0.6407 - val_categorical_accuracy: 0.8672\n",
      "Epoch 19/50\n",
      "32/32 [==============================] - 3s 81ms/step - loss: 3.1222e-07 - categorical_accuracy: 1.0000 - val_loss: 0.4722 - val_categorical_accuracy: 0.8828\n",
      "Epoch 20/50\n",
      "32/32 [==============================] - 3s 81ms/step - loss: 1.1826e-07 - categorical_accuracy: 1.0000 - val_loss: 0.3021 - val_categorical_accuracy: 0.9062\n",
      "Epoch 21/50\n",
      "32/32 [==============================] - 3s 81ms/step - loss: 5.3784e-08 - categorical_accuracy: 1.0000 - val_loss: 0.3154 - val_categorical_accuracy: 0.8984\n",
      "Epoch 22/50\n",
      "32/32 [==============================] - 3s 82ms/step - loss: 1.7462e-08 - categorical_accuracy: 1.0000 - val_loss: 0.3489 - val_categorical_accuracy: 0.8906\n",
      "Epoch 23/50\n",
      "32/32 [==============================] - 3s 81ms/step - loss: 0.0091 - categorical_accuracy: 0.9961 - val_loss: 0.1369 - val_categorical_accuracy: 0.9609\n",
      "Epoch 24/50\n",
      "32/32 [==============================] - 3s 81ms/step - loss: 3.4996e-06 - categorical_accuracy: 1.0000 - val_loss: 0.1357 - val_categorical_accuracy: 0.9609\n",
      "Epoch 25/50\n",
      "32/32 [==============================] - 3s 81ms/step - loss: 1.2410e-06 - categorical_accuracy: 1.0000 - val_loss: 0.1580 - val_categorical_accuracy: 0.9531\n",
      "Epoch 26/50\n",
      "32/32 [==============================] - 3s 82ms/step - loss: 1.5669e-07 - categorical_accuracy: 1.0000 - val_loss: 0.1992 - val_categorical_accuracy: 0.9453\n",
      "Epoch 27/50\n",
      "32/32 [==============================] - 3s 83ms/step - loss: 7.4506e-08 - categorical_accuracy: 1.0000 - val_loss: 0.2751 - val_categorical_accuracy: 0.9141\n",
      "Epoch 28/50\n",
      "32/32 [==============================] - 3s 82ms/step - loss: 1.6764e-08 - categorical_accuracy: 1.0000 - val_loss: 0.3393 - val_categorical_accuracy: 0.8984\n",
      "Epoch 29/50\n",
      "32/32 [==============================] - 3s 81ms/step - loss: 1.0943e-08 - categorical_accuracy: 1.0000 - val_loss: 0.2986 - val_categorical_accuracy: 0.9062\n",
      "Epoch 30/50\n",
      "32/32 [==============================] - 3s 81ms/step - loss: 8.2784e-09 - categorical_accuracy: 1.0000 - val_loss: 0.2866 - val_categorical_accuracy: 0.9141\n",
      "Epoch 31/50\n",
      "32/32 [==============================] - 3s 83ms/step - loss: 6.5193e-09 - categorical_accuracy: 1.0000 - val_loss: 0.3728 - val_categorical_accuracy: 0.8984\n",
      "Epoch 32/50\n",
      "32/32 [==============================] - 3s 83ms/step - loss: 3.2596e-09 - categorical_accuracy: 1.0000 - val_loss: 0.3522 - val_categorical_accuracy: 0.8984\n",
      "Epoch 33/50\n",
      "32/32 [==============================] - 3s 82ms/step - loss: 2.2585e-08 - categorical_accuracy: 1.0000 - val_loss: 0.3131 - val_categorical_accuracy: 0.9062\n",
      "Epoch 34/50\n",
      "32/32 [==============================] - 3s 82ms/step - loss: 1.3970e-09 - categorical_accuracy: 1.0000 - val_loss: 0.3166 - val_categorical_accuracy: 0.9062\n",
      "Epoch 35/50\n",
      "32/32 [==============================] - 3s 81ms/step - loss: 6.6227e-09 - categorical_accuracy: 1.0000 - val_loss: 0.1790 - val_categorical_accuracy: 0.9453\n",
      "Epoch 36/50\n",
      "32/32 [==============================] - 3s 81ms/step - loss: 2.5611e-09 - categorical_accuracy: 1.0000 - val_loss: 0.3380 - val_categorical_accuracy: 0.8984\n",
      "Epoch 37/50\n",
      "32/32 [==============================] - 3s 81ms/step - loss: 1.1642e-09 - categorical_accuracy: 1.0000 - val_loss: 0.3533 - val_categorical_accuracy: 0.8984\n",
      "Epoch 38/50\n",
      "32/32 [==============================] - 3s 82ms/step - loss: 5.1223e-09 - categorical_accuracy: 1.0000 - val_loss: 0.3395 - val_categorical_accuracy: 0.8984\n",
      "Epoch 39/50\n",
      "32/32 [==============================] - 3s 82ms/step - loss: 6.9849e-10 - categorical_accuracy: 1.0000 - val_loss: 0.3319 - val_categorical_accuracy: 0.9062\n",
      "Epoch 40/50\n",
      "32/32 [==============================] - 3s 81ms/step - loss: 2.6018e-09 - categorical_accuracy: 1.0000 - val_loss: 0.2516 - val_categorical_accuracy: 0.9219\n",
      "Epoch 41/50\n",
      "32/32 [==============================] - 3s 82ms/step - loss: 1.1642e-09 - categorical_accuracy: 1.0000 - val_loss: 0.3496 - val_categorical_accuracy: 0.8984\n",
      "Epoch 42/50\n",
      "32/32 [==============================] - 3s 83ms/step - loss: 4.6566e-10 - categorical_accuracy: 1.0000 - val_loss: 0.3580 - val_categorical_accuracy: 0.8984\n",
      "Epoch 43/50\n",
      "32/32 [==============================] - 3s 82ms/step - loss: 6.9849e-10 - categorical_accuracy: 1.0000 - val_loss: 0.3436 - val_categorical_accuracy: 0.8984\n",
      "Epoch 44/50\n",
      "32/32 [==============================] - 3s 82ms/step - loss: 6.9849e-10 - categorical_accuracy: 1.0000 - val_loss: 0.3426 - val_categorical_accuracy: 0.8984\n",
      "Epoch 45/50\n",
      "32/32 [==============================] - 3s 81ms/step - loss: 1.4192e-09 - categorical_accuracy: 1.0000 - val_loss: 0.3033 - val_categorical_accuracy: 0.9062\n",
      "Epoch 46/50\n",
      "32/32 [==============================] - 3s 81ms/step - loss: 6.9849e-10 - categorical_accuracy: 1.0000 - val_loss: 0.3566 - val_categorical_accuracy: 0.8984\n",
      "Epoch 47/50\n",
      "32/32 [==============================] - 3s 81ms/step - loss: 0.0000e+00 - categorical_accuracy: 1.0000 - val_loss: 0.3715 - val_categorical_accuracy: 0.8984\n",
      "Epoch 48/50\n",
      "32/32 [==============================] - 3s 82ms/step - loss: 6.9849e-10 - categorical_accuracy: 1.0000 - val_loss: 0.3572 - val_categorical_accuracy: 0.8984\n",
      "Epoch 49/50\n",
      "32/32 [==============================] - 3s 82ms/step - loss: 2.3283e-10 - categorical_accuracy: 1.0000 - val_loss: 0.4431 - val_categorical_accuracy: 0.8906\n",
      "Epoch 50/50\n",
      "32/32 [==============================] - 3s 81ms/step - loss: 7.0958e-10 - categorical_accuracy: 1.0000 - val_loss: 0.3094 - val_categorical_accuracy: 0.9062\n"
     ]
    }
   ],
   "source": [
    "model.compile(\n",
    "    optimizer=tfk.optimizers.RMSprop(),\n",
    "    loss=tfk.losses.CategoricalCrossentropy(),\n",
    "    metrics=[tfk.metrics.CategoricalAccuracy()]\n",
    ")\n",
    "\n",
    "results = model.fit(train_data, steps_per_epoch=32, epochs=50, validation_data=test_data, validation_steps = 8)"
   ]
  },
  {
   "cell_type": "code",
   "execution_count": 189,
   "metadata": {},
   "outputs": [
    {
     "data": {
      "image/png": "[encoded data removed]",
      "text/plain": [
       "<Figure size 432x288 with 1 Axes>"
      ]
     },
     "metadata": {
      "needs_background": "light"
     },
     "output_type": "display_data"
    }
   ],
   "source": [
    "plt.plot(results.history[\"loss\"])\n",
    "plt.plot(results.history[\"val_loss\"])\n",
    "plt.legend(labels=[\"train\", \"val\"])\n",
    "plt.title(\"Loss as a function of model epochs\")\n",
    "plt.show()"
   ]
  },
  {
   "cell_type": "code",
   "execution_count": 191,
   "metadata": {},
   "outputs": [
    {
     "data": {
      "image/png": "[encoded data removed]",
      "text/plain": [
       "<Figure size 432x288 with 1 Axes>"
      ]
     },
     "metadata": {
      "needs_background": "light"
     },
     "output_type": "display_data"
    }
   ],
   "source": [
    "plt.plot(results.history[\"categorical_accuracy\"])\n",
    "plt.plot(results.history[\"val_categorical_accuracy\"])\n",
    "plt.legend(labels=[\"train\", \"val\"])\n",
    "plt.title(\"Accuracy as a function of model epochs\")\n",
    "plt.show()"
   ]
  }
 ],
 "metadata": {
  "colab": {
   "name": "CNNs Lab.ipynb",
   "provenance": []
  },
  "kernelspec": {
   "display_name": "Tensorflow 2",
   "language": "python",
   "name": "tf"
  },
  "language_info": {
   "codemirror_mode": {
    "name": "ipython",
    "version": 3
   },
   "file_extension": ".py",
   "mimetype": "text/x-python",
   "name": "python",
   "nbconvert_exporter": "python",
   "pygments_lexer": "ipython3",
   "version": "3.8.5"
  }
 },
 "nbformat": 4,
 "nbformat_minor": 4
}
